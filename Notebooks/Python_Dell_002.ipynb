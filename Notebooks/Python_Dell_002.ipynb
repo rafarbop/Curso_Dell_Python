{
 "cells": [
  {
   "cell_type": "markdown",
   "id": "97173df6",
   "metadata": {},
   "source": [
    "## Curso de Introdução à Lógica de Programação em Python\n",
    "\n",
    "#### Introdução ao Python e Noções Gerais da Linguagem"
   ]
  },
  {
   "cell_type": "code",
   "execution_count": 3,
   "id": "16e0cebf",
   "metadata": {},
   "outputs": [],
   "source": [
    "nome_usuario = input('Digite seu nome')\n",
    "peso_usuario = float(input('Digite seu peso: '))\n",
    "altura_usuario = float(input('Digite sua altura: '))\n",
    "idade_usuario = int(input('Digite sua idade: '))\n",
    "aprendendo_python = Truef"
   ]
  },
  {
   "cell_type": "code",
   "execution_count": 9,
   "id": "8f731554",
   "metadata": {},
   "outputs": [
    {
     "data": {
      "text/plain": [
       "(float, float, int, bool, str)"
      ]
     },
     "execution_count": 9,
     "metadata": {},
     "output_type": "execute_result"
    }
   ],
   "source": [
    "type(peso_usuario),type(altura_usuario),type(idade_usuario),type(aprendendo_python),type(nome_usuario)"
   ]
  },
  {
   "cell_type": "code",
   "execution_count": null,
   "id": "573d8b7c",
   "metadata": {},
   "outputs": [],
   "source": [
    "print(f'Seu nome é: {nome_usuario}')\n",
    "print(f'Seu peso é: {peso_usuario}')\n",
    "print(f'Sua altura é: {altura_usuario}')\n",
    "print(f'Seu idade é: {idade_usuario}')"
   ]
  }
 ],
 "metadata": {
  "kernelspec": {
   "display_name": "Python 3 (ipykernel)",
   "language": "python",
   "name": "python3"
  },
  "language_info": {
   "codemirror_mode": {
    "name": "ipython",
    "version": 3
   },
   "file_extension": ".py",
   "mimetype": "text/x-python",
   "name": "python",
   "nbconvert_exporter": "python",
   "pygments_lexer": "ipython3",
   "version": "3.9.5"
  }
 },
 "nbformat": 4,
 "nbformat_minor": 5
}
