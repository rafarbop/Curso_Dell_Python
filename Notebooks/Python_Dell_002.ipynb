{
 "cells": [
  {
   "cell_type": "markdown",
   "id": "cb4114db",
   "metadata": {},
   "source": [
    "## Curso de Introdução à Lógica de Programação em Python\n",
    "\n",
    "#### Introdução ao Python e Noções Gerais da Linguagem"
   ]
  },
  {
   "cell_type": "code",
   "execution_count": 3,
   "id": "ca342b9c",
   "metadata": {},
   "outputs": [],
   "source": [
    "nome_usuario = input('Digite seu nome')\n",
    "peso_usuario = float(input('Digite seu peso: '))\n",
    "altura_usuario = float(input('Digite sua altura: '))\n",
    "idade_usuario = int(input('Digite sua idade: '))\n",
    "aprendendo_python = True"
   ]
  },
  {
   "cell_type": "code",
   "execution_count": 9,
   "id": "a46a203a",
   "metadata": {},
   "outputs": [
    {
     "data": {
      "text/plain": [
       "(float, float, int, bool, str)"
      ]
     },
     "execution_count": 9,
     "metadata": {},
     "output_type": "execute_result"
    }
   ],
   "source": [
    "type(peso_usuario),type(altura_usuario),type(idade_usuario),type(aprendendo_python),type(nome_usuario)"
   ]
  },
  {
   "cell_type": "code",
   "execution_count": null,
   "id": "63830989",
   "metadata": {},
   "outputs": [],
   "source": [
    "print(f'Seu nome é: {nome_usuario}')\n",
    "print(f'Seu peso é: {peso_usuario}')\n",
    "print(f'Sua altura é: {altura_usuario}')\n",
    "print(f'Seu idade é: {idade_usuario}')"
   ]
  }
 ],
 "metadata": {
  "interpreter": {
   "hash": "916dbcbb3f70747c44a77c7bcd40155683ae19c65e1c03b4aa3499c5328201f1"
  },
  "kernelspec": {
   "display_name": "Python 3",
   "language": "python",
   "name": "python3"
  },
  "language_info": {
   "codemirror_mode": {
    "name": "ipython",
    "version": 3
   },
   "file_extension": ".py",
   "mimetype": "text/x-python",
   "name": "python",
   "nbconvert_exporter": "python",
   "pygments_lexer": "ipython3",
   "version": "3.8.10"
  }
 },
 "nbformat": 4,
 "nbformat_minor": 5
}
