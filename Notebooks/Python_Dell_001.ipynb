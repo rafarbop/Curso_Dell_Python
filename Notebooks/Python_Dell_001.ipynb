{
 "cells": [
  {
   "cell_type": "markdown",
<<<<<<< HEAD
   "id": "cb4114db",
=======
   "id": "97173df6",
>>>>>>> b4bb3f2cdd7fad1f1fcb7ed988cf288f2212b894
   "metadata": {},
   "source": [
    "## Curso de Introdução à Lógica de Programação em Python\n",
    "\n",
    "#### Introdução ao Python e Noções Gerais da Linguagem"
   ]
  },
  {
   "cell_type": "code",
<<<<<<< HEAD
   "execution_count": 1,
   "id": "46d14fbe-fd5f-4df4-b094-ec8b23599b03",
=======
   "execution_count": 3,
   "id": "16e0cebf",
>>>>>>> b4bb3f2cdd7fad1f1fcb7ed988cf288f2212b894
   "metadata": {},
   "outputs": [],
   "source": [
    "peso_usuario = 80.3\n",
    "altura_usuario = 1.72\n",
    "idade_usuario = 34\n",
    "aprendendo_python = True\n",
    "nome_usuario = 'Rafael Carmo'"
   ]
  },
  {
   "cell_type": "code",
<<<<<<< HEAD
   "execution_count": 2,
   "id": "78ac259d-a4aa-4d8d-95e4-8d0e32b9c8f2",
=======
   "execution_count": 9,
   "id": "8f731554",
>>>>>>> b4bb3f2cdd7fad1f1fcb7ed988cf288f2212b894
   "metadata": {},
   "outputs": [
    {
     "data": {
      "text/plain": [
       "(float, float, int, bool, str)"
      ]
     },
<<<<<<< HEAD
     "execution_count": 2,
=======
     "execution_count": 9,
>>>>>>> b4bb3f2cdd7fad1f1fcb7ed988cf288f2212b894
     "metadata": {},
     "output_type": "execute_result"
    }
   ],
   "source": [
    "type(peso_usuario),type(altura_usuario),type(idade_usuario),type(aprendendo_python),type(nome_usuario)"
   ]
  },
  {
   "cell_type": "code",
   "execution_count": null,
<<<<<<< HEAD
   "id": "ca342b9c",
   "metadata": {},
   "outputs": [],
   "source": [
    "nome_usuario = input('Digite seu nome')\n",
    "peso_usuario = float(input('Digite seu peso: '))\n",
    "altura_usuario = float(input('Digite sua altura: '))\n",
    "idade_usuario = int(input('Digite sua idade: '))\n",
    "aprendendo_python = True"
   ]
  },
  {
   "cell_type": "code",
   "execution_count": null,
   "id": "a46a203a",
   "metadata": {},
   "outputs": [],
   "source": [
    "type(peso_usuario),type(altura_usuario),type(idade_usuario),type(aprendendo_python),type(nome_usuario)"
   ]
  },
  {
   "cell_type": "code",
   "execution_count": null,
   "id": "63830989",
   "metadata": {},
   "outputs": [],
   "source": [
    "print(f'Seu nome é: {nome_usuario}')\n",
    "print(f'Seu peso é: {peso_usuario}')\n",
    "print(f'Sua altura é: {altura_usuario}')\n",
    "print(f'Seu idade é: {idade_usuario}')"
=======
   "id": "573d8b7c",
   "metadata": {},
   "outputs": [],
   "source": [
    "a"
>>>>>>> b4bb3f2cdd7fad1f1fcb7ed988cf288f2212b894
   ]
  }
 ],
 "metadata": {
<<<<<<< HEAD
  "interpreter": {
   "hash": "916dbcbb3f70747c44a77c7bcd40155683ae19c65e1c03b4aa3499c5328201f1"
  },
  "kernelspec": {
   "display_name": "Python 3",
=======
  "kernelspec": {
   "display_name": "Python 3 (ipykernel)",
>>>>>>> b4bb3f2cdd7fad1f1fcb7ed988cf288f2212b894
   "language": "python",
   "name": "python3"
  },
  "language_info": {
   "codemirror_mode": {
    "name": "ipython",
    "version": 3
   },
   "file_extension": ".py",
   "mimetype": "text/x-python",
   "name": "python",
   "nbconvert_exporter": "python",
   "pygments_lexer": "ipython3",
<<<<<<< HEAD
   "version": "3.8.10"
=======
   "version": "3.9.5"
>>>>>>> b4bb3f2cdd7fad1f1fcb7ed988cf288f2212b894
  }
 },
 "nbformat": 4,
 "nbformat_minor": 5
}
