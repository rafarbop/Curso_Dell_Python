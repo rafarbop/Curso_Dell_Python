{
 "cells": [
  {
   "cell_type": "markdown",
   "id": "3e714fee-6c79-405d-81af-4ce435e0a58e",
   "metadata": {},
   "source": [
    "## Curso de Introdução à Lógica de Programação em Python\n",
    "\n",
    "#### Introdução ao Consjuntos em Python - SET"
   ]
  },
  {
   "cell_type": "code",
   "execution_count": 1,
   "id": "d1c7f5f7-3824-47f5-a9dd-ee92f9e3ff6c",
   "metadata": {},
   "outputs": [
    {
     "data": {
      "text/plain": [
       "[2, 'a', {'a': 2}, []]"
      ]
     },
     "execution_count": 1,
     "metadata": {},
     "output_type": "execute_result"
    }
   ],
   "source": [
    "a = [2,'a',{'a':2},[]]\n",
    "a"
   ]
  },
  {
   "cell_type": "code",
   "execution_count": 2,
   "id": "cf78d756-1d74-47f7-a1cc-e4a2f44596cb",
   "metadata": {},
   "outputs": [
    {
     "data": {
      "text/plain": [
       "list"
      ]
     },
     "execution_count": 2,
     "metadata": {},
     "output_type": "execute_result"
    }
   ],
   "source": [
    "type(a)"
   ]
  },
  {
   "cell_type": "code",
   "execution_count": 3,
   "id": "cf64e61b-7646-4c69-a64f-2a44620054db",
   "metadata": {},
   "outputs": [
    {
     "data": {
      "text/plain": [
       "{2, 'a', b'123', 'rafa'}"
      ]
     },
     "execution_count": 3,
     "metadata": {},
     "output_type": "execute_result"
    }
   ],
   "source": [
    "b = {2,'a',b'123',u'rafa'}\n",
    "b"
   ]
  },
  {
   "cell_type": "code",
   "execution_count": 4,
   "id": "551db55b-2266-43eb-a171-e0f7b39b6d60",
   "metadata": {},
   "outputs": [
    {
     "data": {
      "text/plain": [
       "set"
      ]
     },
     "execution_count": 4,
     "metadata": {},
     "output_type": "execute_result"
    }
   ],
   "source": [
    "type(b)"
   ]
  },
  {
   "cell_type": "code",
   "execution_count": 5,
   "id": "b33b562e-0d09-40bc-9eb3-53ada3dba34f",
   "metadata": {},
   "outputs": [
    {
     "data": {
      "text/plain": [
       "b'123'"
      ]
     },
     "execution_count": 5,
     "metadata": {},
     "output_type": "execute_result"
    }
   ],
   "source": [
    "b.pop()"
   ]
  },
  {
   "cell_type": "code",
   "execution_count": 6,
   "id": "2bb6c5da-1d82-42bd-9faf-b5a68c5153ee",
   "metadata": {},
   "outputs": [
    {
     "data": {
      "text/plain": [
       "{2, 'a', 'rafa'}"
      ]
     },
     "execution_count": 6,
     "metadata": {},
     "output_type": "execute_result"
    }
   ],
   "source": [
    "b"
   ]
  },
  {
   "cell_type": "code",
   "execution_count": 7,
   "id": "d598d513-fdbf-4081-91ff-f8c7103cb505",
   "metadata": {},
   "outputs": [
    {
     "data": {
      "text/plain": [
       "{' ', 'B', 'O', 'P', 'R', 'a', 'e', 'f', 'i', 'l', 'n', 'o', 'r', 'u', 'v'}"
      ]
     },
     "execution_count": 7,
     "metadata": {},
     "output_type": "execute_result"
    }
   ],
   "source": [
    "setRafa = set('Rafael Bruno Oliveira Paiva')\n",
    "setRafa"
   ]
  },
  {
   "cell_type": "code",
   "execution_count": 8,
   "id": "7c2abbae-260d-423e-b263-d98e80cd506d",
   "metadata": {},
   "outputs": [
    {
     "data": {
      "text/plain": [
       "(27, 15)"
      ]
     },
     "execution_count": 8,
     "metadata": {},
     "output_type": "execute_result"
    }
   ],
   "source": [
    "len('Rafael Bruno Oliveira Paiva'),len(setRafa)"
   ]
  },
  {
   "cell_type": "code",
   "execution_count": 9,
   "id": "75aa9284-4232-4b53-861f-8339b0e15747",
   "metadata": {},
   "outputs": [],
   "source": [
    "conj = {'a'}\n",
    "conj|{'b'}\n",
    "conj.discard('dasas')"
   ]
  },
  {
   "cell_type": "code",
   "execution_count": 10,
   "id": "bcd92116-2767-47c5-891d-c6fae510a0a7",
   "metadata": {},
   "outputs": [
    {
     "data": {
      "text/plain": [
       "{'baião', 'bife', 'frango a passarinha', 'ovo'}"
      ]
     },
     "execution_count": 10,
     "metadata": {},
     "output_type": "execute_result"
    }
   ],
   "source": [
    "pratos = {'bife','ovo','frango a passarinha','baião'}\n",
    "pratos"
   ]
  },
  {
   "cell_type": "code",
   "execution_count": 11,
   "id": "f9811ee8-6849-426b-94e9-702a82c12f15",
   "metadata": {},
   "outputs": [],
   "source": [
    " respostas = ['Manaus', 'Brasília', 'Fortaleza', 'Manaus', 'Rio de Janeiro',\n",
    "              'Brasília','Fortaleza', 'Natal', 'Sobral', 'Fortaleza', 'Cuiabá',\n",
    "              'Sobral', 'Aracoiaba', 'Natal', 'Belo Horizonte', 'Fortaleza',\n",
    "              'Sobral', 'Petrolina']"
   ]
  },
  {
   "cell_type": "code",
   "execution_count": 12,
   "id": "0874e834-7705-44be-b8e5-48d00b6ea3e9",
   "metadata": {},
   "outputs": [],
   "source": [
    "cidades = set(respostas)"
   ]
  },
  {
   "cell_type": "code",
   "execution_count": 13,
   "id": "9deb10e1-31b6-4de3-8ce6-a1392df10a39",
   "metadata": {},
   "outputs": [
    {
     "data": {
      "text/plain": [
       "{'Aracoiaba',\n",
       " 'Belo Horizonte',\n",
       " 'Brasília',\n",
       " 'Cuiabá',\n",
       " 'Fortaleza',\n",
       " 'Manaus',\n",
       " 'Natal',\n",
       " 'Petrolina',\n",
       " 'Rio de Janeiro',\n",
       " 'Sobral'}"
      ]
     },
     "execution_count": 13,
     "metadata": {},
     "output_type": "execute_result"
    }
   ],
   "source": [
    "cidades"
   ]
  },
  {
   "cell_type": "code",
   "execution_count": 14,
   "id": "7e07ca9d-723e-4ced-918b-b2cccf8d582b",
   "metadata": {},
   "outputs": [
    {
     "data": {
      "text/plain": [
       "{'A',\n",
       " 'B',\n",
       " 'C',\n",
       " 'D',\n",
       " 'E',\n",
       " 'F',\n",
       " 'G',\n",
       " 'H',\n",
       " 'I',\n",
       " 'J',\n",
       " 'K',\n",
       " 'L',\n",
       " 'M',\n",
       " 'N',\n",
       " 'O',\n",
       " 'P',\n",
       " 'Q',\n",
       " 'R',\n",
       " 'S',\n",
       " 'T',\n",
       " 'U',\n",
       " 'V',\n",
       " 'W',\n",
       " 'X',\n",
       " 'Y',\n",
       " 'Z'}"
      ]
     },
     "execution_count": 14,
     "metadata": {},
     "output_type": "execute_result"
    }
   ],
   "source": [
    "alfabeto = set('ABCDEFGHIJKLMNOPQRSTUVWXYZ')\n",
    "alfabeto"
   ]
  },
  {
   "cell_type": "code",
   "execution_count": 15,
   "id": "b6a5a959-7a27-4f2a-9dba-248c1af4d88b",
   "metadata": {},
   "outputs": [
    {
     "data": {
      "text/plain": [
       "{' ', 'A', 'B', 'D', 'E', 'F', 'I', 'L', 'N', 'O', 'P', 'R', 'S', 'U', 'V'}"
      ]
     },
     "execution_count": 15,
     "metadata": {},
     "output_type": "execute_result"
    }
   ],
   "source": [
    "lyaRafa = set('Eliane Paula da Silva Oliveira'.upper())|set('Rafael Bruno Oliveira Paiva'.upper())\n",
    "lyaRafa"
   ]
  },
  {
   "cell_type": "code",
   "execution_count": 16,
   "id": "9a147e22-36cc-4281-921b-43583d0d7943",
   "metadata": {},
   "outputs": [
    {
     "data": {
      "text/plain": [
       "{'C', 'G', 'H', 'J', 'K', 'M', 'Q', 'T', 'W', 'X', 'Y', 'Z'}"
      ]
     },
     "execution_count": 16,
     "metadata": {},
     "output_type": "execute_result"
    }
   ],
   "source": [
    "alfabeto - lyaRafa"
   ]
  },
  {
   "cell_type": "code",
   "execution_count": 17,
   "id": "bbacf3c7-510a-410d-b0fe-1c446dc38bfc",
   "metadata": {},
   "outputs": [],
   "source": [
    "teste1 = {'a','e','i','o','u'}\n",
    "teste2 = {'a','e','o','u','i'}"
   ]
  },
  {
   "cell_type": "code",
   "execution_count": 18,
   "id": "97b1fa76-0040-408b-8bd3-a869d16bad80",
   "metadata": {},
   "outputs": [
    {
     "name": "stdout",
     "output_type": "stream",
     "text": [
      "117\n",
      "111\n",
      "105\n",
      "101\n",
      "97\n",
      "117\n",
      "111\n",
      "105\n",
      "101\n",
      "97\n",
      "{'u', 'o', 'i', 'e', 'a'}\n",
      "{'u', 'o', 'i', 'e', 'a'}\n"
     ]
    }
   ],
   "source": [
    "for item in teste1:\n",
    "    print(ord(item))\n",
    "for item in teste2:\n",
    "    print(ord(item))\n",
    "print(teste1)\n",
    "print(teste2)"
   ]
  },
  {
   "cell_type": "code",
   "execution_count": 25,
   "id": "b6177e02-8555-41f6-a76b-2ec5830d4b48",
   "metadata": {},
   "outputs": [
    {
     "data": {
      "text/plain": [
       "(['u', 'o', 'i', 'e', 'a'], ('u', 'o', 'i', 'e', 'a'))"
      ]
     },
     "execution_count": 25,
     "metadata": {},
     "output_type": "execute_result"
    }
   ],
   "source": [
    "list(teste1),tuple(teste2)"
   ]
  },
  {
   "cell_type": "code",
   "execution_count": 41,
   "id": "aa1c5a1c-5476-4df3-bf24-a32c5d0fcaf8",
   "metadata": {},
   "outputs": [
    {
     "data": {
      "text/plain": [
       "(True, False)"
      ]
     },
     "execution_count": 41,
     "metadata": {},
     "output_type": "execute_result"
    }
   ],
   "source": [
    "set()<lyaRafa,set()>lyaRafa"
   ]
  },
  {
   "cell_type": "code",
   "execution_count": 42,
   "id": "8c38bbcc-215c-481e-89ed-4b02611a8a44",
   "metadata": {},
   "outputs": [
    {
     "data": {
      "text/plain": [
       "(0, 0, 1)"
      ]
     },
     "execution_count": 42,
     "metadata": {},
     "output_type": "execute_result"
    }
   ],
   "source": [
    "len(set()),len(set('')),len({''})"
   ]
  },
  {
   "cell_type": "code",
   "execution_count": 48,
   "id": "c5e0140e-a123-4c83-a587-0cb567746fa4",
   "metadata": {},
   "outputs": [
    {
     "data": {
      "text/plain": [
       "False"
      ]
     },
     "execution_count": 48,
     "metadata": {},
     "output_type": "execute_result"
    }
   ],
   "source": [
    "set()>set()"
   ]
  },
  {
   "cell_type": "code",
   "execution_count": 1,
   "id": "c82eff8d-27fb-4a7e-90b5-60f148e883cb",
   "metadata": {},
   "outputs": [
    {
     "data": {
      "text/plain": [
       "10"
      ]
     },
     "execution_count": 1,
     "metadata": {},
     "output_type": "execute_result"
    }
   ],
   "source": [
    "sum({1,2,3,4})"
   ]
  },
  {
   "cell_type": "code",
   "execution_count": 10,
   "id": "72100c54-6005-4d64-b35a-000127d6c704",
   "metadata": {},
   "outputs": [
    {
     "data": {
      "text/plain": [
       "{1, 2, 4}"
      ]
     },
     "execution_count": 10,
     "metadata": {},
     "output_type": "execute_result"
    }
   ],
   "source": [
    "{1,2,3,4,5,6}&({2,4}|{1,2})"
   ]
  },
  {
   "cell_type": "code",
   "execution_count": 14,
   "id": "9c76850a-b995-4301-a756-555dfe785d65",
   "metadata": {},
   "outputs": [
    {
     "data": {
      "text/plain": [
       "{(12, 13), 1}"
      ]
     },
     "execution_count": 14,
     "metadata": {},
     "output_type": "execute_result"
    }
   ],
   "source": [
    "{(12,13),1}"
   ]
  },
  {
   "cell_type": "code",
   "execution_count": 15,
   "id": "0de5679d-3752-4cf0-8092-f2f67e3e092c",
   "metadata": {},
   "outputs": [
    {
     "data": {
      "text/plain": [
       "['ara']"
      ]
     },
     "execution_count": 15,
     "metadata": {},
     "output_type": "execute_result"
    }
   ],
   "source": [
    "sorted({'ara'})"
   ]
  }
 ],
 "metadata": {
  "kernelspec": {
   "display_name": "Python 3",
   "language": "python",
   "name": "python3"
  },
  "language_info": {
   "codemirror_mode": {
    "name": "ipython",
    "version": 3
   },
   "file_extension": ".py",
   "mimetype": "text/x-python",
   "name": "python",
   "nbconvert_exporter": "python",
   "pygments_lexer": "ipython3",
   "version": "3.8.10"
  }
 },
 "nbformat": 4,
 "nbformat_minor": 5
}
