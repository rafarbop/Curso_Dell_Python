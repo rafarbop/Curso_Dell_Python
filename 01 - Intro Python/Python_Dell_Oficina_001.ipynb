{
 "cells": [
  {
   "cell_type": "markdown",
   "id": "813b7bfd",
   "metadata": {},
   "source": [
    "### Oficina 001 do Curso Introdução à Lógica de Programação em Python"
   ]
  },
  {
   "cell_type": "code",
   "execution_count": 6,
   "id": "71a1e102",
   "metadata": {},
   "outputs": [
    {
     "name": "stdout",
     "output_type": "stream",
     "text": [
      "Informe seu nome: Rafael\n",
      "Informe sua idade: 33\n",
      "Informe seu peso (Em Kg): 85\n",
      "Informe sua altura (Em metros): 1.78\n",
      "\n",
      "\tOĺá Rafael\n",
      "\tSeu IMC é 26.83\n"
     ]
    }
   ],
   "source": [
    "# Este programa cálcula o Índice de Massa Corpórea de uma pessoa\n",
    "\n",
    "# Solicitando os dados de entrada do usuário\n",
    "nome = input('Informe seu nome: ')\n",
    "idade = int(input('Informe sua idade: '))\n",
    "peso_float = float(input('Informe seu peso (Em Kg): '))\n",
    "altura_float = float(input('Informe sua altura (Em metros): '))\n",
    "\n",
    "# Calculando o IMC\n",
    "altura_ao_quadrado = altura_float*altura_float\n",
    "imc = peso_float / altura_ao_quadrado\n",
    "\n",
    "# Imprimindo o resultado do IMC\n",
    "print(f'\\n\\tOĺá {nome}')\n",
    "print(f'\\tSeu IMC é {imc:.2f}')\n"
   ]
  }
 ],
 "metadata": {
  "kernelspec": {
   "display_name": "Python 3 (ipykernel)",
   "language": "python",
   "name": "python3"
  },
  "language_info": {
   "codemirror_mode": {
    "name": "ipython",
    "version": 3
   },
   "file_extension": ".py",
   "mimetype": "text/x-python",
   "name": "python",
   "nbconvert_exporter": "python",
   "pygments_lexer": "ipython3",
   "version": "3.9.5"
  }
 },
 "nbformat": 4,
 "nbformat_minor": 5
}
