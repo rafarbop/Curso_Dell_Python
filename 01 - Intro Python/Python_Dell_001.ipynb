{
 "cells": [
  {
   "cell_type": "markdown",
   "id": "cb4114db",
   "metadata": {},
   "source": [
    "## Curso de Introdução à Lógica de Programação em Python\n",
    "\n",
    "#### Introdução ao Python e Noções Gerais da Linguagem"
   ]
  },
  {
   "cell_type": "code",
   "execution_count": 1,
   "id": "46d14fbe-fd5f-4df4-b094-ec8b23599b03",
   "metadata": {},
   "outputs": [],
   "source": [
    "peso_usuario = 80.3\n",
    "altura_usuario = 1.72\n",
    "idade_usuario = 34\n",
    "aprendendo_python = True\n",
    "nome_usuario = 'Rafael Carmo'"
   ]
  },
  {
   "cell_type": "code",
   "execution_count": 2,
   "id": "78ac259d-a4aa-4d8d-95e4-8d0e32b9c8f2",
   "metadata": {},
   "outputs": [
    {
     "data": {
      "text/plain": [
       "(float, float, int, bool, str)"
      ]
     },
     "execution_count": 2,
     "metadata": {},
     "output_type": "execute_result"
    }
   ],
   "source": [
    "type(peso_usuario),type(altura_usuario),type(idade_usuario),type(aprendendo_python),type(nome_usuario)"
   ]
  },
  {
   "cell_type": "code",
   "execution_count": 3,
   "id": "ca342b9c",
   "metadata": {},
   "outputs": [
    {
     "name": "stdin",
     "output_type": "stream",
     "text": [
      "Digite seu nome Rafael\n",
      "Digite seu peso:  85\n",
      "Digite sua altura:  1.78\n",
      "Digite sua idade:  32\n"
     ]
    }
   ],
   "source": [
    "nome_usuario = input('Digite seu nome')\n",
    "peso_usuario = float(input('Digite seu peso: '))\n",
    "altura_usuario = float(input('Digite sua altura: '))\n",
    "idade_usuario = int(input('Digite sua idade: '))\n",
    "aprendendo_python = True"
   ]
  },
  {
   "cell_type": "code",
   "execution_count": 4,
   "id": "a46a203a",
   "metadata": {},
   "outputs": [
    {
     "data": {
      "text/plain": [
       "(float, float, int, bool, str)"
      ]
     },
     "execution_count": 4,
     "metadata": {},
     "output_type": "execute_result"
    }
   ],
   "source": [
    "type(peso_usuario),type(altura_usuario),type(idade_usuario),type(aprendendo_python),type(nome_usuario)"
   ]
  },
  {
   "cell_type": "code",
   "execution_count": 5,
   "id": "63830989",
   "metadata": {},
   "outputs": [
    {
     "name": "stdout",
     "output_type": "stream",
     "text": [
      "Seu nome é: Rafael\n",
      "Seu peso é: 85.0\n",
      "Sua altura é: 1.78\n",
      "Seu idade é: 32\n"
     ]
    }
   ],
   "source": [
    "print(f'Seu nome é: {nome_usuario}')\n",
    "print(f'Seu peso é: {peso_usuario}')\n",
    "print(f'Sua altura é: {altura_usuario}')\n",
    "print(f'Seu idade é: {idade_usuario}')"
   ]
  },
  {
   "cell_type": "code",
   "execution_count": null,
   "id": "59fe4fc0-5093-4894-a2f2-dca597388189",
   "metadata": {},
   "outputs": [],
   "source": []
  }
 ],
 "metadata": {
  "interpreter": {
   "hash": "916dbcbb3f70747c44a77c7bcd40155683ae19c65e1c03b4aa3499c5328201f1"
  },
  "kernelspec": {
   "display_name": "Python 3",
   "language": "python",
   "name": "python3"
  },
  "language_info": {
   "codemirror_mode": {
    "name": "ipython",
    "version": 3
   },
   "file_extension": ".py",
   "mimetype": "text/x-python",
   "name": "python",
   "nbconvert_exporter": "python",
   "pygments_lexer": "ipython3",
   "version": "3.8.10"
  }
 },
 "nbformat": 4,
 "nbformat_minor": 5
}
