{
 "cells": [
  {
   "cell_type": "markdown",
   "id": "9e040202-f664-4307-8301-67b0e813949e",
   "metadata": {},
   "source": [
    "## Curso de Introdução à Lógica de Programação em Python\n",
    "\n",
    "  \n",
    "#### Programação Orientada a Objetos - POO"
   ]
  },
  {
   "cell_type": "code",
   "execution_count": 30,
   "id": "8cbf5a61-aa82-4e8d-8512-b8e256d9f11e",
   "metadata": {},
   "outputs": [],
   "source": [
    "class Pessoa:\n",
    "    '''Classe do tipo Pessoa - Dados identicação de um pessoa.'''\n",
    "    def __init__(self,nome,data_nasc,telefone=None):\n",
    "        self.nome = nome\n",
    "        self.data_nasc = data_nasc\n",
    "        self.telefone = telefone\n",
    "    def __repr__(self):\n",
    "        return f\"Objeto Pessoa({self.nome.upper().split()[0]} - {self.data_nasc})\""
   ]
  },
  {
   "cell_type": "code",
   "execution_count": 31,
   "id": "e4c0cfb3-f6b4-48e3-8ba0-367d718828f5",
   "metadata": {},
   "outputs": [
    {
     "name": "stdout",
     "output_type": "stream",
     "text": [
      "Rafael Bruno Oliveira Paiva\n",
      "18/06/1988\n",
      "None\n"
     ]
    }
   ],
   "source": [
    "rafa = Pessoa(nome=\"Rafael Bruno Oliveira Paiva\",data_nasc=\"18/06/1988\")\n",
    "print(rafa.nome)\n",
    "print(rafa.data_nasc)\n",
    "print(rafa.telefone)"
   ]
  },
  {
   "cell_type": "code",
   "execution_count": 32,
   "id": "f04e472a-4aba-4992-977c-d442e379848b",
   "metadata": {},
   "outputs": [
    {
     "data": {
      "text/plain": [
       "Objeto Pessoa(RAFAEL - 18/06/1988)"
      ]
     },
     "execution_count": 32,
     "metadata": {},
     "output_type": "execute_result"
    }
   ],
   "source": [
    "rafa"
   ]
  },
  {
   "cell_type": "markdown",
   "id": "2f0eea02-c62c-4af8-89a8-4bde98cd0c82",
   "metadata": {},
   "source": [
    "- Classe de Livros em uma Livraria"
   ]
  },
  {
   "cell_type": "code",
   "execution_count": 67,
   "id": "3bae39a0-2330-490d-9ccf-5c3f351d0015",
   "metadata": {},
   "outputs": [],
   "source": [
    "class Livro:\n",
    "    def __init__(self,titulo,copias=1,preco=0.0):\n",
    "        self.titulo = titulo\n",
    "        self.copias_em_estoque = copias\n",
    "        self.preco = preco\n",
    "    def vender(self,copias_vendidas):\n",
    "        self.copias_em_estoque -= copias_vendidas\n",
    "    def atualiza_preco(self,novo_preco):\n",
    "        if novo_preco > 0:\n",
    "            self.preco = novo_preco\n",
    "        else:\n",
    "            print(\"Novo preço inválido menor que R$ 0.00. Vou manter o preço anterior!\")"
   ]
  },
  {
   "cell_type": "code",
   "execution_count": 69,
   "id": "0ef28022-cbb5-44c8-9ccc-260225524d9d",
   "metadata": {},
   "outputs": [],
   "source": [
    "livro = Livro('João das Neves e os Guerreiros',23,10.0)"
   ]
  },
  {
   "cell_type": "code",
   "execution_count": 70,
   "id": "52d0ae71-b50b-4bd8-8eaa-6823e8bd7418",
   "metadata": {},
   "outputs": [
    {
     "name": "stdout",
     "output_type": "stream",
     "text": [
      "João das Neves e os Guerreiros\n",
      "23\n",
      "10.0\n"
     ]
    }
   ],
   "source": [
    "print(livro.titulo)\n",
    "print(livro.copias_em_estoque)\n",
    "print(livro.preco)"
   ]
  },
  {
   "cell_type": "code",
   "execution_count": 71,
   "id": "8fe8fc88-f50e-49bb-9a89-0a30aad6180d",
   "metadata": {},
   "outputs": [
    {
     "data": {
      "text/plain": [
       "20"
      ]
     },
     "execution_count": 71,
     "metadata": {},
     "output_type": "execute_result"
    }
   ],
   "source": [
    "# Vendendo algumas cópias do libro\n",
    "livro.vender(3)\n",
    "livro.copias_em_estoque"
   ]
  },
  {
   "cell_type": "code",
   "execution_count": 72,
   "id": "fd450323-f6b9-411d-8642-a51eeec9ef0d",
   "metadata": {},
   "outputs": [
    {
     "data": {
      "text/plain": [
       "20.0"
      ]
     },
     "execution_count": 72,
     "metadata": {},
     "output_type": "execute_result"
    }
   ],
   "source": [
    "# Alterando o preço do livro\n",
    "livro.atualiza_preco(20.0)\n",
    "livro.preco"
   ]
  }
 ],
 "metadata": {
  "kernelspec": {
   "display_name": "Python 3",
   "language": "python",
   "name": "python3"
  },
  "language_info": {
   "codemirror_mode": {
    "name": "ipython",
    "version": 3
   },
   "file_extension": ".py",
   "mimetype": "text/x-python",
   "name": "python",
   "nbconvert_exporter": "python",
   "pygments_lexer": "ipython3",
   "version": "3.8.10"
  }
 },
 "nbformat": 4,
 "nbformat_minor": 5
}
