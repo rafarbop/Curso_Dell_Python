{
 "cells": [
  {
   "cell_type": "markdown",
   "id": "813b7bfd",
   "metadata": {},
   "source": [
    "## Oficina Microlearning 7\n",
    "### Introdução à Lógica de Programação em Python"
   ]
  },
  {
   "cell_type": "code",
   "execution_count": 1,
   "id": "71a1e102",
   "metadata": {},
   "outputs": [],
   "source": [
    "# Dados do Problema\n",
    "cursos = [\n",
    "  'Engenharia de Software',\n",
    "  'Python para Data Science',\n",
    "  'Introdução a Java'\n",
    "]\n",
    "\n",
    "respostas = [\n",
    "    1, 2, 0, 1, 1, 1, 1, 0, 0, 2,\n",
    "    2, 0, 1, 1, 1, 1, 2, 0, 1, 1,\n",
    "    0, 1, 0, 2, 1, 1, 0, 2, 2, 1,\n",
    "    0, 1, 1, 0, 0, 0, 1, 1, 2, 1\n",
    "]"
   ]
  },
  {
   "cell_type": "code",
   "execution_count": 2,
   "id": "c53b7ac0-4a90-4c57-91be-2ad85b9ced41",
   "metadata": {},
   "outputs": [
    {
     "name": "stdout",
     "output_type": "stream",
     "text": [
      "A quatidade de votos foi: 40 votos\n",
      "\n",
      "\n",
      "O curso Engenharia de Software obteve:    12 votos - 30.00% do total.\n",
      "O curso Python para Data Science obteve:  20 votos - 50.00% do total.\n",
      "O curso Introdução a Java obteve:         8 votos - 20.00% do total.\n",
      "\n",
      "\n",
      "\tO curso mais votado foi: Python para Data Science\n",
      "\n",
      "\n"
     ]
    }
   ],
   "source": [
    "# Processando os dados de votação dos cursos\n",
    "total_votos = len(respostas)\n",
    "\n",
    "votos_por_curso = [0, 0, 0]\n",
    "\n",
    "for voto in respostas:\n",
    "    if voto == 0:\n",
    "        votos_por_curso[0] += 1\n",
    "    elif voto == 1:\n",
    "        votos_por_curso[1] += 1\n",
    "    elif voto == 2:\n",
    "        votos_por_curso[2] += 1\n",
    "\n",
    "print(f'A quatidade de votos foi: {total_votos} votos\\n\\n')\n",
    "\n",
    "for index in range(len(cursos)):\n",
    "    percertual = (votos_por_curso[index]/total_votos)*100\n",
    "    print(f'O curso {cursos[index]} obteve:'.ljust(42), end=\"\")\n",
    "    print(f'{votos_por_curso[index]} votos - {percertual:.2f}% do total.')\n",
    "\n",
    "curso_ganhador = cursos[votos_por_curso.index(max(votos_por_curso))]\n",
    "\n",
    "print(f'\\n\\n\\tO curso mais votado foi: {curso_ganhador}\\n\\n')\n"
   ]
  }
 ],
 "metadata": {
  "kernelspec": {
   "display_name": "Python 3",
   "language": "python",
   "name": "python3"
  },
  "language_info": {
   "codemirror_mode": {
    "name": "ipython",
    "version": 3
   },
   "file_extension": ".py",
   "mimetype": "text/x-python",
   "name": "python",
   "nbconvert_exporter": "python",
   "pygments_lexer": "ipython3",
   "version": "3.8.10"
  }
 },
 "nbformat": 4,
 "nbformat_minor": 5
}
