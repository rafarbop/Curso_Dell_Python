{
 "cells": [
  {
   "cell_type": "markdown",
   "id": "f29ddb64-5da6-4287-860a-faed34872105",
   "metadata": {},
   "source": [
    "# Micro 09: Conjuntos e suas utilizações &ndash; oficina\n",
    "\n",
    "Ao planejar um casamento, um casal monta sua lista de presentes e faz uma pesquisa para encontrar algumas lojas de departamentos que trabalhem com este serviço. O casal encontra 4 lojas favoráveis, mas cada uma oferece apenas alguns dos presentes que gostariam de ganhar. Como não dá para colocar a lista em todas as lojas ao mesmo tempo, algumas perguntas podem ajudar a decidir o que fazer, como: \n",
    "\n",
    "1. Quais produtos são oferecidos em ao menos uma loja? \n",
    "1. Quais produtos são oferecidos em todas as lojas? \n",
    "1. Quais produtos não são encontrados em nenhuma loja? \n",
    "1. Quais produtos são exclusivos de cada loja? \n",
    "1. Se for possível escolher duas lojas pra cobrir um número maior de presentes, qual é o maior número de presentes que é possível cobrir dessa forma? "
   ]
  },
  {
   "cell_type": "code",
   "execution_count": 1,
   "id": "de784747-b15a-45d8-9734-b8e929ff8896",
   "metadata": {},
   "outputs": [],
   "source": [
    "presentes = {\n",
    "    'cadeira', 'cafeteira', 'caneca', 'escumadeira',\n",
    "    'espanador', 'espátula', 'estante', 'faqueiro',\n",
    "    'frigideira', 'funil', 'halter', 'liquidificador',\n",
    "    'notebook', 'panela', 'peneira', 'playstation',\n",
    "    'rádio', 'smartphone', 'sofá', 'tablet', 'teclado',\n",
    "    'televisão', 'vassoura', 'webcam', 'xbox',\n",
    "}\n",
    "\n",
    "loja1 = {\n",
    "    'cadeira', 'cafeteira', 'caneca', 'escumadeira', 'estante',\n",
    "    'frigideira', 'funil', 'liquidificador', 'notebook', 'panela',\n",
    "    'playstation', 'smartphone', 'teclado', 'televisão'}\n",
    "loja2 = {\n",
    "    'cafeteira', 'escumadeira', 'espanador', 'frigideira', 'funil',\n",
    "    'halter', 'peneira', 'playstation', 'sofá', 'tablet', 'televisão',\n",
    "    'vassoura', 'webcam', 'xbox'}\n",
    "loja3 = {\n",
    "    'caneca', 'escumadeira', 'espanador', 'espátula', 'estante',\n",
    "    'frigideira', 'halter', 'playstation', 'rádio', 'smartphone',\n",
    "    'sofá', 'teclado', 'televisão', 'vassoura', 'xbox'}\n",
    "loja4 = {\n",
    "    'caneca', 'escumadeira', 'espanador', 'espátula', 'estante',\n",
    "    'frigideira', 'halter', 'playstation', 'rádio', 'smartphone',\n",
    "    'sofá', 'teclado', 'televisão', 'vassoura', 'xbox'}"
   ]
  },
  {
   "cell_type": "markdown",
   "id": "7ae630c3-6de3-4ae4-9ed8-6ff1558e06de",
   "metadata": {},
   "source": [
    "### Questão 1"
   ]
  },
  {
   "cell_type": "code",
   "execution_count": 8,
   "id": "555bb8b3-066a-4005-a621-66a613978939",
   "metadata": {},
   "outputs": [
    {
     "name": "stdout",
     "output_type": "stream",
     "text": [
      "Os seguintes itens existem em ao menos uma loja:\n",
      " {'xbox', 'halter', 'estante', 'teclado', 'webcam', 'panela', 'liquidificador', 'frigideira', 'rádio', 'escumadeira', 'funil', 'cadeira', 'televisão', 'peneira', 'espanador', 'sofá', 'playstation', 'smartphone', 'vassoura', 'espátula', 'caneca', 'tablet', 'cafeteira', 'notebook'}\n"
     ]
    }
   ],
   "source": [
    "print('Os seguintes itens existem em ao menos uma loja:\\n',presentes & (loja1 | loja2 | loja3 | loja4) )"
   ]
  },
  {
   "cell_type": "markdown",
   "id": "e2c95650-c89e-43b6-a833-d2d4afa671ed",
   "metadata": {},
   "source": [
    "### Questão 2"
   ]
  },
  {
   "cell_type": "code",
   "execution_count": 10,
   "id": "c6539197-479a-4dbb-bd5c-77b90e814c85",
   "metadata": {},
   "outputs": [
    {
     "name": "stdout",
     "output_type": "stream",
     "text": [
      "Os seguintes itens existem em todas as loja:\n",
      " {'frigideira', 'escumadeira', 'playstation', 'televisão'}\n"
     ]
    }
   ],
   "source": [
    "print('Os seguintes itens existem em todas as loja:\\n',presentes & loja1 & loja2 & loja3 & loja4 )"
   ]
  },
  {
   "cell_type": "markdown",
   "id": "b5e0b217-5cef-4e88-99fc-2a931e4a1f76",
   "metadata": {},
   "source": [
    "### Questão 3"
   ]
  },
  {
   "cell_type": "code",
   "execution_count": 11,
   "id": "657eff0b-7c92-4fe4-9a17-159b9b532c08",
   "metadata": {},
   "outputs": [
    {
     "name": "stdout",
     "output_type": "stream",
     "text": [
      "Os seguintes itens não existem em nenhuma loja:\n",
      " {'faqueiro'}\n"
     ]
    }
   ],
   "source": [
    "print('Os seguintes itens não existem em nenhuma loja:\\n',presentes - (loja1 | loja2 | loja3 | loja4) )"
   ]
  },
  {
   "cell_type": "markdown",
   "id": "e2411eb3-a775-48d8-b1fc-5c7e71aba91a",
   "metadata": {},
   "source": [
    "### Questão 4"
   ]
  },
  {
   "cell_type": "code",
   "execution_count": 14,
   "id": "17410f7d-0c70-4f88-be2a-8d8340af007e",
   "metadata": {},
   "outputs": [
    {
     "name": "stdout",
     "output_type": "stream",
     "text": [
      "Exclusivos da loja 1:\n",
      " {'cadeira', 'liquidificador', 'notebook', 'panela'}\n",
      "Exclusivos da loja 2:\n",
      " {'webcam', 'tablet', 'peneira'}\n",
      "Exclusivos da loja 3:\n",
      " set()\n",
      "Exclusivos da loja 4:\n",
      " set()\n"
     ]
    }
   ],
   "source": [
    "print('Exclusivos da loja 1:\\n',presentes & (loja1 - ( loja2 | loja3 | loja4)) )\n",
    "print('Exclusivos da loja 2:\\n',presentes & (loja2 - ( loja1 | loja3 | loja4)) )\n",
    "print('Exclusivos da loja 3:\\n',presentes & (loja3 - ( loja1 | loja2 | loja4)) )\n",
    "print('Exclusivos da loja 4:\\n',presentes & (loja4 - ( loja1 | loja2 | loja3)) )"
   ]
  },
  {
   "cell_type": "code",
   "execution_count": 20,
   "id": "b70ab94c-9445-4b71-838f-e3147aebca7b",
   "metadata": {},
   "outputs": [
    {
     "name": "stdout",
     "output_type": "stream",
     "text": [
      "Presentes da loja 1:\n",
      " 14\n",
      "Presentes da loja 2:\n",
      " 14\n",
      "Presentes da loja 3:\n",
      " 15\n",
      "Presentes da loja 4:\n",
      " 15\n",
      "Nas duas melhores lojas consegue-se 30 presentes\n"
     ]
    }
   ],
   "source": [
    "print('Presentes da loja 1:\\n',len(presentes & loja1))\n",
    "print('Presentes da loja 2:\\n',len(presentes & loja2))\n",
    "print('Presentes da loja 3:\\n',len(presentes & loja3))\n",
    "print('Presentes da loja 4:\\n',len(presentes & loja4))\n",
    "print(f'Nas duas melhores lojas consegue-se {len(presentes & loja3)+len(presentes & loja4)} presentes')"
   ]
  }
 ],
 "metadata": {
  "kernelspec": {
   "display_name": "Python 3",
   "language": "python",
   "name": "python3"
  },
  "language_info": {
   "codemirror_mode": {
    "name": "ipython",
    "version": 3
   },
   "file_extension": ".py",
   "mimetype": "text/x-python",
   "name": "python",
   "nbconvert_exporter": "python",
   "pygments_lexer": "ipython3",
   "version": "3.8.10"
  }
 },
 "nbformat": 4,
 "nbformat_minor": 5
}
