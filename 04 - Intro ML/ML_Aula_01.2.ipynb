{
 "cells": [
  {
   "cell_type": "markdown",
   "id": "a263c36a-2404-4bb2-955a-09df44bf768c",
   "metadata": {},
   "source": [
    "# Introdução a Machine Learning"
   ]
  },
  {
   "cell_type": "markdown",
   "id": "3ca8699b-7389-4798-b79f-157c3a81ffb7",
   "metadata": {},
   "source": [
    "## Aula 1.2 - Introdução a Regressão"
   ]
  },
  {
   "cell_type": "markdown",
   "id": "d4d82021-5197-4229-ae00-e43145191d8b",
   "metadata": {},
   "source": [
    "**Modelo de Regressão** corresponde a uma equação matemática onde duas ou mais variáveis estão relacionadas.\n",
    "\n",
    "Essas variáveis podem ser **independentes** e **dependentes**\n",
    "\n",
    "Variáveis independentes são aquelas que não dependem de outras para serem explicadas, como a altura ou a idade de uma pessoa.\n",
    "Variáveis dependentes são as que se desejam prever e necessitam de outras variáveis para que possam ser entendidas e explicadas.\n",
    "\n",
    "Caso sejam necessárias mais de uma variável dependente para se conhecer o valor de uma variável dependente, a regressão é classificada como **Regressão Múltipla**, caso contrario será uma **Regressão Simples**\n",
    "\n",
    "Além disso os modelos de regressões podem ser:\n",
    "- Lineares: No caso da relação entre as variáveis ser uma relação linear - Ex.: Relação ser representada or uma euquação do 1º grau\n",
    "- Não-Lineares: Para outros tipos de relações entre as variáveis\n"
   ]
  },
  {
   "cell_type": "markdown",
   "id": "9e991e4c-edf0-4091-99d3-e069e0ed5455",
   "metadata": {},
   "source": [
    "### Exemplo Básico de um Modelo de Regressão\n",
    "\n",
    "Previsão de números de sorvetes a serem vendidos em uma praia a partir de dados históricos de um vendedor"
   ]
  },
  {
   "cell_type": "code",
   "execution_count": 2,
   "id": "2cf5986b-ee81-4ebc-a8fa-2fe9d35a06bd",
   "metadata": {},
   "outputs": [],
   "source": [
    "import numpy as np\n",
    "import pandas as pd\n",
    "import matplotlib.pyplot as plt"
   ]
  },
  {
   "cell_type": "code",
   "execution_count": 3,
   "id": "b22aa51a-78b8-4a82-892f-d11f7f5c3d7d",
   "metadata": {},
   "outputs": [
    {
     "data": {
      "text/html": [
       "<div>\n",
       "<style scoped>\n",
       "    .dataframe tbody tr th:only-of-type {\n",
       "        vertical-align: middle;\n",
       "    }\n",
       "\n",
       "    .dataframe tbody tr th {\n",
       "        vertical-align: top;\n",
       "    }\n",
       "\n",
       "    .dataframe thead th {\n",
       "        text-align: right;\n",
       "    }\n",
       "</style>\n",
       "<table border=\"1\" class=\"dataframe\">\n",
       "  <thead>\n",
       "    <tr style=\"text-align: right;\">\n",
       "      <th></th>\n",
       "      <th>temperatura</th>\n",
       "      <th>numero_sorvetes</th>\n",
       "    </tr>\n",
       "  </thead>\n",
       "  <tbody>\n",
       "    <tr>\n",
       "      <th>0</th>\n",
       "      <td>30</td>\n",
       "      <td>20</td>\n",
       "    </tr>\n",
       "    <tr>\n",
       "      <th>1</th>\n",
       "      <td>25</td>\n",
       "      <td>12</td>\n",
       "    </tr>\n",
       "    <tr>\n",
       "      <th>2</th>\n",
       "      <td>36</td>\n",
       "      <td>50</td>\n",
       "    </tr>\n",
       "    <tr>\n",
       "      <th>3</th>\n",
       "      <td>18</td>\n",
       "      <td>10</td>\n",
       "    </tr>\n",
       "    <tr>\n",
       "      <th>4</th>\n",
       "      <td>25</td>\n",
       "      <td>18</td>\n",
       "    </tr>\n",
       "    <tr>\n",
       "      <th>5</th>\n",
       "      <td>29</td>\n",
       "      <td>25</td>\n",
       "    </tr>\n",
       "    <tr>\n",
       "      <th>6</th>\n",
       "      <td>30</td>\n",
       "      <td>26</td>\n",
       "    </tr>\n",
       "    <tr>\n",
       "      <th>7</th>\n",
       "      <td>33</td>\n",
       "      <td>32</td>\n",
       "    </tr>\n",
       "    <tr>\n",
       "      <th>8</th>\n",
       "      <td>37</td>\n",
       "      <td>48</td>\n",
       "    </tr>\n",
       "    <tr>\n",
       "      <th>9</th>\n",
       "      <td>31</td>\n",
       "      <td>22</td>\n",
       "    </tr>\n",
       "    <tr>\n",
       "      <th>10</th>\n",
       "      <td>26</td>\n",
       "      <td>16</td>\n",
       "    </tr>\n",
       "    <tr>\n",
       "      <th>11</th>\n",
       "      <td>37</td>\n",
       "      <td>52</td>\n",
       "    </tr>\n",
       "    <tr>\n",
       "      <th>12</th>\n",
       "      <td>29</td>\n",
       "      <td>24</td>\n",
       "    </tr>\n",
       "    <tr>\n",
       "      <th>13</th>\n",
       "      <td>26</td>\n",
       "      <td>20</td>\n",
       "    </tr>\n",
       "    <tr>\n",
       "      <th>14</th>\n",
       "      <td>30</td>\n",
       "      <td>28</td>\n",
       "    </tr>\n",
       "    <tr>\n",
       "      <th>15</th>\n",
       "      <td>31</td>\n",
       "      <td>29</td>\n",
       "    </tr>\n",
       "    <tr>\n",
       "      <th>16</th>\n",
       "      <td>34</td>\n",
       "      <td>35</td>\n",
       "    </tr>\n",
       "    <tr>\n",
       "      <th>17</th>\n",
       "      <td>38</td>\n",
       "      <td>40</td>\n",
       "    </tr>\n",
       "  </tbody>\n",
       "</table>\n",
       "</div>"
      ],
      "text/plain": [
       "    temperatura  numero_sorvetes\n",
       "0            30               20\n",
       "1            25               12\n",
       "2            36               50\n",
       "3            18               10\n",
       "4            25               18\n",
       "5            29               25\n",
       "6            30               26\n",
       "7            33               32\n",
       "8            37               48\n",
       "9            31               22\n",
       "10           26               16\n",
       "11           37               52\n",
       "12           29               24\n",
       "13           26               20\n",
       "14           30               28\n",
       "15           31               29\n",
       "16           34               35\n",
       "17           38               40"
      ]
     },
     "execution_count": 3,
     "metadata": {},
     "output_type": "execute_result"
    }
   ],
   "source": [
    "# Dados registrado pelo vendedor\n",
    "\n",
    "temperatura = np.array([\n",
    "    30,25,36,18,25,\n",
    "    29,30,33,37,31,\n",
    "    26,37,29,26,30,\n",
    "    31,34,38\n",
    "])\n",
    "\n",
    "numero_sorvetes = np.array([\n",
    "    20,12,50,10,18,\n",
    "    25,26,32,48,22,\n",
    "    16,52,24,20,28,\n",
    "    29,35,40\n",
    "])\n",
    "\n",
    "df = pd.DataFrame({'temperatura': temperatura, 'numero_sorvetes': numero_sorvetes})\n",
    "\n",
    "df"
   ]
  },
  {
   "cell_type": "code",
   "execution_count": 13,
   "id": "ce9f4d8a",
   "metadata": {},
   "outputs": [
    {
     "data": {
      "image/png": "[encoded data removed]",
      "text/plain": [
       "<Figure size 432x288 with 1 Axes>"
      ]
     },
     "metadata": {
      "needs_background": "light"
     },
     "output_type": "display_data"
    }
   ],
   "source": [
    "# Gráfico de Vendas\n",
    "\n",
    "plt.plot(df['temperatura'], df['numero_sorvetes'],'.')\n",
    "plt.title('Sorvetes vendidos de acordo com a Temperatura')\n",
    "plt.xlabel('Temperatura')\n",
    "plt.ylabel('Número de Sorvetes')\n",
    "plt.show()"
   ]
  },
  {
   "cell_type": "code",
   "execution_count": null,
   "id": "955858b1",
   "metadata": {},
   "outputs": [],
   "source": []
  }
 ],
 "metadata": {
  "kernelspec": {
   "display_name": "Python 3",
   "language": "python",
   "name": "python3"
  },
  "language_info": {
   "codemirror_mode": {
    "name": "ipython",
    "version": 3
   },
   "file_extension": ".py",
   "mimetype": "text/x-python",
   "name": "python",
   "nbconvert_exporter": "python",
   "pygments_lexer": "ipython3",
   "version": "3.8.10"
  }
 },
 "nbformat": 4,
 "nbformat_minor": 5
}
