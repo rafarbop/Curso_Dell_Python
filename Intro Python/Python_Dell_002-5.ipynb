{
 "cells": [
  {
   "cell_type": "markdown",
   "id": "b8f121e0-6475-4104-a6a4-2307c5a17205",
   "metadata": {},
   "source": [
    "## Curso de Introdução à Lógica de Programação em Python\n",
    "\n",
    "#### Dicionário e sua flexibilidade"
   ]
  },
  {
   "cell_type": "code",
   "execution_count": 20,
   "id": "2edfefe3-4ee9-4956-b576-9e3d4382025d",
   "metadata": {},
   "outputs": [
    {
     "data": {
      "text/plain": [
       "True"
      ]
     },
     "execution_count": 20,
     "metadata": {},
     "output_type": "execute_result"
    }
   ],
   "source": [
    "{} == dict()"
   ]
  },
  {
   "cell_type": "code",
   "execution_count": 46,
   "id": "344c442a-1c17-4680-bf1d-5298c6d69e9a",
   "metadata": {},
   "outputs": [],
   "source": [
    "familia = {\n",
    "    'Esposo':{\n",
    "        'Nome': 'Rafael Bruno',\n",
    "        'Nascimento': '18/06/1988'\n",
    "    },\n",
    "    'Esposa':{\n",
    "        'Nome': 'Eliane Paula',\n",
    "        'Nascimento': '07/12/1988'\n",
    "    },\n",
    "    'Filho':{\n",
    "        'Nome': 'Lyandro Elias',\n",
    "        'Nascimento': '15/04/2018'\n",
    "    },\n",
    "    'Filha':{\n",
    "        'Nome': 'Lyara Sofia',\n",
    "        'Nascimento': '25/12/2019'\n",
    "    }\n",
    "}"
   ]
  },
  {
   "cell_type": "code",
   "execution_count": 47,
   "id": "4a179f16-4f25-41ce-af6e-a7eb4b7d84d9",
   "metadata": {},
   "outputs": [
    {
     "data": {
      "text/plain": [
       "{'Esposo': {'Nome': 'Rafael Bruno', 'Nascimento': '18/06/1988'},\n",
       " 'Esposa': {'Nome': 'Eliane Paula', 'Nascimento': '07/12/1988'},\n",
       " 'Filho': {'Nome': 'Lyandro Elias', 'Nascimento': '15/04/2018'},\n",
       " 'Filha': {'Nome': 'Lyara Sofia', 'Nascimento': '25/12/2019'}}"
      ]
     },
     "execution_count": 47,
     "metadata": {},
     "output_type": "execute_result"
    }
   ],
   "source": [
    "familia"
   ]
  },
  {
   "cell_type": "code",
   "execution_count": 48,
   "id": "f0d92aa1-dca1-4a44-9a8b-02281539d67d",
   "metadata": {},
   "outputs": [
    {
     "name": "stdout",
     "output_type": "stream",
     "text": [
      "Esposo:  Rafael Bruno\n",
      "         18/06/1988 \n",
      "\n",
      "Esposa:  Eliane Paula\n",
      "         07/12/1988 \n",
      "\n",
      "Filho:   Lyandro Elias\n",
      "         15/04/2018 \n",
      "\n",
      "Filha:   Lyara Sofia\n",
      "         25/12/2019 \n",
      "\n"
     ]
    }
   ],
   "source": [
    "for key, value in familia.items():\n",
    "    print(f\"{key}:\".ljust(8), f\"{value['Nome']}\")\n",
    "    print(\"\".ljust(8),value['Nascimento'],'\\n')"
   ]
  },
  {
   "cell_type": "code",
   "execution_count": null,
   "id": "47f3f1b6-cb33-43a4-bf96-4337e5971796",
   "metadata": {},
   "outputs": [],
   "source": []
  }
 ],
 "metadata": {
  "kernelspec": {
   "display_name": "Python 3",
   "language": "python",
   "name": "python3"
  },
  "language_info": {
   "codemirror_mode": {
    "name": "ipython",
    "version": 3
   },
   "file_extension": ".py",
   "mimetype": "text/x-python",
   "name": "python",
   "nbconvert_exporter": "python",
   "pygments_lexer": "ipython3",
   "version": "3.8.10"
  }
 },
 "nbformat": 4,
 "nbformat_minor": 5
}
