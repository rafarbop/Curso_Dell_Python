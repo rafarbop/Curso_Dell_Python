{
 "cells": [
  {
   "cell_type": "markdown",
   "id": "07ee7807-3c1b-4562-8c25-ac31530b1ff8",
   "metadata": {
    "id": "07ee7807-3c1b-4562-8c25-ac31530b1ff8"
   },
   "source": [
    "## Curso de Python para Machine Learning\n",
    "---\n",
    "### Aula 1.2 - Funções da biblioteca padrão\n",
    "\n",
    "> ### Itertools"
   ]
  },
  {
   "cell_type": "code",
   "execution_count": 2,
   "id": "3f5EzzDRTppO",
   "metadata": {
    "id": "3f5EzzDRTppO"
   },
   "outputs": [],
   "source": [
    "import itertools\n",
    "contador = itertools.count()"
   ]
  },
  {
   "cell_type": "code",
   "execution_count": 3,
   "id": "a7khdFCcTrtV",
   "metadata": {
    "colab": {
     "base_uri": "https://localhost:8080/"
    },
    "id": "a7khdFCcTrtV",
    "outputId": "5c1a6dfe-37d1-47b6-9fff-de0772e587fd"
   },
   "outputs": [
    {
     "name": "stdout",
     "output_type": "stream",
     "text": [
      "<class 'itertools.count'>\n",
      "count(0)\n",
      "count(1)\n"
     ]
    }
   ],
   "source": [
    "print(type(contador))\n",
    "print(contador)\n",
    "next(contador)\n",
    "print(contador)"
   ]
  },
  {
   "cell_type": "markdown",
   "id": "cjNLUV6_Vd6Z",
   "metadata": {
    "id": "cjNLUV6_Vd6Z"
   },
   "source": [
    "**Combinações**\n",
    "\n",
    "A biblioteca itertools tem um método que retorna as combinações possíveis de um objeto python  \n",
    "O retorno é um objeto iterável  \n",
    "A ordem não importa nesse caso"
   ]
  },
  {
   "cell_type": "code",
   "execution_count": 20,
   "id": "yQYd6u8AVVpn",
   "metadata": {
    "colab": {
     "base_uri": "https://localhost:8080/"
    },
    "id": "yQYd6u8AVVpn",
    "outputId": "87945c27-e790-4ed4-e99e-abb0a97b5e09"
   },
   "outputs": [
    {
     "data": {
      "text/plain": [
       "<itertools.combinations at 0x7fe1c4b48170>"
      ]
     },
     "execution_count": 20,
     "metadata": {},
     "output_type": "execute_result"
    }
   ],
   "source": [
    "itertools.combinations('ABC',2) # retorna um objeto iterável"
   ]
  },
  {
   "cell_type": "code",
   "execution_count": 21,
   "id": "LDs35GGrWEGh",
   "metadata": {
    "colab": {
     "base_uri": "https://localhost:8080/"
    },
    "id": "LDs35GGrWEGh",
    "outputId": "a7e09447-0b34-4c90-cbe0-a15cc1e32e92"
   },
   "outputs": [
    {
     "data": {
      "text/plain": [
       "[('A', 'B'), ('A', 'C'), ('B', 'C')]"
      ]
     },
     "execution_count": 21,
     "metadata": {},
     "output_type": "execute_result"
    }
   ],
   "source": [
    "list(itertools.combinations('ABC',2)) # convertendo o retorno em uma lista"
   ]
  },
  {
   "cell_type": "markdown",
   "id": "tYg6aA9bWmLW",
   "metadata": {
    "id": "tYg6aA9bWmLW"
   },
   "source": [
    "**Permutações**\n",
    "\n",
    "Outro método da biblioteca itertools é o *permutations*, que retorna as permutações possíveis em um conjunto  \n",
    "Nesse caso a ordem importa, dessa forma cada elemento é tratado como único de acordo com sua posição  \n",
    "OBS.: Caso o parametro `r` não seja informado, será considerado o comprimento total da lista informada"
   ]
  },
  {
   "cell_type": "code",
   "execution_count": 17,
   "id": "Cvp1WjnrWQwS",
   "metadata": {
    "colab": {
     "base_uri": "https://localhost:8080/"
    },
    "id": "Cvp1WjnrWQwS",
    "outputId": "23d82dd7-6993-4794-b91d-4f4f3ec81c02"
   },
   "outputs": [
    {
     "data": {
      "text/plain": [
       "[(1, 2, 3), (1, 3, 2), (2, 1, 3), (2, 3, 1), (3, 1, 2), (3, 2, 1)]"
      ]
     },
     "execution_count": 17,
     "metadata": {},
     "output_type": "execute_result"
    }
   ],
   "source": [
    "list(itertools.permutations([1,2,3]))"
   ]
  },
  {
   "cell_type": "code",
   "execution_count": 18,
   "id": "Pye1NooVX14k",
   "metadata": {
    "colab": {
     "base_uri": "https://localhost:8080/"
    },
    "id": "Pye1NooVX14k",
    "outputId": "ba55f488-95ac-47ef-9809-0861d2ae7d17"
   },
   "outputs": [
    {
     "data": {
      "text/plain": [
       "[(1, 2), (2, 1)]"
      ]
     },
     "execution_count": 18,
     "metadata": {},
     "output_type": "execute_result"
    }
   ],
   "source": [
    "list(itertools.permutations([1,2]))"
   ]
  },
  {
   "cell_type": "code",
   "execution_count": 19,
   "id": "xYx9tPVMX6-7",
   "metadata": {
    "colab": {
     "base_uri": "https://localhost:8080/"
    },
    "id": "xYx9tPVMX6-7",
    "outputId": "c6e49047-4644-4022-e413-0aea323d2684"
   },
   "outputs": [
    {
     "data": {
      "text/plain": [
       "[(1, 2),\n",
       " (1, 3),\n",
       " (1, 4),\n",
       " (2, 1),\n",
       " (2, 3),\n",
       " (2, 4),\n",
       " (3, 1),\n",
       " (3, 2),\n",
       " (3, 4),\n",
       " (4, 1),\n",
       " (4, 2),\n",
       " (4, 3)]"
      ]
     },
     "execution_count": 19,
     "metadata": {},
     "output_type": "execute_result"
    }
   ],
   "source": [
    "list(itertools.permutations([1,2,3,4], r = 2))"
   ]
  },
  {
   "cell_type": "markdown",
   "id": "kdNYTXCCZrez",
   "metadata": {
    "id": "kdNYTXCCZrez"
   },
   "source": [
    "**Produto Cartesiano**\n",
    "\n",
    "Na matemática, produto cartesiano é o resultado dos pares ordenados entre dois conjuntos - A e B - de forma que um elemento perterce a *A* e o outro elemento pertence a *B*"
   ]
  },
  {
   "cell_type": "code",
   "execution_count": 16,
   "id": "SOz2_0gwaR0N",
   "metadata": {
    "colab": {
     "base_uri": "https://localhost:8080/"
    },
    "id": "SOz2_0gwaR0N",
    "outputId": "9e6f5996-c3d8-4895-a61c-e7a645b1fbe3"
   },
   "outputs": [
    {
     "data": {
      "text/plain": [
       "[(1, 3), (1, 4), (2, 3), (2, 4)]"
      ]
     },
     "execution_count": 16,
     "metadata": {},
     "output_type": "execute_result"
    }
   ],
   "source": [
    "A = (1,2)\n",
    "B = (3,4)\n",
    "list(itertools.product(A,B))"
   ]
  },
  {
   "cell_type": "code",
   "execution_count": 15,
   "id": "WG8UANhpaXez",
   "metadata": {
    "colab": {
     "base_uri": "https://localhost:8080/"
    },
    "id": "WG8UANhpaXez",
    "outputId": "62074c94-df6a-4e17-ba50-beb89535793a"
   },
   "outputs": [
    {
     "data": {
      "text/plain": [
       "[(1, 1), (1, 2), (2, 1), (2, 2)]"
      ]
     },
     "execution_count": 15,
     "metadata": {},
     "output_type": "execute_result"
    }
   ],
   "source": [
    "# Produto Cartesiano de um conjunto sobre ele mesmo\n",
    "list(itertools.product(A,repeat=2))"
   ]
  },
  {
   "cell_type": "code",
   "execution_count": 24,
   "id": "42VbYLBvatN8",
   "metadata": {
    "colab": {
     "base_uri": "https://localhost:8080/"
    },
    "id": "42VbYLBvatN8",
    "outputId": "8d717072-ab82-4cb8-d890-27bb7263aca9"
   },
   "outputs": [
    {
     "data": {
      "text/plain": [
       "[('Carlos', 'Mara', 'João'),\n",
       " ('Carlos', 'Mara', 'Andrea'),\n",
       " ('Carlos', 'Karla', 'João'),\n",
       " ('Carlos', 'Karla', 'Andrea'),\n",
       " ('Pedro', 'Mara', 'João'),\n",
       " ('Pedro', 'Mara', 'Andrea'),\n",
       " ('Pedro', 'Karla', 'João'),\n",
       " ('Pedro', 'Karla', 'Andrea')]"
      ]
     },
     "execution_count": 24,
     "metadata": {},
     "output_type": "execute_result"
    }
   ],
   "source": [
    "# Produto cartesiano entre 3 conjunto\n",
    "list(itertools.product(['Carlos','Pedro'],['Mara','Karla'],['João','Andrea']))"
   ]
  },
  {
   "cell_type": "markdown",
   "id": "akuV9bUmdJTd",
   "metadata": {
    "id": "akuV9bUmdJTd"
   },
   "source": [
    "> ### Expressões Regulares - REGEX"
   ]
  },
  {
   "cell_type": "markdown",
   "id": "0488d771-1ba1-4dbd-8a01-13fac76d21b2",
   "metadata": {
    "id": "KuK2JHnCdHHo"
   },
   "source": [
    "Podemos trabalhar com expressões regulares em Python importando a biblioteca `re`"
   ]
  },
  {
   "cell_type": "code",
   "execution_count": 10,
   "id": "75b871ee-6a79-4fcb-b11f-836d0017ec96",
   "metadata": {},
   "outputs": [],
   "source": [
    "import re"
   ]
  },
  {
   "cell_type": "markdown",
   "id": "28905007-d283-4e95-b037-9a5d1ee1c27e",
   "metadata": {},
   "source": [
    "Podemos utilizar o método `search` para procurar uma ocorrência de padrão - uma expressão regular - em um texto  \n",
    "O método `search` retorna um objeto do tipo `Match`, esse objeto contém os índices onde a primeira ocorrência foi encontrada."
   ]
  },
  {
   "cell_type": "code",
   "execution_count": 11,
   "id": "b05e3781-975f-4437-8689-4262d700356e",
   "metadata": {},
   "outputs": [],
   "source": [
    "frase = 'o rato roeu a roupa do rei de roma'"
   ]
  },
  {
   "cell_type": "code",
   "execution_count": 16,
   "id": "68f7e884-1f9f-409b-8dae-536570079ca7",
   "metadata": {},
   "outputs": [
    {
     "name": "stdout",
     "output_type": "stream",
     "text": [
      "<re.Match object; span=(7, 9), match='ro'>\n"
     ]
    }
   ],
   "source": [
    "texto_ro = re.search(r'ro',frase)\n",
    "print(texto_ro)"
   ]
  },
  {
   "cell_type": "markdown",
   "id": "80106ee3-d54f-4435-8fac-5a9f78729bb7",
   "metadata": {},
   "source": [
    "Para retornar o texto encontrado de acordo com o padrão informando, basta utilizar `group(0)` ou `[0]`"
   ]
  },
  {
   "cell_type": "code",
   "execution_count": 99,
   "id": "2a9f3649-f1c7-4fc0-8d58-854ce1007ba9",
   "metadata": {},
   "outputs": [
    {
     "name": "stdout",
     "output_type": "stream",
     "text": [
      "ro\n",
      "ro\n"
     ]
    }
   ],
   "source": [
    "print(texto_ro.group(0))\n",
    "print(texto_ro[0])"
   ]
  },
  {
   "cell_type": "markdown",
   "id": "76f27ce7-04af-4488-811e-669e26e5674c",
   "metadata": {},
   "source": [
    "Para encontrar todas as ocorrências de um certo padrão pesquisado, podemos utilizar `findall`"
   ]
  },
  {
   "cell_type": "code",
   "execution_count": 103,
   "id": "6a68af87-659d-4009-8de2-fe7e7d02eea4",
   "metadata": {},
   "outputs": [
    {
     "name": "stdout",
     "output_type": "stream",
     "text": [
      "['ro', 'ro', 'ro']\n"
     ]
    }
   ],
   "source": [
    "print(re.findall(r'ro',frase))"
   ]
  },
  {
   "cell_type": "markdown",
   "id": "fe7c0554-c53b-4a5f-809a-0d72e5e25c25",
   "metadata": {},
   "source": [
    "**Exemplos de uso de alguns padrões de expressões regulares mais utilizados**"
   ]
  },
  {
   "cell_type": "code",
   "execution_count": 106,
   "id": "a1e21361-9356-44d3-9bb4-0e6f9f8c0793",
   "metadata": {},
   "outputs": [],
   "source": [
    "low = 'abcdefghijklmnopqrstuvwxyz'\n",
    "up = 'ABCDEFGHIJKLMNOPQRSTUVWXYZ'\n",
    "digits = '0123456789'\n",
    "simbols = '+-*/.,?!;:<>-_\\n'\n",
    "all = low + ' ' + up + ' ' + digits + ' ' + simbols"
   ]
  },
  {
   "cell_type": "markdown",
   "id": "746876a3-29b1-4f30-b3ca-d94be4887f95",
   "metadata": {},
   "source": [
    "Um caractere qualquer, exceto nova linha"
   ]
  },
  {
   "cell_type": "code",
   "execution_count": 105,
   "id": "c9a0a389-9851-4ce5-8d62-dce4fe3037e1",
   "metadata": {},
   "outputs": [
    {
     "name": "stdout",
     "output_type": "stream",
     "text": [
      "['a', 'b', 'c', 'd', 'e', 'f', 'g', 'h', 'i', 'j', 'k', 'l', 'm', 'n', 'o', 'p', 'q', 'r', 's', 't', 'u', 'v', 'w', 'x', 'y', 'z']\n",
      "['A', 'B', 'C', 'D', 'E', 'F', 'G', 'H', 'I', 'J', 'K', 'L', 'M', 'N', 'O', 'P', 'Q', 'R', 'S', 'T', 'U', 'V', 'W', 'X', 'Y', 'Z']\n",
      "['0', '1', '2', '3', '4', '5', '6', '7', '8', '9']\n",
      "['+', '-', '*', '/', '.', ',', '?', '!', ';', ':', '<', '>', '-', '_']\n"
     ]
    }
   ],
   "source": [
    "print(re.findall(r'.',low))\n",
    "print(re.findall(r'.',up))\n",
    "print(re.findall(r'.',digits))\n",
    "print(re.findall(r'.',simbols))"
   ]
  },
  {
   "cell_type": "markdown",
   "id": "6a508019-b221-4c43-b364-38457b2efa82",
   "metadata": {},
   "source": [
    "---\n",
    "Um dígito qualquer de 0 a 9"
   ]
  },
  {
   "cell_type": "code",
   "execution_count": 104,
   "id": "d8317f2d-b5da-4cbd-9193-9ad6c4664141",
   "metadata": {},
   "outputs": [
    {
     "name": "stdout",
     "output_type": "stream",
     "text": [
      "[]\n",
      "[]\n",
      "['0', '1', '2', '3', '4', '5', '6', '7', '8', '9']\n",
      "[]\n"
     ]
    }
   ],
   "source": [
    "print(re.findall(r'\\d',low))\n",
    "print(re.findall(r'\\d',up))\n",
    "print(re.findall(r'\\d',digits))\n",
    "print(re.findall(r'\\d',simbols))"
   ]
  },
  {
   "cell_type": "markdown",
   "id": "27eec87f-47e0-4941-8d94-549eec3a9ae8",
   "metadata": {},
   "source": [
    "---\n",
    "Um caractere qualquer, exceto um dígito de 0 a 9"
   ]
  },
  {
   "cell_type": "code",
   "execution_count": 96,
   "id": "3570d980-4e7b-4c66-9e4b-4dbaff0c98c4",
   "metadata": {},
   "outputs": [
    {
     "name": "stdout",
     "output_type": "stream",
     "text": [
      "['a', 'b', 'c', 'd', 'e', 'f', 'g', 'h', 'i', 'j', 'k', 'l', 'm', 'n', 'o', 'p', 'q', 'r', 's', 't', 'u', 'v', 'w', 'x', 'y', 'z']\n",
      "['A', 'B', 'C', 'D', 'E', 'F', 'G', 'H', 'I', 'J', 'K', 'L', 'M', 'N', 'O', 'P', 'Q', 'R', 'S', 'T', 'U', 'V', 'W', 'X', 'Y', 'Z']\n",
      "[]\n",
      "['+', '-', '*', '/', '.', ',', '?', '!', ';', ':', '<', '>', '-', '_', '\\n']\n"
     ]
    }
   ],
   "source": [
    "print(re.findall(r'\\D',low))\n",
    "print(re.findall(r'\\D',up))\n",
    "print(re.findall(r'\\D',digits))\n",
    "print(re.findall(r'\\D',simbols))"
   ]
  },
  {
   "cell_type": "markdown",
   "id": "1fa82825-4184-46bb-acb0-ca2058a9acad",
   "metadata": {},
   "source": [
    "---\n",
    "Um espaço em branco ((espaço, tabulação, nova linha)"
   ]
  },
  {
   "cell_type": "code",
   "execution_count": 108,
   "id": "730045bb-bab1-448b-b059-edeb7d4be614",
   "metadata": {},
   "outputs": [
    {
     "name": "stdout",
     "output_type": "stream",
     "text": [
      "[' ', ' ', ' ', '\\n']\n"
     ]
    }
   ],
   "source": [
    "print(re.findall(r'\\s',all))"
   ]
  },
  {
   "cell_type": "markdown",
   "id": "abcb45dd-495b-4286-bf6c-814d2847a040",
   "metadata": {},
   "source": [
    "---\n",
    "Início de uma string - nesse caso `a` ou `A` no começo de string"
   ]
  },
  {
   "cell_type": "code",
   "execution_count": 119,
   "id": "32635249-e0f4-48ea-8622-f06576064fb1",
   "metadata": {},
   "outputs": [
    {
     "name": "stdout",
     "output_type": "stream",
     "text": [
      "['a']\n",
      "['A']\n",
      "[]\n",
      "[]\n"
     ]
    }
   ],
   "source": [
    "print(re.findall(r'^a|^A',low))\n",
    "print(re.findall(r'^a|^A',up))\n",
    "print(re.findall(r'^a|^A',digits))\n",
    "print(re.findall(r'^a|^A',simbols))"
   ]
  },
  {
   "cell_type": "markdown",
   "id": "9b7c28b4-a279-4030-97dd-b09a71c484ca",
   "metadata": {},
   "source": [
    "Fim de uma string - nesse caso `Z` ou `9` no final de string"
   ]
  },
  {
   "cell_type": "code",
   "execution_count": 120,
   "id": "6177f43e-96ea-4e41-ae28-f26c57db4131",
   "metadata": {},
   "outputs": [
    {
     "name": "stdout",
     "output_type": "stream",
     "text": [
      "[]\n",
      "['Z']\n",
      "['9']\n",
      "[]\n"
     ]
    }
   ],
   "source": [
    "print(re.findall(r'Z$|9$',low))\n",
    "print(re.findall(r'Z$|9$',up))\n",
    "print(re.findall(r'Z$|9$',digits))\n",
    "print(re.findall(r'Z$|9$',simbols))"
   ]
  },
  {
   "cell_type": "markdown",
   "id": "8b095174-4f56-4c23-83f2-f632b620ce23",
   "metadata": {},
   "source": [
    "---\n",
    "Qualquer caractere entre os especificadas - nesse caso `a` a `m`, `O` a `X`, `*`, `<`, `>`, `;`, `,`"
   ]
  },
  {
   "cell_type": "code",
   "execution_count": 140,
   "id": "e832d7a9-b5d1-4075-9e12-74c52fdf4c39",
   "metadata": {},
   "outputs": [
    {
     "name": "stdout",
     "output_type": "stream",
     "text": [
      "['a', 'b', 'c', 'd', 'e', 'f', 'g', 'h', 'i', 'j', 'k', 'l', 'm']\n",
      "['O', 'P', 'Q', 'R', 'S', 'T', 'U', 'V', 'W', 'X']\n",
      "[]\n",
      "['*', ',', ';', '<', '>']\n"
     ]
    }
   ],
   "source": [
    "print(re.findall(r'[a-mO-X*<>;,]',low))\n",
    "print(re.findall(r'[a-mO-X*<>;,]',up))\n",
    "print(re.findall(r'[a-mO-X*<>;,]',digits))\n",
    "print(re.findall(r'[a-mO-X*<>;,]',simbols))"
   ]
  },
  {
   "cell_type": "markdown",
   "id": "34f9d6ce-29d3-4270-916c-5963a92a42d0",
   "metadata": {},
   "source": [
    "---\n",
    "Qualquer caractere, exceto os especificados (Contrário ao exemplo acima)"
   ]
  },
  {
   "cell_type": "code",
   "execution_count": 144,
   "id": "77b4f479-984c-4606-ad84-aa89a9b4e6c2",
   "metadata": {},
   "outputs": [
    {
     "name": "stdout",
     "output_type": "stream",
     "text": [
      "['n', 'o', 'p', 'q', 'r', 's', 't', 'u', 'v', 'w', 'x', 'y', 'z']\n",
      "['A', 'B', 'C', 'D', 'E', 'F', 'G', 'H', 'I', 'J', 'K', 'L', 'M', 'N', 'Y', 'Z']\n",
      "['0', '1', '2', '3', '4', '5', '6', '7', '8', '9']\n",
      "['+', '-', '/', '.', '?', '!', ':', '-', '_', '\\n']\n"
     ]
    }
   ],
   "source": [
    "print(re.findall(r'[^a-mO-X*<>;,]',low))\n",
    "print(re.findall(r'[^a-mO-X*<>;,]',up))\n",
    "print(re.findall(r'[^a-mO-X*<>;,]',digits))\n",
    "print(re.findall(r'[^a-mO-X*<>;,]',simbols))"
   ]
  },
  {
   "cell_type": "markdown",
   "id": "c6c3dbda-90e5-40cb-a44b-d0b788316081",
   "metadata": {},
   "source": [
    "---\n",
    "Uma expressão *OU* outra - nesse caso `abc` ou `MNO` ou `567` ou `<>`"
   ]
  },
  {
   "cell_type": "code",
   "execution_count": 169,
   "id": "abab5517-99c5-49ee-84d4-48d681d400d2",
   "metadata": {},
   "outputs": [
    {
     "name": "stdout",
     "output_type": "stream",
     "text": [
      "['abc']\n",
      "['MNO']\n",
      "['567']\n",
      "['<>']\n"
     ]
    }
   ],
   "source": [
    "print(re.findall(r'abc|MNO|567|<>',low))\n",
    "print(re.findall(r'abc|MNO|567|<>',up))\n",
    "print(re.findall(r'abc|MNO|567|<>',digits))\n",
    "print(re.findall(r'abc|MNO|567|<>',simbols))"
   ]
  },
  {
   "cell_type": "markdown",
   "id": "aa21b254-44d0-4860-bee1-04e1f979bac3",
   "metadata": {},
   "source": [
    "**Quantificadores**\n",
    "\n",
    "Podemos usar quantificadores para informar quantas vezes um certo padrão se repete ou não\n",
    "\n",
    "Quantificador | Situação\n",
    "--------------|---------\n",
    "*|\t0 ou mais\n",
    "+|\t1 ou mais\n",
    "?|\t0 ou um\n",
    "{3}|\tNúmero exato\n",
    "{3,4}|\tFaixa de números (mínimo, máximo)\n",
    "\n"
   ]
  },
  {
   "cell_type": "code",
   "execution_count": 181,
   "id": "19b8a1da-43c2-4017-9068-d6fb0d231c25",
   "metadata": {},
   "outputs": [
    {
     "name": "stdout",
     "output_type": "stream",
     "text": [
      "['01234', '56789']\n",
      "['abcdefgh', 'ijklmnop', 'qrstuvwx']\n",
      "['85', '98772', '6644']\n"
     ]
    }
   ],
   "source": [
    "print(re.findall(r'\\d{5}',digits)) # Sequência de 5 números quaisquer\n",
    "print(re.findall(r'.{8}',low)) # Sequência de 8 caracteres quaisquer\n",
    "print(re.findall(r'\\d{2,5}','O número dele é (85) 98772-6644')) # Sequência de números com tamanho de 2 a 5"
   ]
  },
  {
   "cell_type": "markdown",
   "id": "a2d298df-01cc-4d13-9360-99fc88cbea79",
   "metadata": {},
   "source": [
    "**Exemplo Prático 1**\n",
    "\n",
    "Extrair os números de telefones com o DDD da string informanda"
   ]
  },
  {
   "cell_type": "code",
   "execution_count": 235,
   "id": "94385816-f1eb-49d6-82e8-cfb1fdb13dc8",
   "metadata": {},
   "outputs": [],
   "source": [
    "texto = '''Laura Maria da Silva\n",
    "(46) 93201-6392\n",
    "(89) 42010-7411\n",
    "(61) 47405-4895\n",
    "Rua José Geraldo\n",
    "carlamaria@hotmail.com\n",
    "Le@d Dell Technologies'''"
   ]
  },
  {
   "cell_type": "markdown",
   "id": "ac0abd35-5d2b-4e30-a67e-66115fc438d9",
   "metadata": {},
   "source": [
    "Primeiro extraindo somente os DDD de cada número"
   ]
  },
  {
   "cell_type": "code",
   "execution_count": 236,
   "id": "cc709b5f-a185-4cc3-a73a-ebd889029e33",
   "metadata": {},
   "outputs": [
    {
     "data": {
      "text/plain": [
       "['(46)', '(89)', '(61)']"
      ]
     },
     "execution_count": 236,
     "metadata": {},
     "output_type": "execute_result"
    }
   ],
   "source": [
    "padrao1 = r'\\W\\d{2}\\W' # Um caractere não verbal seguido de dois números seguido de outro caractere não verbal\n",
    "re.findall(padrao1,texto)"
   ]
  },
  {
   "cell_type": "markdown",
   "id": "8aba1b4e-be78-4d55-92fd-3d19dd1517a1",
   "metadata": {},
   "source": [
    "Extraindo a primera parte do telefone"
   ]
  },
  {
   "cell_type": "code",
   "execution_count": 237,
   "id": "eeefa4b8-ae61-43e6-90f6-4d49c3a7ec4f",
   "metadata": {},
   "outputs": [
    {
     "data": {
      "text/plain": [
       "[' 93201', ' 42010', ' 47405']"
      ]
     },
     "execution_count": 237,
     "metadata": {},
     "output_type": "execute_result"
    }
   ],
   "source": [
    "padrao2 = r'\\s\\d{5}' # Um espaço seguido de cinco números\n",
    "re.findall(padrao2,texto)"
   ]
  },
  {
   "cell_type": "markdown",
   "id": "d5979b19-ff05-4cee-afaf-696583de348d",
   "metadata": {},
   "source": [
    "Por último extraindo os últimos 4 digitos do telefone"
   ]
  },
  {
   "cell_type": "code",
   "execution_count": 238,
   "id": "bc6b89db-ede4-4fc4-bee5-b09b9d541b55",
   "metadata": {},
   "outputs": [
    {
     "data": {
      "text/plain": [
       "['-6392', '-7411', '-4895']"
      ]
     },
     "execution_count": 238,
     "metadata": {},
     "output_type": "execute_result"
    }
   ],
   "source": [
    "padrao3 = r'-\\d{4}' # Um traço seguido de quatro números\n",
    "re.findall(padrao3,texto)"
   ]
  },
  {
   "cell_type": "markdown",
   "id": "f6407445-cef1-4a65-bff7-7376e882a19d",
   "metadata": {},
   "source": [
    "Podemos juntar todos os padrões que pesquisamos que o resultado serão os números de telefones completos"
   ]
  },
  {
   "cell_type": "code",
   "execution_count": 239,
   "id": "7e6c4707-0026-4c15-9055-86abe3d0ab31",
   "metadata": {},
   "outputs": [
    {
     "name": "stdout",
     "output_type": "stream",
     "text": [
      "\\W\\d{2}\\W\\s\\d{5}-\\d{4}\n"
     ]
    }
   ],
   "source": [
    "padrao = padrao1 + padrao2 + padrao3\n",
    "print(padrão)"
   ]
  },
  {
   "cell_type": "code",
   "execution_count": 240,
   "id": "da23c557-c394-4c5e-bfb9-870d9e02e180",
   "metadata": {},
   "outputs": [
    {
     "data": {
      "text/plain": [
       "['(46) 93201-6392', '(89) 42010-7411', '(61) 47405-4895']"
      ]
     },
     "execution_count": 240,
     "metadata": {},
     "output_type": "execute_result"
    }
   ],
   "source": [
    "re.findall(padrao,texto)"
   ]
  },
  {
   "cell_type": "markdown",
   "id": "8ca9362d-0b19-4e39-b57c-ab798cd54b84",
   "metadata": {},
   "source": [
    "**Exemplo Prático 2**\n",
    "\n",
    "Extrair os e-mails de um texto"
   ]
  },
  {
   "cell_type": "code",
   "execution_count": 241,
   "id": "6c69b746-122c-457a-9cb7-f2abb5541c2c",
   "metadata": {},
   "outputs": [],
   "source": [
    "texto2 = 'contato@dellead.com, franciscojose@yahoo.com.br, ana.julia@universidade.edu, francisca-321-aline@meu-trabalho.net, Le@d Dell Technologies'"
   ]
  },
  {
   "cell_type": "code",
   "execution_count": 268,
   "id": "da2f298c-422c-4188-acf6-00359e23cdaa",
   "metadata": {},
   "outputs": [
    {
     "data": {
      "text/plain": [
       "['contato@dellead.com',\n",
       " 'franciscojose@yahoo.com.br',\n",
       " 'ana.julia@universidade.edu',\n",
       " 'francisca-321-aline@meu-trabalho.net']"
      ]
     },
     "execution_count": 268,
     "metadata": {},
     "output_type": "execute_result"
    }
   ],
   "source": [
    "re.findall(r'[\\w_.-]+@[\\w-]+\\.[\\w.]+',texto2)"
   ]
  },
  {
   "cell_type": "markdown",
   "id": "e7a5738a-c36b-4d60-a59d-1bc944757aa8",
   "metadata": {},
   "source": [
    "> ### Logging\n",
    "\n",
    "**Gerenciamento de logs**"
   ]
  },
  {
   "cell_type": "code",
   "execution_count": 1,
   "id": "756ea58f-2457-4279-bba3-08566b8b94ea",
   "metadata": {},
   "outputs": [],
   "source": [
    "import logging"
   ]
  },
  {
   "cell_type": "markdown",
   "id": "b89940be-0b29-4816-901e-c4b002abf3f2",
   "metadata": {},
   "source": [
    "É possível usar o módulo de logging no python para registrar o que está acontecendo com algum programa, registrar avisos ou erros que acontecerem durante a execução.\n",
    "\n",
    "Existem 5 níveis de mensagens de log:\n",
    "\n",
    "Nível   | Valor | Explicação\n",
    "--------|-------|-----------\n",
    "DEBUG   | 10    | Para verificar se todo os comandos estão executando conforme esperado\n",
    "INFO    | 20    | Informações sobre a execução do programa\n",
    "WARNING | 30    | Para erros que não inteferem na execuão do programa\n",
    "ERROR   | 40    | Para erros que interferem de alguma forma transitória com a execução do programa\n",
    "CRITICAL| 50    | Para erros que impedem o correto funcionamento do programa"
   ]
  },
  {
   "cell_type": "markdown",
   "id": "785f12fb-c691-4ee1-bcdb-180154dcd6a7",
   "metadata": {},
   "source": [
    "*Mensagens de Log*"
   ]
  },
  {
   "cell_type": "code",
   "execution_count": 2,
   "id": "ac00ad76-79aa-4fd5-bde2-c2e96f0ce15d",
   "metadata": {},
   "outputs": [],
   "source": [
    "FORMAT_MSG = \"%(asctime)s | %(levelname)s -> %(message)s\"\n",
    "logging.basicConfig(\n",
    "    filename=\"logs.log\",\n",
    "    format=FORMAT_MSG\n",
    ")\n",
    "logger = logging.getLogger()"
   ]
  },
  {
   "cell_type": "code",
   "execution_count": 3,
   "id": "fd1d7b3f-1d02-4305-acfc-50945bc167ea",
   "metadata": {},
   "outputs": [],
   "source": [
    "logger.debug(\"Mensagem de Debug 1!\")\n",
    "logger.info(\"Mensagem de Informação 1!\")\n",
    "logger.warning(\"Mensagem de Aviso 1!\")\n",
    "logger.error(\"Mensagem de Erro 1!\")\n",
    "logger.critical(\"Mensagem de Erro Crítico 1!\")"
   ]
  },
  {
   "cell_type": "code",
   "execution_count": 4,
   "id": "6be032f8-70b4-4994-9eb6-7d269c41575a",
   "metadata": {},
   "outputs": [
    {
     "name": "stdout",
     "output_type": "stream",
     "text": [
      "2021-11-13 17:12:41,730 | WARNING -> Mensagem de Aviso 1!\n",
      "2021-11-13 17:12:41,730 | ERROR -> Mensagem de Erro 1!\n",
      "2021-11-13 17:12:41,730 | CRITICAL -> Mensagem de Erro Crítico 1!\n",
      "\n"
     ]
    }
   ],
   "source": [
    "with open(\"logs.log\", \"r\") as log1:\n",
    "    print(log1.read())"
   ]
  },
  {
   "cell_type": "markdown",
   "id": "1aa96978-61ee-4c59-b9e4-9d66069f7bab",
   "metadata": {},
   "source": [
    "O comportamento padrão é registrar somente mensagens com valor 30 ou maior, ou seja, mensagens de Debugs e Infos são ignoradas.  \n",
    "Para alterar isso, mudamos o `level` para o nível que desejarmos"
   ]
  },
  {
   "cell_type": "code",
   "execution_count": 5,
   "id": "89056a9c-032b-48f4-814d-6203779f638f",
   "metadata": {},
   "outputs": [],
   "source": [
    "logger.setLevel(logging.DEBUG)"
   ]
  },
  {
   "cell_type": "code",
   "execution_count": 6,
   "id": "b3e5e5c8-4bd1-4030-bd13-8f2dbdd87fec",
   "metadata": {},
   "outputs": [],
   "source": [
    "logger.debug(\"Mensagem de Debug 2!\")\n",
    "logger.info(\"Mensagem de Informação 2!\")\n",
    "logger.warning(\"Mensagem de Aviso 2!\")\n",
    "logger.error(\"Mensagem de Erro 2!\")\n",
    "logger.critical(\"Mensagem de Erro Crítico 2!\")"
   ]
  },
  {
   "cell_type": "code",
   "execution_count": 7,
   "id": "2f4ca143-2642-4543-9649-712df0c45dd9",
   "metadata": {},
   "outputs": [
    {
     "name": "stdout",
     "output_type": "stream",
     "text": [
      "2021-11-13 17:12:41,730 | WARNING -> Mensagem de Aviso 1!\n",
      "2021-11-13 17:12:41,730 | ERROR -> Mensagem de Erro 1!\n",
      "2021-11-13 17:12:41,730 | CRITICAL -> Mensagem de Erro Crítico 1!\n",
      "2021-11-13 17:12:56,600 | DEBUG -> Mensagem de Debug 2!\n",
      "2021-11-13 17:12:56,600 | INFO -> Mensagem de Informação 2!\n",
      "2021-11-13 17:12:56,600 | WARNING -> Mensagem de Aviso 2!\n",
      "2021-11-13 17:12:56,600 | ERROR -> Mensagem de Erro 2!\n",
      "2021-11-13 17:12:56,601 | CRITICAL -> Mensagem de Erro Crítico 2!\n",
      "\n"
     ]
    }
   ],
   "source": [
    "with open(\"logs.log\", \"r\") as log1:\n",
    "    print(log1.read())"
   ]
  },
  {
   "cell_type": "markdown",
   "id": "22d08d4e-7c35-4ad7-9905-d2b7cbec4d1d",
   "metadata": {},
   "source": [
    "**Exempĺo de Programa de divisão entre dois números usando logging**"
   ]
  },
  {
   "cell_type": "code",
   "execution_count": 1,
   "id": "501b883f-57fc-4b45-a426-90b6781d66af",
   "metadata": {},
   "outputs": [],
   "source": [
    "import logging\n",
    "logging.basicConfig(\n",
    "    filename=\"division.log\",\n",
    "    level=logging.INFO,\n",
    "    format=\"%(asctime)s | %(levelname)s | %(message)s\"\n",
    ")\n",
    "divLogger = logging.getLogger()"
   ]
  },
  {
   "cell_type": "code",
   "execution_count": 2,
   "id": "e6bd5c0c-05f4-4857-91c3-aa32b8ec7867",
   "metadata": {},
   "outputs": [
    {
     "name": "stdout",
     "output_type": "stream",
     "text": [
      "Vamos dividir dois números!\n"
     ]
    },
    {
     "name": "stdin",
     "output_type": "stream",
     "text": [
      "Digite o primeiro número:  1\n",
      "Digite o segundo número :  0\n"
     ]
    },
    {
     "name": "stdout",
     "output_type": "stream",
     "text": [
      "Operação impossível\n",
      "──────────────────────────────────\n",
      "Vamos dividir dois números!\n"
     ]
    },
    {
     "name": "stdin",
     "output_type": "stream",
     "text": [
      "Digite o primeiro número:  0\n",
      "Digite o segundo número :  0\n"
     ]
    },
    {
     "name": "stdout",
     "output_type": "stream",
     "text": [
      "Operação impossível\n",
      "──────────────────────────────────\n",
      "Vamos dividir dois números!\n"
     ]
    },
    {
     "name": "stdin",
     "output_type": "stream",
     "text": [
      "Digite o primeiro número:  51\n",
      "Digite o segundo número :  11\n"
     ]
    },
    {
     "name": "stdout",
     "output_type": "stream",
     "text": [
      "O resultado da divisão é 4.636363636363637\n",
      "──────────────────────────────────\n"
     ]
    }
   ],
   "source": [
    "divLogger.info(\"<<<<<< Programa Iniciado!\")\n",
    "for _ in range(3):\n",
    "    try:\n",
    "        divLogger.info(\"Loop For Iniciado!\")\n",
    "        print(\"Vamos dividir dois números!\")\n",
    "        n1 = int(input(\"Digite o primeiro número: \"))\n",
    "        n2 = int(input(\"Digite o segundo número : \"))\n",
    "        divLogger.info(\"Realizando a divisão dos números!\")\n",
    "        division = n1/n2\n",
    "        print(f\"O resultado da divisão é {division}\")\n",
    "    except ZeroDivisionError:\n",
    "        print(\"Operação impossível\")\n",
    "        divLogger.warning(\"Divisão por Zero não é possível!\")\n",
    "    except Exception as erro:\n",
    "        divLogger.error(erro)\n",
    "        print(\"Tente Novamente\")\n",
    "    finally:\n",
    "        print(\"──────────────────────────────────\")\n",
    "        divLogger.info(\"Loop For Finalizado\")\n",
    "divLogger.info(\">>>>>> Programa Finalizado!\")"
   ]
  },
  {
   "cell_type": "code",
   "execution_count": 3,
   "id": "555e2f7f-5c58-4b47-bdc3-1cffbfb6f354",
   "metadata": {},
   "outputs": [
    {
     "name": "stdout",
     "output_type": "stream",
     "text": [
      "2021-11-13 17:39:27,546 | INFO | <<<<<< Programa Iniciado!\n",
      "2021-11-13 17:39:27,547 | INFO | Loop For Iniciado!\n",
      "2021-11-13 17:39:30,232 | INFO | Realizando a divisão dos números!\n",
      "2021-11-13 17:39:30,232 | WARNING | Divisão por Zero não é possível!\n",
      "2021-11-13 17:39:30,232 | INFO | Loop For Finalizado\n",
      "2021-11-13 17:39:30,233 | INFO | Loop For Iniciado!\n",
      "2021-11-13 17:39:31,520 | INFO | Realizando a divisão dos números!\n",
      "2021-11-13 17:39:31,520 | WARNING | Divisão por Zero não é possível!\n",
      "2021-11-13 17:39:31,520 | INFO | Loop For Finalizado\n",
      "2021-11-13 17:39:31,521 | INFO | Loop For Iniciado!\n",
      "2021-11-13 17:39:33,953 | INFO | Realizando a divisão dos números!\n",
      "2021-11-13 17:39:33,954 | INFO | Loop For Finalizado\n",
      "2021-11-13 17:39:33,955 | INFO | >>>>>> Programa Finalizado!\n",
      "\n"
     ]
    }
   ],
   "source": [
    "with open(\"division.log\",\"r\") as division:\n",
    "    print(division.read())"
   ]
  }
 ],
 "metadata": {
  "colab": {
   "name": "PythonML_001.2.ipynb",
   "provenance": []
  },
  "kernelspec": {
   "display_name": "Python 3",
   "language": "python",
   "name": "python3"
  },
  "language_info": {
   "codemirror_mode": {
    "name": "ipython",
    "version": 3
   },
   "file_extension": ".py",
   "mimetype": "text/x-python",
   "name": "python",
   "nbconvert_exporter": "python",
   "pygments_lexer": "ipython3",
   "version": "3.8.10"
  }
 },
 "nbformat": 4,
 "nbformat_minor": 5
}
