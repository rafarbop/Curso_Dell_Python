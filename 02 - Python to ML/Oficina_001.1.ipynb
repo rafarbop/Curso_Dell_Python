{
 "cells": [
  {
   "cell_type": "markdown",
   "id": "2b321d36-9ea8-4be1-887b-85f8424af7dc",
   "metadata": {},
   "source": [
    "# Oficina Aula 1.1\n",
    "Depois de aprender bastante sobre programação funcional nesta aula, chegou o momento de colocar seus conhecimentos em prática para resolver o problema proposto nesta oficina. Para isso, imagine o seguinte caso:\n",
    "\n",
    "Você foi chamado para trabalhar como novo programador Python para o aplicativo Spotify, analisando as avaliações de músicas pelos usuários. O seu chefe está muito entusiasmado com a sua chegada e já pensou em várias perguntas para você responder. Ele coletou diversas avaliações dos gêneros musicais Rock e Pop.\n",
    "\n",
    "Em cada avaliação o usuário pode dar uma nota em quantidade de estrelas para uma música, de 1 a 5. Ele quer que você mapeie as avaliações numéricas em categorias: entre 0 e 1 estrelas é uma música ruim, entre 2 e 3 é uma música mediana e entre 4 e 5 são para as músicas boas. O seu papel é dizer para o seu chefe quantas músicas ruins, medianas e boas existem para cada gênero: Rock e Pop.\n",
    "\n",
    "Além disso, ele quer saber se existe alguma música mediana de Rock e se todas as músicas de Pop são boas. Por fim, quer saber qual gênero musical teve uma maior quantidade de músicas boas. Abaixo seguem as notas de cada gênero"
   ]
  },
  {
   "cell_type": "code",
   "execution_count": 1,
   "id": "eca4e906-e50f-4689-8723-799f2ddef3b7",
   "metadata": {},
   "outputs": [],
   "source": [
    "notas_rock = [5, 1, 4, 0, 2, 5, 2, 1, 0, 5, 5, 3, 5, 2, 5, 5, 3, 5, 4, 4]\n",
    "notas_pop = [3, 2, 5, 1, 2, 1, 4, 1, 5, 0, 4, 2, 1, 2, 5, 2, 4, 4, 0, 1]"
   ]
  },
  {
   "cell_type": "markdown",
   "id": "81c689ce-49db-4577-ac88-b8b9344b0a52",
   "metadata": {},
   "source": [
    "Pronto, com essas informações você pode começar a desenvolver um programa em Python capaz de responder as perguntas do seu chefe.\n",
    "\n",
    "---\n",
    "Resolução"
   ]
  },
  {
   "cell_type": "code",
   "execution_count": 2,
   "id": "df3aded2-0e1d-4c5c-830a-03e8ba6b4664",
   "metadata": {},
   "outputs": [],
   "source": [
    "def classificar_musicas(notas,genero_musicial):\n",
    "    '''Classifica uma lista de nota de músicas e informa as quantidades de músicas por faixa de classificação'''\n",
    "    print(f\"{genero_musicial}\".center(50,'-'))\n",
    "    ruins = list(filter(lambda x:0<=x<=1,notas))\n",
    "    medianos = list(filter(lambda x:2<=x<=3,notas))\n",
    "    bons = list(filter(lambda x:4<=x<=5,notas))\n",
    "    print(f\"Quantidade de músicas ruins: {len(ruins)}\\nnotas: {ruins}\\n\")\n",
    "    print(f\"Quantidade de músicas ruins: {len(medianos)}\\nnotas: {medianos}\\n\")\n",
    "    print(f\"Quantidade de músicas ruins: {len(bons)}\\nnotas: {bons}\\n\")\n",
    "    print(f\"Total de Músicas Avaliadas: {len(notas)}\")"
   ]
  },
  {
   "cell_type": "code",
   "execution_count": 3,
   "id": "6f882821-b7a9-44c2-b305-0aa587b5b44d",
   "metadata": {},
   "outputs": [
    {
     "name": "stdout",
     "output_type": "stream",
     "text": [
      "----------------------Rocks-----------------------\n",
      "Quantidade de músicas ruins: 4\n",
      "notas: [1, 0, 1, 0]\n",
      "\n",
      "Quantidade de músicas ruins: 5\n",
      "notas: [2, 2, 3, 2, 3]\n",
      "\n",
      "Quantidade de músicas ruins: 11\n",
      "notas: [5, 4, 5, 5, 5, 5, 5, 5, 5, 4, 4]\n",
      "\n",
      "Total de Músicas Avaliadas: 20\n"
     ]
    }
   ],
   "source": [
    "classificar_musicas(notas_rock,'Rocks')"
   ]
  },
  {
   "cell_type": "code",
   "execution_count": 4,
   "id": "f23183c7-1dd0-49a1-a2de-2ad7e86887df",
   "metadata": {},
   "outputs": [
    {
     "name": "stdout",
     "output_type": "stream",
     "text": [
      "-----------------------Pop------------------------\n",
      "Quantidade de músicas ruins: 7\n",
      "notas: [1, 1, 1, 0, 1, 0, 1]\n",
      "\n",
      "Quantidade de músicas ruins: 6\n",
      "notas: [3, 2, 2, 2, 2, 2]\n",
      "\n",
      "Quantidade de músicas ruins: 7\n",
      "notas: [5, 4, 5, 4, 5, 4, 4]\n",
      "\n",
      "Total de Músicas Avaliadas: 20\n"
     ]
    }
   ],
   "source": [
    "classificar_musicas(notas_pop,'Pop')"
   ]
  }
 ],
 "metadata": {
  "kernelspec": {
   "display_name": "Python 3",
   "language": "python",
   "name": "python3"
  },
  "language_info": {
   "codemirror_mode": {
    "name": "ipython",
    "version": 3
   },
   "file_extension": ".py",
   "mimetype": "text/x-python",
   "name": "python",
   "nbconvert_exporter": "python",
   "pygments_lexer": "ipython3",
   "version": "3.8.10"
  }
 },
 "nbformat": 4,
 "nbformat_minor": 5
}
