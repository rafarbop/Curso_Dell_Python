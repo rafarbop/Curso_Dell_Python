{
 "cells": [
  {
   "cell_type": "code",
   "execution_count": 1,
   "metadata": {},
   "outputs": [],
   "source": [
    "import random"
   ]
  },
  {
   "cell_type": "code",
   "execution_count": 2,
   "metadata": {},
   "outputs": [],
   "source": [
    "opcoes = ['Papel', 'Pedra', 'Tesoura']\n",
    "def resultado_jogo(jogador, computador):\n",
    "    if computador == jogador:\n",
    "        return \"Empate\"\n",
    "    elif jogador == 'Pedra':\n",
    "        if computador == 'Tesoura':\n",
    "            return 'jogador ganha!'\n",
    "        else:\n",
    "            return 'jogador perde'\n",
    "    elif jogador == 'Papel':\n",
    "        if computador == 'Pedra':\n",
    "            return 'jogador ganha!'\n",
    "        else:\n",
    "            return 'jogador perde'\n",
    "    elif jogador == 'Tesoura':\n",
    "        if computador == 'Papel':\n",
    "            return 'jogador ganha!'\n",
    "        else:\n",
    "            return 'jogador perde'"
   ]
  },
  {
   "cell_type": "code",
   "execution_count": 11,
   "metadata": {},
   "outputs": [
    {
     "name": "stdout",
     "output_type": "stream",
     "text": [
      "Vamos Jogar Pedra-Papel-Tesoura!!!\n",
      "Jogada do Computador: Pedra\n",
      "Jogado do Usuário: Papel\n",
      "jogador ganha!\n",
      "Jogada do Computador: Pedra\n",
      "Jogado do Usuário: Papel\n",
      "jogador ganha!\n",
      "Jogada do Computador: Papel\n",
      "Jogado do Usuário: Papel\n",
      "Empate\n",
      "Jogada do Computador: Pedra\n",
      "Jogado do Usuário: Pedra\n",
      "Empate\n",
      "Que Pena - Jogamos depois!\n"
     ]
    }
   ],
   "source": [
    "print(\"Vamos Jogar Pedra-Papel-Tesoura!!!\")\n",
    "\n",
    "while True:\n",
    "    jogador_escolhe = int(input(\"\"\"Escolha uma opção (1, 2, 3 ou 4):\n",
    "        1 - Papel\n",
    "        2 - Pedra\n",
    "        3 - Tesoura\n",
    "        4 - Exit\\n\\n\"\"\"))\n",
    "    \n",
    "    if jogador_escolhe == 4:\n",
    "        print(\"Que Pena - Jogamos depois!\")\n",
    "        break\n",
    "    \n",
    "    computador_joga = random.choice(opcoes)\n",
    "    resultado = resultado_jogo(opcoes[jogador_escolhe-1], computador_joga)\n",
    "    print(f\"Jogada do Computador: {computador_joga}\\nJogado do Usuário: {opcoes[jogador_escolhe-1]}\")\n",
    "    print(resultado)"
   ]
  },
  {
   "cell_type": "code",
   "execution_count": null,
   "metadata": {},
   "outputs": [],
   "source": []
  }
 ],
 "metadata": {
  "interpreter": {
   "hash": "916dbcbb3f70747c44a77c7bcd40155683ae19c65e1c03b4aa3499c5328201f1"
  },
  "kernelspec": {
   "display_name": "Python 3.8.10 64-bit",
   "language": "python",
   "name": "python3"
  },
  "language_info": {
   "codemirror_mode": {
    "name": "ipython",
    "version": 3
   },
   "file_extension": ".py",
   "mimetype": "text/x-python",
   "name": "python",
   "nbconvert_exporter": "python",
   "pygments_lexer": "ipython3",
   "version": "3.8.10"
  },
  "orig_nbformat": 4
 },
 "nbformat": 4,
 "nbformat_minor": 2
}
