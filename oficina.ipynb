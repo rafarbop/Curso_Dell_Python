{
 "cells": [
  {
   "cell_type": "markdown",
   "metadata": {
    "slideshow": {
     "slide_type": "skip"
    }
   },
   "source": [
    "# Micro 09: Conjuntos e suas utilizações &ndash; oficina\n",
    "\n",
    "Ao planejar um casamento, um casal monta sua lista de presentes e faz uma pesquisa para encontrar algumas lojas de departamentos que trabalhem com este serviço. O casal encontra 4 lojas favoráveis, mas cada uma oferece apenas alguns dos presentes que gostariam de ganhar. Como não dá para colocar a lista em todas as lojas ao mesmo tempo, algumas perguntas podem ajudar a decidir o que fazer, como: \n",
    "\n",
    "1. Quais produtos são oferecidos em ao menos uma loja? \n",
    "1. Quais produtos são oferecidos em todas as lojas? \n",
    "1. Quais produtos não são encontrados em nenhuma loja? \n",
    "1. Quais produtos são exclusivos de cada loja? \n",
    "1. Se for possível escolher duas lojas pra cobrir um número maior de presentes, qual é o maior número de presentes que é possível cobrir dessa forma? \n",
    "\n",
    "Faça um programa que calcule e imprima as respostas para estas perguntas. As 3 primeiras perguntas podem ser respondidas imprimindo conjuntos ou listas com os produtos correspondentes. A quarta pergunta pode ser respondida imprimindo uma lista de 4 coleções de produtos, ou imprimindo uma coleção por linha. A quinta pergunta pode ser respondida apenas com o número de presentes da melhor combinação de lojas, não precisa dizer qual é a combinação. \n",
    "\n",
    "Abaixo, você encontra duas células: a primeira contém valores exemplo para a lista de presentes e para os catálogos das lojas; a segunta a saída esperada do programa, dadas estas definições. Escreva seu programa em uma célula intermediária."
   ]
  },
  {
   "cell_type": "code",
   "execution_count": 36,
   "metadata": {},
   "outputs": [],
   "source": [
    "presentes = {\n",
    "    'cadeira', 'cafeteira', 'caneca', 'escumadeira',\n",
    "    'espanador', 'espátula', 'estante', 'faqueiro',\n",
    "    'frigideira', 'funil', 'halter', 'liquidificador',\n",
    "    'notebook', 'panela', 'peneira', 'playstation',\n",
    "    'rádio', 'smartphone', 'sofá', 'tablet', 'teclado',\n",
    "    'televisão', 'vassoura', 'webcam', 'xbox',\n",
    "}\n",
    "\n",
    "loja1 = {\n",
    "    'cadeira', 'cafeteira', 'caneca', 'escumadeira', 'estante',\n",
    "    'frigideira', 'funil', 'liquidificador', 'notebook', 'panela',\n",
    "    'playstation', 'smartphone', 'teclado', 'televisão'}\n",
    "loja2 = {\n",
    "    'cafeteira', 'escumadeira', 'espanador', 'frigideira', 'funil',\n",
    "    'halter', 'peneira', 'playstation', 'sofá', 'tablet', 'televisão',\n",
    "    'vassoura', 'webcam', 'xbox'}\n",
    "loja3 = {\n",
    "    'caneca', 'escumadeira', 'espanador', 'espátula', 'estante',\n",
    "    'frigideira', 'halter', 'playstation', 'rádio', 'smartphone',\n",
    "    'sofá', 'teclado', 'televisão', 'vassoura', 'xbox'}\n",
    "loja4 = {\n",
    "    'caneca', 'escumadeira', 'espanador', 'espátula', 'estante',\n",
    "    'frigideira', 'halter', 'playstation', 'rádio', 'smartphone',\n",
    "    'sofá', 'teclado', 'televisão', 'vassoura', 'xbox'}"
   ]
  },
  {
   "cell_type": "raw",
   "metadata": {
    "slideshow": {
     "slide_type": "fragment"
    }
   },
   "source": [
    "1. Produtos oferecidos em alguma loja: {'teclado', 'rádio', 'xbox', 'espanador', 'playstation', 'peneira', 'tablet', 'cafeteira', 'caneca', 'estante', 'escumadeira', 'smartphone', 'vassoura', 'espátula', 'liquidificador', 'cadeira', 'webcam', 'notebook', 'sofá', 'panela', 'funil', 'televisão', 'frigideira', 'halter'}\n",
    "2. Produtos em todas as lojas: {'escumadeira', 'frigideira', 'playstation', 'televisão'}\n",
    "3. Produtos não encontrados: {'faqueiro'}\n",
    "4. Produtos exclusivos: [{'cadeira', 'liquidificador', 'notebook', 'panela'},\n",
    "                         {'peneira', 'tablet', 'webcam'},\n",
    "                         set(),\n",
    "                         set()]\n",
    "5. Melhore dupla tem 22 itens"
   ]
  }
 ],
 "metadata": {
  "celltoolbar": "Slideshow",
  "kernelspec": {
   "display_name": "Python 3",
   "language": "python",
   "name": "python3"
  },
  "language_info": {
   "codemirror_mode": {
    "name": "ipython",
    "version": 3
   },
   "file_extension": ".py",
   "mimetype": "text/x-python",
   "name": "python",
   "nbconvert_exporter": "python",
   "pygments_lexer": "ipython3",
   "version": "3.8.10"
  },
  "toc": {
   "base_numbering": 1,
   "nav_menu": {},
   "number_sections": true,
   "sideBar": true,
   "skip_h1_title": true,
   "title_cell": "Índice",
   "title_sidebar": "Contents",
   "toc_cell": false,
   "toc_position": {
    "height": "calc(100% - 180px)",
    "left": "10px",
    "top": "150px",
    "width": "337px"
   },
   "toc_section_display": true,
   "toc_window_display": true
  }
 },
 "nbformat": 4,
 "nbformat_minor": 4
}
