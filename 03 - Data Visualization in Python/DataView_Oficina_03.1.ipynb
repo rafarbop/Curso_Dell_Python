{
 "cells": [
  {
   "cell_type": "markdown",
   "id": "f1962bc7-7686-469a-8f0f-0001b4051c11",
   "metadata": {},
   "source": [
    "# Visualização de Dados (em Python)"
   ]
  },
  {
   "cell_type": "markdown",
   "id": "edb40a04-a2ce-4ee1-a6b0-987cf1fb3249",
   "metadata": {},
   "source": [
    "---\n",
    "## Aula 3.1 - Visualizando distribuições de uma variável"
   ]
  },
  {
   "cell_type": "markdown",
   "id": "07857241",
   "metadata": {},
   "source": [
    "**Distribuição de Dados e Histogramas**\n",
    "\n",
    "Em algumas situações a verificação da distribuição de uma certa variável em determinado conjunto de dados pode trazer informações relevantes e importantes. Por exemplo, em uma pesquisa de intenção de voto para alguma eleição, pode ser realizada o agrupamento de dados de votação a partir de faixas de idades, conhecendo dessa forma, qual candidato mais votado pelas pessoas com faixa de idade entre 20 e 29."
   ]
  },
  {
   "cell_type": "code",
   "execution_count": 1,
   "id": "3146f560",
   "metadata": {},
   "outputs": [],
   "source": [
    "import pandas as pd\n",
    "import matplotlib.pyplot as plot\n",
    "import seaborn"
   ]
  },
  {
   "cell_type": "code",
   "execution_count": 4,
   "id": "2af345ec",
   "metadata": {},
   "outputs": [
    {
     "data": {
      "text/html": [
       "<div>\n",
       "<style scoped>\n",
       "    .dataframe tbody tr th:only-of-type {\n",
       "        vertical-align: middle;\n",
       "    }\n",
       "\n",
       "    .dataframe tbody tr th {\n",
       "        vertical-align: top;\n",
       "    }\n",
       "\n",
       "    .dataframe thead th {\n",
       "        text-align: right;\n",
       "    }\n",
       "</style>\n",
       "<table border=\"1\" class=\"dataframe\">\n",
       "  <thead>\n",
       "    <tr style=\"text-align: right;\">\n",
       "      <th></th>\n",
       "      <th>city</th>\n",
       "      <th>area</th>\n",
       "      <th>rooms</th>\n",
       "      <th>bathroom</th>\n",
       "      <th>parking spaces</th>\n",
       "      <th>floor</th>\n",
       "      <th>animal</th>\n",
       "      <th>furniture</th>\n",
       "      <th>hoa (R$)</th>\n",
       "      <th>rent amount (R$)</th>\n",
       "      <th>property tax (R$)</th>\n",
       "      <th>fire insurance (R$)</th>\n",
       "      <th>total (R$)</th>\n",
       "    </tr>\n",
       "  </thead>\n",
       "  <tbody>\n",
       "    <tr>\n",
       "      <th>0</th>\n",
       "      <td>São Paulo</td>\n",
       "      <td>70</td>\n",
       "      <td>2</td>\n",
       "      <td>1</td>\n",
       "      <td>1</td>\n",
       "      <td>7</td>\n",
       "      <td>acept</td>\n",
       "      <td>furnished</td>\n",
       "      <td>2065</td>\n",
       "      <td>3300</td>\n",
       "      <td>211</td>\n",
       "      <td>42</td>\n",
       "      <td>5618</td>\n",
       "    </tr>\n",
       "    <tr>\n",
       "      <th>1</th>\n",
       "      <td>Porto Alegre</td>\n",
       "      <td>80</td>\n",
       "      <td>1</td>\n",
       "      <td>1</td>\n",
       "      <td>1</td>\n",
       "      <td>6</td>\n",
       "      <td>acept</td>\n",
       "      <td>not furnished</td>\n",
       "      <td>1000</td>\n",
       "      <td>2800</td>\n",
       "      <td>0</td>\n",
       "      <td>41</td>\n",
       "      <td>3841</td>\n",
       "    </tr>\n",
       "    <tr>\n",
       "      <th>2</th>\n",
       "      <td>Porto Alegre</td>\n",
       "      <td>51</td>\n",
       "      <td>2</td>\n",
       "      <td>1</td>\n",
       "      <td>0</td>\n",
       "      <td>2</td>\n",
       "      <td>acept</td>\n",
       "      <td>not furnished</td>\n",
       "      <td>270</td>\n",
       "      <td>1112</td>\n",
       "      <td>22</td>\n",
       "      <td>17</td>\n",
       "      <td>1421</td>\n",
       "    </tr>\n",
       "    <tr>\n",
       "      <th>3</th>\n",
       "      <td>São Paulo</td>\n",
       "      <td>25</td>\n",
       "      <td>1</td>\n",
       "      <td>1</td>\n",
       "      <td>0</td>\n",
       "      <td>1</td>\n",
       "      <td>not acept</td>\n",
       "      <td>not furnished</td>\n",
       "      <td>0</td>\n",
       "      <td>800</td>\n",
       "      <td>25</td>\n",
       "      <td>11</td>\n",
       "      <td>836</td>\n",
       "    </tr>\n",
       "    <tr>\n",
       "      <th>4</th>\n",
       "      <td>Rio de Janeiro</td>\n",
       "      <td>72</td>\n",
       "      <td>2</td>\n",
       "      <td>1</td>\n",
       "      <td>0</td>\n",
       "      <td>7</td>\n",
       "      <td>acept</td>\n",
       "      <td>not furnished</td>\n",
       "      <td>740</td>\n",
       "      <td>1900</td>\n",
       "      <td>85</td>\n",
       "      <td>25</td>\n",
       "      <td>2750</td>\n",
       "    </tr>\n",
       "    <tr>\n",
       "      <th>...</th>\n",
       "      <td>...</td>\n",
       "      <td>...</td>\n",
       "      <td>...</td>\n",
       "      <td>...</td>\n",
       "      <td>...</td>\n",
       "      <td>...</td>\n",
       "      <td>...</td>\n",
       "      <td>...</td>\n",
       "      <td>...</td>\n",
       "      <td>...</td>\n",
       "      <td>...</td>\n",
       "      <td>...</td>\n",
       "      <td>...</td>\n",
       "    </tr>\n",
       "    <tr>\n",
       "      <th>8199</th>\n",
       "      <td>São Paulo</td>\n",
       "      <td>150</td>\n",
       "      <td>3</td>\n",
       "      <td>3</td>\n",
       "      <td>2</td>\n",
       "      <td>8</td>\n",
       "      <td>not acept</td>\n",
       "      <td>furnished</td>\n",
       "      <td>0</td>\n",
       "      <td>13500</td>\n",
       "      <td>0</td>\n",
       "      <td>172</td>\n",
       "      <td>13670</td>\n",
       "    </tr>\n",
       "    <tr>\n",
       "      <th>8200</th>\n",
       "      <td>Porto Alegre</td>\n",
       "      <td>63</td>\n",
       "      <td>2</td>\n",
       "      <td>1</td>\n",
       "      <td>1</td>\n",
       "      <td>5</td>\n",
       "      <td>not acept</td>\n",
       "      <td>furnished</td>\n",
       "      <td>402</td>\n",
       "      <td>1478</td>\n",
       "      <td>24</td>\n",
       "      <td>22</td>\n",
       "      <td>1926</td>\n",
       "    </tr>\n",
       "    <tr>\n",
       "      <th>8201</th>\n",
       "      <td>Rio de Janeiro</td>\n",
       "      <td>70</td>\n",
       "      <td>3</td>\n",
       "      <td>3</td>\n",
       "      <td>0</td>\n",
       "      <td>8</td>\n",
       "      <td>not acept</td>\n",
       "      <td>furnished</td>\n",
       "      <td>980</td>\n",
       "      <td>6000</td>\n",
       "      <td>332</td>\n",
       "      <td>78</td>\n",
       "      <td>7390</td>\n",
       "    </tr>\n",
       "    <tr>\n",
       "      <th>8202</th>\n",
       "      <td>Rio de Janeiro</td>\n",
       "      <td>120</td>\n",
       "      <td>2</td>\n",
       "      <td>2</td>\n",
       "      <td>2</td>\n",
       "      <td>8</td>\n",
       "      <td>acept</td>\n",
       "      <td>furnished</td>\n",
       "      <td>1585</td>\n",
       "      <td>12000</td>\n",
       "      <td>279</td>\n",
       "      <td>155</td>\n",
       "      <td>14020</td>\n",
       "    </tr>\n",
       "    <tr>\n",
       "      <th>8203</th>\n",
       "      <td>São Paulo</td>\n",
       "      <td>80</td>\n",
       "      <td>2</td>\n",
       "      <td>1</td>\n",
       "      <td>0</td>\n",
       "      <td>-</td>\n",
       "      <td>acept</td>\n",
       "      <td>not furnished</td>\n",
       "      <td>0</td>\n",
       "      <td>1400</td>\n",
       "      <td>165</td>\n",
       "      <td>22</td>\n",
       "      <td>1587</td>\n",
       "    </tr>\n",
       "  </tbody>\n",
       "</table>\n",
       "<p>8204 rows × 13 columns</p>\n",
       "</div>"
      ],
      "text/plain": [
       "                city  area  rooms  bathroom  parking spaces floor     animal  \\\n",
       "0          São Paulo    70      2         1               1     7      acept   \n",
       "1       Porto Alegre    80      1         1               1     6      acept   \n",
       "2       Porto Alegre    51      2         1               0     2      acept   \n",
       "3          São Paulo    25      1         1               0     1  not acept   \n",
       "4     Rio de Janeiro    72      2         1               0     7      acept   \n",
       "...              ...   ...    ...       ...             ...   ...        ...   \n",
       "8199       São Paulo   150      3         3               2     8  not acept   \n",
       "8200    Porto Alegre    63      2         1               1     5  not acept   \n",
       "8201  Rio de Janeiro    70      3         3               0     8  not acept   \n",
       "8202  Rio de Janeiro   120      2         2               2     8      acept   \n",
       "8203       São Paulo    80      2         1               0     -      acept   \n",
       "\n",
       "          furniture  hoa (R$)  rent amount (R$)  property tax (R$)  \\\n",
       "0         furnished      2065              3300                211   \n",
       "1     not furnished      1000              2800                  0   \n",
       "2     not furnished       270              1112                 22   \n",
       "3     not furnished         0               800                 25   \n",
       "4     not furnished       740              1900                 85   \n",
       "...             ...       ...               ...                ...   \n",
       "8199      furnished         0             13500                  0   \n",
       "8200      furnished       402              1478                 24   \n",
       "8201      furnished       980              6000                332   \n",
       "8202      furnished      1585             12000                279   \n",
       "8203  not furnished         0              1400                165   \n",
       "\n",
       "      fire insurance (R$)  total (R$)  \n",
       "0                      42        5618  \n",
       "1                      41        3841  \n",
       "2                      17        1421  \n",
       "3                      11         836  \n",
       "4                      25        2750  \n",
       "...                   ...         ...  \n",
       "8199                  172       13670  \n",
       "8200                   22        1926  \n",
       "8201                   78        7390  \n",
       "8202                  155       14020  \n",
       "8203                   22        1587  \n",
       "\n",
       "[8204 rows x 13 columns]"
      ]
     },
     "execution_count": 4,
     "metadata": {},
     "output_type": "execute_result"
    }
   ],
   "source": [
    "df = pd.read_csv('Dados_Oficina_03.1.txt')\n",
    "df"
   ]
  },
  {
   "cell_type": "code",
   "execution_count": 12,
   "id": "9891f851",
   "metadata": {},
   "outputs": [
    {
     "data": {
      "text/plain": [
       "count    8204.000000\n",
       "mean       83.148586\n",
       "std        43.455041\n",
       "min        11.000000\n",
       "25%        50.000000\n",
       "50%        71.000000\n",
       "75%       110.000000\n",
       "max       199.000000\n",
       "Name: area, dtype: float64"
      ]
     },
     "execution_count": 12,
     "metadata": {},
     "output_type": "execute_result"
    }
   ],
   "source": [
    "df['area'].describe()"
   ]
  },
  {
   "cell_type": "code",
   "execution_count": 18,
   "id": "946d4bd3",
   "metadata": {},
   "outputs": [
    {
     "data": {
      "image/png": "[encoded data removed]",
      "text/plain": [
       "<Figure size 576x360 with 1 Axes>"
      ]
     },
     "metadata": {
      "needs_background": "light"
     },
     "output_type": "display_data"
    }
   ],
   "source": [
    "plot.figure(figsize=(8,5))\n",
    "plot.title('Distribuição de áreas dos imóveis')\n",
    "plot.grid(ls='dashed',axis='y')\n",
    "plot.hist(df['area'])\n",
    "plot.show()"
   ]
  },
  {
   "cell_type": "code",
   "execution_count": 60,
   "id": "a56e5e3a",
   "metadata": {},
   "outputs": [
    {
     "data": {
      "image/png": "[encoded data removed]",
      "text/plain": [
       "<Figure size 576x360 with 1 Axes>"
      ]
     },
     "metadata": {
      "needs_background": "light"
     },
     "output_type": "display_data"
    }
   ],
   "source": [
    "plot.figure(figsize=(8,5))\n",
    "plot.title('Distribuição de áreas dos imóveis')\n",
    "plot.grid(ls='dashed',axis='both')\n",
    "plot.hist(df['area'],bins=20)\n",
    "plot.show()"
   ]
  },
  {
   "cell_type": "code",
   "execution_count": 66,
   "id": "1acd8c62",
   "metadata": {},
   "outputs": [
    {
     "data": {
      "image/png": "[encoded data removed]",
      "text/plain": [
       "<Figure size 720x360 with 1 Axes>"
      ]
     },
     "metadata": {
      "needs_background": "light"
     },
     "output_type": "display_data"
    }
   ],
   "source": [
    "plot.figure(figsize=(10, 5))\n",
    "plot.title('Distribuição de áreas dos imóveis')\n",
    "plot.grid(ls='dashed',axis='y')\n",
    "seaborn.histplot(df['area'],binwidth=10)\n",
    "plot.show()"
   ]
  },
  {
   "cell_type": "markdown",
   "id": "057f89ae",
   "metadata": {},
   "source": [
    "**Gráfico de Densidade**"
   ]
  },
  {
   "cell_type": "code",
   "execution_count": 49,
   "id": "9232a951",
   "metadata": {},
   "outputs": [
    {
     "data": {
      "image/png": "[encoded data removed]",
      "text/plain": [
       "<Figure size 720x360 with 1 Axes>"
      ]
     },
     "metadata": {
      "needs_background": "light"
     },
     "output_type": "display_data"
    }
   ],
   "source": [
    "plot.figure(figsize=(10, 5))\n",
    "plot.title('Distribuição de áreas dos imóveis')\n",
    "plot.grid(ls='dashed',axis='y')\n",
    "seaborn.kdeplot(df['area'],shade=True)\n",
    "plot.show()"
   ]
  }
 ],
 "metadata": {
  "kernelspec": {
   "display_name": "Python 3",
   "language": "python",
   "name": "python3"
  },
  "language_info": {
   "codemirror_mode": {
    "name": "ipython",
    "version": 3
   },
   "file_extension": ".py",
   "mimetype": "text/x-python",
   "name": "python",
   "nbconvert_exporter": "python",
   "pygments_lexer": "ipython3",
   "version": "3.8.10"
  }
 },
 "nbformat": 4,
 "nbformat_minor": 5
}
