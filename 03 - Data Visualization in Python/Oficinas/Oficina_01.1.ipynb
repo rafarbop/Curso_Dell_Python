{
 "cells": [
  {
   "cell_type": "markdown",
   "id": "7ac67f01-5967-4c8b-bf9b-89e3066e8707",
   "metadata": {},
   "source": [
    "# Oficina 1.1"
   ]
  },
  {
   "cell_type": "markdown",
   "id": "e00bffc8-6f0e-4449-88ca-67df48c22340",
   "metadata": {},
   "source": [
    "O consumo excessivo de álcool é um problema grave de saúde pública, você não acha? Imagine que você é um cientista de dados trabalhando em uma equipe da Organização Mundial da Saúde (OMS), cujo objetivo é desenvolver relatórios sobre o consumo de álcool no mundo. Tudo certo até aqui? Então, vamos continuar!\n",
    "\n",
    "Foram coletados dados de diferentes países, indicando o consumo de cerveja (beer), licor (spirit) e vinho (wine), e o consumo de litros de álcool por pessoa do país no ano de 2010. Seu trabalho, então, é responder a algumas perguntas sobre os dados que irão ajudar a compor o relatório. Vamos lá?\n",
    "\n",
    "1. Qual a média e desvio padrão do consumo de cerveja, licor, vinho e total de álcool?\n",
    "2. Qual o consumo de licor na França?\n",
    "3. Quais os 5 países nos quais se consome mais vinho?\n",
    "4. Quais os países nos quais o consumo de cerveja está acima da média?\n",
    "5. Quais países nos quais o consumo total de álcool está acima do Brasil, em ordem do menor para o maior?\n",
    "\n",
    "Para responder a essas questões, você deve usar os dados disponibilizados nesta página: \n",
    "[dados para baixar](https://d11s0xq1vqg039.cloudfront.net/videos_conteudo/visual/micro01/oficina/arquivos/dadosoficina01.txt)\n",
    "\n",
    "Baixe o conjunto de dados, selecionando o link e clicando com o botão direito do mouse ou usando a tecla Aplicação. Então, escolha a opção “Salvar como…”, e salve o arquivo com o nome drinks.txt. Na mesma pasta em que você salvou os dados, crie um Jupyter Notebook, importe a biblioteca pandas e carregue os dados com os comandos:"
   ]
  },
  {
   "cell_type": "code",
   "execution_count": 72,
   "id": "f8a1a98b-5795-466c-b536-af77ca419c15",
   "metadata": {},
   "outputs": [],
   "source": [
    "import pandas as pd\n",
    "df = pd.read_csv('https://d11s0xq1vqg039.cloudfront.net/videos_conteudo/visual/micro01/oficina/arquivos/dadosoficina01.txt')"
   ]
  },
  {
   "cell_type": "markdown",
   "id": "7ef778b4-25f6-425f-a83d-cfb35cb3e227",
   "metadata": {},
   "source": [
    "A partir daí, você deverá responder a cada pergunta em uma célula diferente. Note que existem várias formas diferentes de chegar ao resultado da resposta. Além disso, você pode fazer comentários sobre conclusões a respeito dos dados para enriquecer as suas respostas."
   ]
  },
  {
   "cell_type": "markdown",
   "id": "e5e69a71-9373-4b91-8cd0-87892d46f818",
   "metadata": {},
   "source": [
    "---\n",
    "Resolução"
   ]
  },
  {
   "cell_type": "code",
   "execution_count": 73,
   "id": "9209a2d5-43b6-4bcc-8d47-9289e6881666",
   "metadata": {},
   "outputs": [
    {
     "data": {
      "text/html": [
       "<div>\n",
       "<style scoped>\n",
       "    .dataframe tbody tr th:only-of-type {\n",
       "        vertical-align: middle;\n",
       "    }\n",
       "\n",
       "    .dataframe tbody tr th {\n",
       "        vertical-align: top;\n",
       "    }\n",
       "\n",
       "    .dataframe thead th {\n",
       "        text-align: right;\n",
       "    }\n",
       "</style>\n",
       "<table border=\"1\" class=\"dataframe\">\n",
       "  <thead>\n",
       "    <tr style=\"text-align: right;\">\n",
       "      <th></th>\n",
       "      <th>country</th>\n",
       "      <th>beer_servings</th>\n",
       "      <th>spirit_servings</th>\n",
       "      <th>wine_servings</th>\n",
       "      <th>total_litres_of_pure_alcohol</th>\n",
       "    </tr>\n",
       "  </thead>\n",
       "  <tbody>\n",
       "    <tr>\n",
       "      <th>0</th>\n",
       "      <td>Afghanistan</td>\n",
       "      <td>0</td>\n",
       "      <td>0</td>\n",
       "      <td>0</td>\n",
       "      <td>0.0</td>\n",
       "    </tr>\n",
       "    <tr>\n",
       "      <th>1</th>\n",
       "      <td>Albania</td>\n",
       "      <td>89</td>\n",
       "      <td>132</td>\n",
       "      <td>54</td>\n",
       "      <td>4.9</td>\n",
       "    </tr>\n",
       "    <tr>\n",
       "      <th>2</th>\n",
       "      <td>Algeria</td>\n",
       "      <td>25</td>\n",
       "      <td>0</td>\n",
       "      <td>14</td>\n",
       "      <td>0.7</td>\n",
       "    </tr>\n",
       "    <tr>\n",
       "      <th>3</th>\n",
       "      <td>Andorra</td>\n",
       "      <td>245</td>\n",
       "      <td>138</td>\n",
       "      <td>312</td>\n",
       "      <td>12.4</td>\n",
       "    </tr>\n",
       "    <tr>\n",
       "      <th>4</th>\n",
       "      <td>Angola</td>\n",
       "      <td>217</td>\n",
       "      <td>57</td>\n",
       "      <td>45</td>\n",
       "      <td>5.9</td>\n",
       "    </tr>\n",
       "    <tr>\n",
       "      <th>...</th>\n",
       "      <td>...</td>\n",
       "      <td>...</td>\n",
       "      <td>...</td>\n",
       "      <td>...</td>\n",
       "      <td>...</td>\n",
       "    </tr>\n",
       "    <tr>\n",
       "      <th>188</th>\n",
       "      <td>Venezuela</td>\n",
       "      <td>333</td>\n",
       "      <td>100</td>\n",
       "      <td>3</td>\n",
       "      <td>7.7</td>\n",
       "    </tr>\n",
       "    <tr>\n",
       "      <th>189</th>\n",
       "      <td>Vietnam</td>\n",
       "      <td>111</td>\n",
       "      <td>2</td>\n",
       "      <td>1</td>\n",
       "      <td>2.0</td>\n",
       "    </tr>\n",
       "    <tr>\n",
       "      <th>190</th>\n",
       "      <td>Yemen</td>\n",
       "      <td>6</td>\n",
       "      <td>0</td>\n",
       "      <td>0</td>\n",
       "      <td>0.1</td>\n",
       "    </tr>\n",
       "    <tr>\n",
       "      <th>191</th>\n",
       "      <td>Zambia</td>\n",
       "      <td>32</td>\n",
       "      <td>19</td>\n",
       "      <td>4</td>\n",
       "      <td>2.5</td>\n",
       "    </tr>\n",
       "    <tr>\n",
       "      <th>192</th>\n",
       "      <td>Zimbabwe</td>\n",
       "      <td>64</td>\n",
       "      <td>18</td>\n",
       "      <td>4</td>\n",
       "      <td>4.7</td>\n",
       "    </tr>\n",
       "  </tbody>\n",
       "</table>\n",
       "<p>193 rows × 5 columns</p>\n",
       "</div>"
      ],
      "text/plain": [
       "         country  beer_servings  spirit_servings  wine_servings  \\\n",
       "0    Afghanistan              0                0              0   \n",
       "1        Albania             89              132             54   \n",
       "2        Algeria             25                0             14   \n",
       "3        Andorra            245              138            312   \n",
       "4         Angola            217               57             45   \n",
       "..           ...            ...              ...            ...   \n",
       "188    Venezuela            333              100              3   \n",
       "189      Vietnam            111                2              1   \n",
       "190        Yemen              6                0              0   \n",
       "191       Zambia             32               19              4   \n",
       "192     Zimbabwe             64               18              4   \n",
       "\n",
       "     total_litres_of_pure_alcohol  \n",
       "0                             0.0  \n",
       "1                             4.9  \n",
       "2                             0.7  \n",
       "3                            12.4  \n",
       "4                             5.9  \n",
       "..                            ...  \n",
       "188                           7.7  \n",
       "189                           2.0  \n",
       "190                           0.1  \n",
       "191                           2.5  \n",
       "192                           4.7  \n",
       "\n",
       "[193 rows x 5 columns]"
      ]
     },
     "execution_count": 73,
     "metadata": {},
     "output_type": "execute_result"
    }
   ],
   "source": [
    "df"
   ]
  },
  {
   "cell_type": "code",
   "execution_count": 74,
   "id": "428fb59b-4ca3-46a5-b390-071c2ed0d95d",
   "metadata": {},
   "outputs": [
    {
     "name": "stdout",
     "output_type": "stream",
     "text": [
      "\n",
      "Cerveja\n",
      "O média é 106.16 e desvio padrão é 101.14\n",
      "\n",
      "Licor\n",
      "O média é 80.99 e desvio padrão é 88.28\n",
      "\n",
      "Vinho\n",
      "O média é 49.45 e desvio padrão é 79.70\n",
      "\n",
      "Total Álcool\n",
      "O média é 4.72 e desvio padrão é 3.77\n"
     ]
    }
   ],
   "source": [
    "print('\\nCerveja')\n",
    "print(f'O média é {df.beer_servings.mean():.2f} e desvio padrão é {df.beer_servings.std():.2f}')\n",
    "\n",
    "print('\\nLicor')\n",
    "print(f'O média é {df.spirit_servings.mean():.2f} e desvio padrão é {df.spirit_servings.std():.2f}')\n",
    "\n",
    "print('\\nVinho')\n",
    "print(f'O média é {df.wine_servings.mean():.2f} e desvio padrão é {df.wine_servings.std():.2f}')\n",
    "\n",
    "\n",
    "print('\\nTotal Álcool')\n",
    "print(f'O média é {df.total_litres_of_pure_alcohol.mean():.2f} e desvio padrão é {df.total_litres_of_pure_alcohol.std():.2f}')\n"
   ]
  },
  {
   "cell_type": "code",
   "execution_count": 75,
   "id": "45233432-64ef-45e3-be25-73e424e66b06",
   "metadata": {},
   "outputs": [
    {
     "name": "stdout",
     "output_type": "stream",
     "text": [
      "A quantidade de Licor na França é 151\n"
     ]
    }
   ],
   "source": [
    "print(f\"A quantidade de Licor na França é {df[df.country == 'France'].spirit_servings.values[0]}\")"
   ]
  },
  {
   "cell_type": "code",
   "execution_count": 76,
   "id": "8a89889e-2fdf-4bd5-a7e4-a97c13209a51",
   "metadata": {},
   "outputs": [
    {
     "name": "stdout",
     "output_type": "stream",
     "text": [
      "Lista dos 5 países que mais se consome vinho:\n",
      "['France' 'Portugal' 'Andorra' 'Switzerland' 'Denmark']\n"
     ]
    }
   ],
   "source": [
    "print('Lista dos 5 países que mais se consome vinho:')\n",
    "df_wine = df.sort_values(by='wine_servings', ascending = False)\n",
    "print(df_wine[:5].country.values)"
   ]
  },
  {
   "cell_type": "code",
   "execution_count": 93,
   "id": "04378fcd-3658-4bf5-80e8-2aac754a470a",
   "metadata": {},
   "outputs": [
    {
     "name": "stdout",
     "output_type": "stream",
     "text": [
      "Lista de Países em que o consumo de cerveja está acima da média:\n",
      "Média de consumo de cerveja é 106.16\n",
      "\n",
      "['Andorra' 'Angola' 'Argentina' 'Australia' 'Austria' 'Bahamas' 'Barbados'\n",
      " 'Belarus' 'Belgium' 'Belize' 'Bolivia' 'Botswana' 'Brazil' 'Bulgaria'\n",
      " 'Cabo Verde' 'Cameroon' 'Canada' 'Chile' 'Colombia' 'Costa Rica'\n",
      " 'Croatia' 'Cyprus' 'Czech Republic' 'Denmark' 'Dominican Republic'\n",
      " 'Ecuador' 'Estonia' 'Finland' 'France' 'Gabon' 'Germany' 'Greece'\n",
      " 'Grenada' 'Hungary' 'Iceland' 'Ireland' 'Kazakhstan' 'Latvia' 'Lithuania'\n",
      " 'Luxembourg' 'Malta' 'Mexico' 'Namibia' 'Netherlands' 'New Zealand'\n",
      " 'Niue' 'Norway' 'Palau' 'Panama' 'Paraguay' 'Peru' 'Poland' 'Portugal'\n",
      " 'South Korea' 'Moldova' 'Romania' 'Russian Federation'\n",
      " 'St. Kitts & Nevis' 'St. Lucia' 'St. Vincent & the Grenadines' 'Serbia'\n",
      " 'Seychelles' 'Slovakia' 'Slovenia' 'South Africa' 'Spain' 'Suriname'\n",
      " 'Sweden' 'Switzerland' 'Trinidad & Tobago' 'Ukraine' 'United Kingdom'\n",
      " 'USA' 'Uruguay' 'Venezuela' 'Vietnam']\n",
      "            country  beer_servings\n",
      "3           Andorra            245\n",
      "4            Angola            217\n",
      "6         Argentina            193\n",
      "8         Australia            261\n",
      "9           Austria            279\n",
      "..              ...            ...\n",
      "182  United Kingdom            219\n",
      "184             USA            249\n",
      "185         Uruguay            115\n",
      "188       Venezuela            333\n",
      "189         Vietnam            111\n",
      "\n",
      "[76 rows x 2 columns]\n"
     ]
    }
   ],
   "source": [
    "print('Lista de Países em que o consumo de cerveja está acima da média:')\n",
    "\n",
    "beer_mean = df.beer_servings.mean()\n",
    "print(f'Média de consumo de cerveja é {beer_mean:.2f}\\n')\n",
    "\n",
    "df_more_beer = df[df.beer_servings > beer_mean]\n",
    "\n",
    "print(df_more_beer.country.values)\n",
    "\n",
    "print(df_more_beer[['country','beer_servings']])\n"
   ]
  },
  {
   "cell_type": "code",
   "execution_count": 94,
   "id": "6ed1c732-6377-46ee-b114-11fc114a1019",
   "metadata": {},
   "outputs": [
    {
     "name": "stdout",
     "output_type": "stream",
     "text": [
      "Lista de Países em que o consumo de cerveja está acima do consumo no Brasil:\n",
      "Total de consumo de cerveja no Brasil é 7.20\n",
      "\n",
      "['Belarus' 'Lithuania' 'Andorra' 'Grenada' 'France' 'Czech Republic'\n",
      " 'Russian Federation' 'Luxembourg' 'Ireland' 'Slovakia' 'Germany'\n",
      " 'Hungary' 'Portugal' 'Poland' 'Slovenia' 'Latvia' 'Belgium' 'Romania'\n",
      " 'Denmark' 'United Kingdom' 'Australia' 'Bulgaria' 'Croatia' 'Switzerland'\n",
      " 'St. Lucia' 'Spain' 'Finland' 'South Korea' 'Austria' 'Serbia' 'Estonia'\n",
      " 'Netherlands' 'New Zealand' 'Nigeria' 'Gabon' 'Ukraine' 'USA' 'Argentina'\n",
      " 'Greece' 'Uganda' 'South Africa' 'Cyprus' 'Canada' 'St. Kitts & Nevis'\n",
      " 'Venezuela' 'Chile' 'Paraguay']\n",
      "                country  total_litres_of_pure_alcohol\n",
      "15              Belarus                          14.4\n",
      "98            Lithuania                          12.9\n",
      "3               Andorra                          12.4\n",
      "68              Grenada                          11.9\n",
      "61               France                          11.8\n",
      "45       Czech Republic                          11.8\n",
      "141  Russian Federation                          11.5\n",
      "99           Luxembourg                          11.4\n",
      "81              Ireland                          11.4\n",
      "155            Slovakia                          11.4\n",
      "65              Germany                          11.3\n",
      "75              Hungary                          11.3\n",
      "136            Portugal                          11.0\n",
      "135              Poland                          10.9\n",
      "156            Slovenia                          10.6\n",
      "93               Latvia                          10.5\n",
      "16              Belgium                          10.5\n",
      "140             Romania                          10.4\n",
      "48              Denmark                          10.4\n",
      "182      United Kingdom                          10.4\n",
      "8             Australia                          10.4\n",
      "25             Bulgaria                          10.3\n",
      "42              Croatia                          10.2\n",
      "166         Switzerland                          10.2\n",
      "144           St. Lucia                          10.1\n",
      "160               Spain                          10.0\n",
      "60              Finland                          10.0\n",
      "138         South Korea                           9.8\n",
      "9               Austria                           9.7\n",
      "151              Serbia                           9.6\n",
      "57              Estonia                           9.5\n",
      "120         Netherlands                           9.4\n",
      "121         New Zealand                           9.3\n",
      "124             Nigeria                           9.1\n",
      "62                Gabon                           8.9\n",
      "180             Ukraine                           8.9\n",
      "184                 USA                           8.7\n",
      "6             Argentina                           8.3\n",
      "67               Greece                           8.3\n",
      "179              Uganda                           8.3\n",
      "159        South Africa                           8.2\n",
      "44               Cyprus                           8.2\n",
      "32               Canada                           8.2\n",
      "143   St. Kitts & Nevis                           7.7\n",
      "188           Venezuela                           7.7\n",
      "35                Chile                           7.6\n",
      "132            Paraguay                           7.3\n"
     ]
    }
   ],
   "source": [
    "print('Lista de Países em que o consumo de cerveja está acima do consumo no Brasil:')\n",
    "\n",
    "total_brazil = df[df.country == 'Brazil'].total_litres_of_pure_alcohol.values[0]\n",
    "\n",
    "print(f'Total de consumo de cerveja no Brasil é {total_brazil:.2f}\\n')\n",
    "\n",
    "df_country_great_brazil = df[df.total_litres_of_pure_alcohol > total_brazil]\n",
    "\n",
    "df_country_great_brazil = df_country_great_brazil.sort_values(by='total_litres_of_pure_alcohol', ascending = False)\n",
    "\n",
    "print(df_country_great_brazil.country.values)\n",
    "\n",
    "print(df_country_great_brazil[['country','total_litres_of_pure_alcohol']])"
   ]
  }
 ],
 "metadata": {
  "kernelspec": {
   "display_name": "Python 3",
   "language": "python",
   "name": "python3"
  },
  "language_info": {
   "codemirror_mode": {
    "name": "ipython",
    "version": 3
   },
   "file_extension": ".py",
   "mimetype": "text/x-python",
   "name": "python",
   "nbconvert_exporter": "python",
   "pygments_lexer": "ipython3",
   "version": "3.8.10"
  }
 },
 "nbformat": 4,
 "nbformat_minor": 5
}
