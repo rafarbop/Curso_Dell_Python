{
 "cells": [
  {
   "cell_type": "markdown",
   "id": "2b321d36-9ea8-4be1-887b-85f8424af7dc",
   "metadata": {},
   "source": [
    "# Oficina Aula 1.2\n",
    "\n",
    "\n",
    "Geralmente, os logs são configurados para registrar as mensagens de maior gravidade. Em contrapartida, o modo debug é utilizado somente quando o programa apresenta falhas e é necessário fazer uma auditoria para encontrar o problema.\n",
    "\n",
    "A seguir, considere o caso descrito para resolver a questão.\n",
    "\n",
    "Imagine que você é o cientista de dados de uma grande empresa e, como um bom colaborador, decidiu analisar os dados de log de um programa essencial da empresa, com o intuito de avaliar como o programa se comportou durante um ano de funcionamento.\n",
    "\n",
    "Ao receber o arquivo de log, você percebeu que há dados de pelo menos um ano inteiro e que o arquivo possui 4 Gigabytes de tamanho. Então, você decidiu utilizar expressão regular para avaliar aquele comportamento.\n",
    "\n",
    "Para isso, você precisou construir um código que informasse a quantidade de erros ocorridos e quais os horários em que mais ocorrem erro. Estas informações serão uteis para lhe ajudar a investigar a causa do problema.\n",
    "\n",
    "Sabendo que o log possui uma formatação clara (Dia-Mês-Ano Hora:Minuto:Segundo:Milesimos_de_segundos | Nivel_de_gravidade -> Mensagem), utilize a string a seguir como exemplo para fazer o seu código. Ao final, envie seu código em Python, ou seja, um arquivo com a extensão ‘py’, para avaliarmos como você resolveu esse problema"
   ]
  },
  {
   "cell_type": "code",
   "execution_count": 1,
   "id": "54d1305a-d8a3-4db1-b05a-e7c145f09252",
   "metadata": {},
   "outputs": [],
   "source": [
    "log = \"\"\"2020-05-10 20:42:54,687 | INFO -> O programa foi iniciado\n",
    "2020-05-11 00:09:52,532 | ERROR -> Erro não esperado\n",
    "2020-05-11 09:01:10,812 | INFO -> O usuário utilizou o sistema\n",
    "2020-05-11 19:06:13,609 | INFO -> O usuário utilizou o sistema\n",
    "2020-05-11 20:46:35,271 | ERROR -> Erro não esperado\n",
    "2020-05-12 08:14:59,895 | ERROR -> Erro não esperado\n",
    "2020-05-12 11:33:59,700 | INFO -> O usuário utilizou o sistema\n",
    "2020-05-13 10:20:14,673 | INFO -> O usuário utilizou o sistema\n",
    "2020-05-13 16:58:10,298 | WARNING -> O usuário tentou fazer uma operação invalida\n",
    "2020-05-14 03:55:25,383 | INFO -> O usuário utilizou o sistema\n",
    "2020-05-15 02:59:29,002 | INFO -> O usuário utilizou o sistema\n",
    "2020-05-15 08:40:33,776 | ERROR -> Erro não esperado\n",
    "2020-05-15 13:45:29,089 | WARNING -> O usuário tentou fazer uma operação invalida\"\"\""
   ]
  },
  {
   "cell_type": "markdown",
   "id": "04c28475-41ae-4263-b65c-4d34b3154b86",
   "metadata": {},
   "source": [
    "---\n",
    "**Resolução**"
   ]
  },
  {
   "cell_type": "code",
   "execution_count": 2,
   "id": "e5abd5bd-0f07-449d-9066-40076db107fd",
   "metadata": {},
   "outputs": [],
   "source": [
    "import re"
   ]
  },
  {
   "cell_type": "code",
   "execution_count": 34,
   "id": "7b892ed6-3b97-4f04-9818-030ca979196f",
   "metadata": {},
   "outputs": [],
   "source": [
    "lista_erros = re.findall(r\".+\\|\\sERROR.+\",log)\n",
    "lista_erros_string = '\\n'.join(lista_erros)"
   ]
  },
  {
   "cell_type": "code",
   "execution_count": 35,
   "id": "20982db4-8b00-4294-b578-2f88a76cc160",
   "metadata": {},
   "outputs": [
    {
     "data": {
      "text/plain": [
       "['2020-05-11 00:09:52,532 | ERROR -> Erro não esperado',\n",
       " '2020-05-11 20:46:35,271 | ERROR -> Erro não esperado',\n",
       " '2020-05-12 08:14:59,895 | ERROR -> Erro não esperado',\n",
       " '2020-05-15 08:40:33,776 | ERROR -> Erro não esperado']"
      ]
     },
     "execution_count": 35,
     "metadata": {},
     "output_type": "execute_result"
    }
   ],
   "source": [
    "lista_erros"
   ]
  },
  {
   "cell_type": "code",
   "execution_count": 44,
   "id": "17b75686-0bbf-45d0-92fc-03fbc88af609",
   "metadata": {},
   "outputs": [
    {
     "data": {
      "text/plain": [
       "['00', '20', '08', '08']"
      ]
     },
     "execution_count": 44,
     "metadata": {},
     "output_type": "execute_result"
    }
   ],
   "source": [
    "horarios = re.findall(r\"(?<=\\s)\\d{2}(?=:)\",lista_erros_string)\n",
    "horarios"
   ]
  },
  {
   "cell_type": "code",
   "execution_count": 48,
   "id": "dfd4d986-413b-4aac-8f71-00d0d0606ca7",
   "metadata": {},
   "outputs": [],
   "source": [
    "horarios_dict = {horario: horarios.count(horario) for horario in horarios }"
   ]
  },
  {
   "cell_type": "code",
   "execution_count": 60,
   "id": "3472b364-ca31-48d9-9c0b-4e8be08af2ce",
   "metadata": {},
   "outputs": [],
   "source": [
    "erro_horario_max = max(horarios_dict,key=horarios_dict.get)"
   ]
  },
  {
   "cell_type": "code",
   "execution_count": 62,
   "id": "ee9ea549-f536-4709-b51d-d49d0dc5a9f1",
   "metadata": {},
   "outputs": [
    {
     "name": "stdout",
     "output_type": "stream",
     "text": [
      "A quantidade de erros que ocorreram foram: 4 erros\n",
      "O horário que mais ocorreu erros foi: às 08 horas\n"
     ]
    }
   ],
   "source": [
    "print(f\"A quantidade de erros que ocorreram foram: {len(lista_erros)} erros\")\n",
    "print(f\"O horário que mais ocorreu erros foi: às {erro_horario_max} horas\")"
   ]
  },
  {
   "cell_type": "code",
   "execution_count": null,
   "id": "7807267d-79ee-4b90-b5c4-f81e4a02c191",
   "metadata": {},
   "outputs": [],
   "source": []
  }
 ],
 "metadata": {
  "kernelspec": {
   "display_name": "Python 3",
   "language": "python",
   "name": "python3"
  },
  "language_info": {
   "codemirror_mode": {
    "name": "ipython",
    "version": 3
   },
   "file_extension": ".py",
   "mimetype": "text/x-python",
   "name": "python",
   "nbconvert_exporter": "python",
   "pygments_lexer": "ipython3",
   "version": "3.8.10"
  }
 },
 "nbformat": 4,
 "nbformat_minor": 5
}
