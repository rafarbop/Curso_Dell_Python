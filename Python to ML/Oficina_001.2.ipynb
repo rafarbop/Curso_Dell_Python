{
 "cells": [
  {
   "cell_type": "markdown",
   "id": "2b321d36-9ea8-4be1-887b-85f8424af7dc",
   "metadata": {},
   "source": [
    "# Oficina Aula 1.2\n",
    "Depois "
   ]
  }
 ],
 "metadata": {
  "kernelspec": {
   "display_name": "Python 3",
   "language": "python",
   "name": "python3"
  },
  "language_info": {
   "codemirror_mode": {
    "name": "ipython",
    "version": 3
   },
   "file_extension": ".py",
   "mimetype": "text/x-python",
   "name": "python",
   "nbconvert_exporter": "python",
   "pygments_lexer": "ipython3",
   "version": "3.8.10"
  }
 },
 "nbformat": 4,
 "nbformat_minor": 5
}
