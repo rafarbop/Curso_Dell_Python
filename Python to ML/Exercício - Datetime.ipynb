{
 "cells": [
  {
   "cell_type": "markdown",
   "metadata": {},
   "source": [
    "### Validar Datas e Converter\n",
    "\n",
    "Validando datas na entrada de dados com Regex e convertendo para `Datetime`"
   ]
  },
  {
   "cell_type": "code",
   "execution_count": 2,
   "metadata": {},
   "outputs": [],
   "source": [
    "import re\n",
    "from datetime import datetime"
   ]
  },
  {
   "cell_type": "code",
   "execution_count": 3,
   "metadata": {},
   "outputs": [],
   "source": [
    "nome = input(\"Informe seu Nome: \")\n",
    "data_nasc = input(\"Informe sua data de Nascimento (No Formato XX/XX/XXXX): \")\n",
    "while not re.match(r\"\\A\\d{2}/\\d{2}/\\d{4}\\Z\",data_nasc):\n",
    "    data_nasc = input(\"Informe sua data de Nascimento (No Formato XX/XX/XXXX): \")\n",
    "    print(\"Tente novamente\")"
   ]
  },
  {
   "cell_type": "code",
   "execution_count": 9,
   "metadata": {},
   "outputs": [
    {
     "name": "stdout",
     "output_type": "stream",
     "text": [
      "O dia de nascimento de Rafael Bruno é: 18 de June de 1988\n",
      "Curiosidade → O dia da semana era: Saturday\n"
     ]
    }
   ],
   "source": [
    "data_nasc_parsed = datetime.strptime(data_nasc, \"%d/%m/%Y\")\n",
    "print(f\"O dia de nascimento de {nome} é: {data_nasc_parsed:%d de %B de %Y}\")\n",
    "print(f\"Curiosidade → O dia da semana era: {data_nasc_parsed:%A}\")"
   ]
  },
  {
   "cell_type": "code",
   "execution_count": null,
   "metadata": {},
   "outputs": [],
   "source": []
  }
 ],
 "metadata": {
  "interpreter": {
   "hash": "31f2aee4e71d21fbe5cf8b01ff0e069b9275f58929596ceb00d14d90e3e16cd6"
  },
  "kernelspec": {
   "display_name": "Python 3.8.10 64-bit",
   "language": "python",
   "name": "python3"
  },
  "language_info": {
   "codemirror_mode": {
    "name": "ipython",
    "version": 3
   },
   "file_extension": ".py",
   "mimetype": "text/x-python",
   "name": "python",
   "nbconvert_exporter": "python",
   "pygments_lexer": "ipython3",
   "version": "3.8.10"
  },
  "orig_nbformat": 4
 },
 "nbformat": 4,
 "nbformat_minor": 2
}
