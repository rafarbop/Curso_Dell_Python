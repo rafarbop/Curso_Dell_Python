{
 "cells": [
  {
   "cell_type": "markdown",
   "id": "07ee7807-3c1b-4562-8c25-ac31530b1ff8",
   "metadata": {},
   "source": [
    "## Curso de Python para Machine Learning"
   ]
  },
  {
   "cell_type": "markdown",
   "id": "fa713ce4-fa48-4f14-98ee-f9fb8e7e8936",
   "metadata": {},
   "source": [
    "---\n",
    "### Aula 1.1 - Programação Funcional, Funções Anônimas e Funções Puras"
   ]
  },
  {
   "cell_type": "markdown",
   "id": "9b9e069a-884f-4b9e-b1d5-d5850e39bf62",
   "metadata": {},
   "source": [
    "As funções utilizadas na programação funcionais devem retornar um valor de saída sem qualquer outra alteração ou efeito, utilizando somente os valores de entrada da função. Essas funções são mais específicas que as utilizadas na programação procedural e na programação orientada a objetos."
   ]
  },
  {
   "cell_type": "markdown",
   "id": "22b5621e-3d8b-4cb6-85a9-954875b07f83",
   "metadata": {},
   "source": [
    "Funções Impuras: são funções utilizam valores/variáveis que estão fora do escopo da função, pondendo retornar valores diferentes de saída para um mesmo dado de entrada - são consideradas como programação procedural ou orientada a objetos.  \n",
    "Para que uma função seja utilizada como paradigma de programação funcional, a mesma deverá ser pura."
   ]
  },
  {
   "cell_type": "markdown",
   "id": "4dc02f0e-d403-4197-9007-ad857cc54f96",
   "metadata": {},
   "source": [
    "**Exemplo de Programação Não Funcional**"
   ]
  },
  {
   "cell_type": "code",
   "execution_count": 88,
   "id": "cfb45a44-feb6-44be-8c99-5e201bd27e4f",
   "metadata": {},
   "outputs": [
    {
     "name": "stdout",
     "output_type": "stream",
     "text": [
      "6\n"
     ]
    }
   ],
   "source": [
    "a = 5\n",
    "def soma(b):\n",
    "    b = b + a\n",
    "    return b\n",
    "print(soma(1))"
   ]
  },
  {
   "cell_type": "markdown",
   "id": "ef545dd5-85a1-41df-8f04-52e4dacbfe89",
   "metadata": {},
   "source": [
    "A função `soma` utiliza uma variável externa a função, por isso o resultado retornado por ela poderá mudar mesmo que os parâmetros de entrada não sejam alterados.  \n",
    "Por exemplo,em um segundo momento, a chamada da função com o mesmo valor - `soma(1)` - pode retornar um resultado diferente devido uma alteração na variável `a`"
   ]
  },
  {
   "cell_type": "code",
   "execution_count": 65,
   "id": "773b1b5c-87ff-4f7b-9dbf-052858c8d137",
   "metadata": {},
   "outputs": [
    {
     "name": "stdout",
     "output_type": "stream",
     "text": [
      "11\n"
     ]
    }
   ],
   "source": [
    "a = 10\n",
    "print(soma(1))"
   ]
  },
  {
   "cell_type": "markdown",
   "id": "a387ff7d-1ed1-4c8a-a726-37dbfd7c9972",
   "metadata": {},
   "source": [
    "**Exemplo de Função Recursiva**  \n",
    "**Fatorial de um número**"
   ]
  },
  {
   "cell_type": "code",
   "execution_count": 66,
   "id": "18c6a8e8-7c71-4a7e-9a76-5f2001203c31",
   "metadata": {},
   "outputs": [],
   "source": [
    "def fatorial(n):\n",
    "    if n == 0:\n",
    "        return 1\n",
    "    return n*fatorial(n-1)"
   ]
  },
  {
   "cell_type": "code",
   "execution_count": 67,
   "id": "31f4aab6-fa53-421f-8f3c-4e284fc17f9c",
   "metadata": {},
   "outputs": [
    {
     "name": "stdout",
     "output_type": "stream",
     "text": [
      "120\n"
     ]
    }
   ],
   "source": [
    "print(fatorial(5))"
   ]
  },
  {
   "cell_type": "code",
   "execution_count": null,
   "id": "e2855e3f-e3ee-4aa2-8df5-d7a64bf4de1a",
   "metadata": {
    "tags": []
   },
   "outputs": [],
   "source": [
    "#### Funções Anônimas *ou* Funções Lambda\n",
    "São funções que não possuem nome, são definidas usando a palavra reservarda lambda.  \n",
    "Geralmente são funções simples, de somente uma linha."
   ]
  },
  {
   "cell_type": "code",
   "execution_count": 68,
   "id": "76d12b80-4060-4b4f-a22a-58e041e9057d",
   "metadata": {},
   "outputs": [
    {
     "data": {
      "text/plain": [
       "<function __main__.<lambda>(s)>"
      ]
     },
     "execution_count": 68,
     "metadata": {},
     "output_type": "execute_result"
    }
   ],
   "source": [
    "# Função Lambda para converter primeira letra de uma palavra para maiúscula\n",
    "lambda s: s[0].upper() + s[1:]"
   ]
  },
  {
   "cell_type": "markdown",
   "id": "09e50ce4-ccca-45fb-9e05-7c3818efd873",
   "metadata": {},
   "source": [
    "Caso seja necessário chamar uma função lambda, a mesma pode ser atribuída a uma variável:"
   ]
  },
  {
   "cell_type": "code",
   "execution_count": 69,
   "id": "127ad3a7-6fba-477b-a910-a530c68ab7c3",
   "metadata": {},
   "outputs": [
    {
     "data": {
      "text/plain": [
       "25"
      ]
     },
     "execution_count": 69,
     "metadata": {},
     "output_type": "execute_result"
    }
   ],
   "source": [
    "n_quadrado = lambda x: x*x\n",
    "n_quadrado(5)"
   ]
  },
  {
   "cell_type": "code",
   "execution_count": 71,
   "id": "edbc10b1-937a-45cc-a9d7-0a8793db68fc",
   "metadata": {},
   "outputs": [],
   "source": [
    "def filtrar(lista_idades, criterio):\n",
    "    '''Filtra uma lista de idades de acordo com o critérios passados'''\n",
    "    nova_lista = []\n",
    "    for idade in lista_idades:\n",
    "        if criterio(idade):\n",
    "            nova_lista.append(idade)\n",
    "    return nova_lista    "
   ]
  },
  {
   "cell_type": "markdown",
   "id": "6670476a-fc7b-4817-98e4-c76bb7bde851",
   "metadata": {},
   "source": [
    "Considere a função `filtrar` acima, que recebe uma lista de idades e um segundo parametro `criterio`, que deverá ser uma função que retorna verdadeiro se a idade passada atender a algum critério definido."
   ]
  },
  {
   "cell_type": "markdown",
   "id": "5e321542-4181-4b29-a403-97a5e220c951",
   "metadata": {},
   "source": [
    "Poderíamos criar um função `maior_idade` que verifica uma idade passada e retorna verdadeiro (`True`) se a idade for maior ou igual que 18:"
   ]
  },
  {
   "cell_type": "code",
   "execution_count": 72,
   "id": "c0e26baf-02db-4116-9210-e41b4df1cfe1",
   "metadata": {},
   "outputs": [],
   "source": [
    "def maior_idade(idade):\n",
    "    return idade >= 18"
   ]
  },
  {
   "cell_type": "markdown",
   "id": "8c663500-d042-4f30-be0a-40806a4e530e",
   "metadata": {},
   "source": [
    "Dessa forma, dada uma lista qualquer de idades, podemos verificar e filtrar somente as idades maiores ou iguais a 18"
   ]
  },
  {
   "cell_type": "code",
   "execution_count": 73,
   "id": "6b70258c-8261-41f8-93f7-21303a1657b0",
   "metadata": {},
   "outputs": [
    {
     "data": {
      "text/plain": [
       "[65, 18, 45, 65, 99]"
      ]
     },
     "execution_count": 73,
     "metadata": {},
     "output_type": "execute_result"
    }
   ],
   "source": [
    "idades = [15,65,18,2,9,45,65,99]\n",
    "filtrar(idades, maior_idade)"
   ]
  },
  {
   "cell_type": "markdown",
   "id": "b65f1e10-5571-4ccf-8d08-5bbc0b6489cf",
   "metadata": {},
   "source": [
    "Nesse exemplo podemos modificar a chamada da função `filtrar`, para que não precisemos criar funções auxiliares em outro lugar no código:"
   ]
  },
  {
   "cell_type": "code",
   "execution_count": 74,
   "id": "967d0dae-a227-4c90-9176-255069c6044f",
   "metadata": {},
   "outputs": [
    {
     "data": {
      "text/plain": [
       "[65, 18, 45, 65, 99]"
      ]
     },
     "execution_count": 74,
     "metadata": {},
     "output_type": "execute_result"
    }
   ],
   "source": [
    "filtrar(idades, lambda x: x >= 18)"
   ]
  },
  {
   "cell_type": "markdown",
   "id": "997a2ddc-89a1-441f-80a3-dfe87b3eadc1",
   "metadata": {},
   "source": [
    "Dessa forma podemos filtrar com qualquer critério de forma mais simples"
   ]
  },
  {
   "cell_type": "code",
   "execution_count": 75,
   "id": "3f6650fb-83a6-421a-ae19-44b0043cb289",
   "metadata": {},
   "outputs": [
    {
     "data": {
      "text/plain": [
       "[15, 2, 9]"
      ]
     },
     "execution_count": 75,
     "metadata": {},
     "output_type": "execute_result"
    }
   ],
   "source": [
    "# Filtrando idades menores de 18\n",
    "filtrar(idades, lambda x:x<18)"
   ]
  },
  {
   "cell_type": "code",
   "execution_count": 76,
   "id": "9c3dabd8-265a-412f-8690-478d820520ee",
   "metadata": {},
   "outputs": [
    {
     "data": {
      "text/plain": [
       "[99]"
      ]
     },
     "execution_count": 76,
     "metadata": {},
     "output_type": "execute_result"
    }
   ],
   "source": [
    "# Filtrando idades maiores de 65\n",
    "filtrar(idades, lambda x:x>65)"
   ]
  },
  {
   "cell_type": "code",
   "execution_count": 77,
   "id": "e7053529-c0a2-46ec-8546-f091a4ad163b",
   "metadata": {},
   "outputs": [
    {
     "data": {
      "text/plain": [
       "[65, 18, 45, 65]"
      ]
     },
     "execution_count": 77,
     "metadata": {},
     "output_type": "execute_result"
    }
   ],
   "source": [
    "# Filtrando idades entre 18 e 65 anos\n",
    "filtrar(idades, lambda x: 18 <= x <= 65)"
   ]
  },
  {
   "cell_type": "markdown",
   "id": "b9a7f9a8-a846-4d1c-899f-027f282a7a50",
   "metadata": {},
   "source": [
    "**Exemplo utilizando a função `sorted`**  \n",
    "Ordenando palavras por ordem alfabética"
   ]
  },
  {
   "cell_type": "code",
   "execution_count": 53,
   "id": "f3ef6782-fdd1-41b1-9c4d-7d9b81feaa26",
   "metadata": {},
   "outputs": [],
   "source": [
    "nomes = ['ana','Zóe','Clara','xande','abraao','fabineide']"
   ]
  },
  {
   "cell_type": "markdown",
   "id": "234114bc-06ff-4229-9dd5-fff01cd80957",
   "metadata": {},
   "source": [
    "A comparação entre `Z` - letra maiúscula - e letras minúsculas é realizada utilizando o valor representativo da tebala ASCII desses caracteres.  \n",
    "O valor de Z na tabela ASCII é `90` e o valor de `a` é 97, logo palavras que começem com Z serão ordenadas antes. Isso acontece com todas os caracteres maiúsculos, que possuem valores na tabela ASCII menores que letras minúsculas - [Mais sobre a tabela ASCII](https://www.ime.usp.br/~pf/algoritmos/apend/ascii.html)"
   ]
  },
  {
   "cell_type": "code",
   "execution_count": 54,
   "id": "d1e3340f-6a81-41cc-9fb5-b99341e9660a",
   "metadata": {},
   "outputs": [
    {
     "name": "stdout",
     "output_type": "stream",
     "text": [
      "Valor de 'A' na tabela ASCII: 65\n",
      "Valor de 'Z' na tabela ASCII: 90\n",
      "Valor de 'a' na tabela ASCII: 97\n",
      "Valor de 'z' na tabela ASCII: 122\n"
     ]
    }
   ],
   "source": [
    "print(f\"Valor de 'A' na tabela ASCII: {ord('A')}\")\n",
    "print(f\"Valor de 'Z' na tabela ASCII: {ord('Z')}\")\n",
    "print(f\"Valor de 'a' na tabela ASCII: {ord('a')}\")\n",
    "print(f\"Valor de 'z' na tabela ASCII: {ord('z')}\")"
   ]
  },
  {
   "cell_type": "markdown",
   "id": "8fb247db-67a7-4df5-aec2-a3dac4d8ce22",
   "metadata": {},
   "source": [
    "Dessa forma chamando a função `sorted` com a lista de nome, o resultado não é o esperado:"
   ]
  },
  {
   "cell_type": "code",
   "execution_count": 57,
   "id": "4e1e651b-22b3-4705-96cb-f617f78d6192",
   "metadata": {},
   "outputs": [
    {
     "data": {
      "text/plain": [
       "['Clara', 'Zóe', 'abraao', 'ana', 'fabineide', 'xande']"
      ]
     },
     "execution_count": 57,
     "metadata": {},
     "output_type": "execute_result"
    }
   ],
   "source": [
    "sorted(nomes)"
   ]
  },
  {
   "cell_type": "markdown",
   "id": "f7fcbdde-7e33-49ec-a641-a37c21acd3a6",
   "metadata": {},
   "source": [
    "Incluíndo uma função Lambda que converta todos os strings para minúsculos (ou maiúsculos), conseguiremos ordenar alfabeticamente as palavras"
   ]
  },
  {
   "cell_type": "code",
   "execution_count": 58,
   "id": "9d069762-12d1-4027-9c48-bc97644723a6",
   "metadata": {},
   "outputs": [
    {
     "data": {
      "text/plain": [
       "['abraao', 'ana', 'Clara', 'fabineide', 'xande', 'Zóe']"
      ]
     },
     "execution_count": 58,
     "metadata": {},
     "output_type": "execute_result"
    }
   ],
   "source": [
    "sorted(nomes,key = lambda x: x.lower())"
   ]
  },
  {
   "cell_type": "markdown",
   "id": "d055edc2-bb73-4787-b5b4-656709e1562f",
   "metadata": {},
   "source": [
    "#### Funções Puras em Python"
   ]
  },
  {
   "cell_type": "markdown",
   "id": "266bbee0-e63d-497c-ab1d-c389582e52f4",
   "metadata": {},
   "source": [
    "__Função `map`__  \n",
    "Essa função recebe dois argumentos:  \n",
    "map(function, *iterable)\n",
    "\n",
    "- O primeiro é uma função\n",
    "- O segundo é um conjunto de dados ou um objeto iterável\n",
    "\n",
    "A função passada como parâmentro é aplicada a cada elemento do conjunto de dados passado"
   ]
  },
  {
   "cell_type": "code",
   "execution_count": 105,
   "id": "55642347-9e4d-4df7-8b74-d4fe8c105004",
   "metadata": {},
   "outputs": [
    {
     "data": {
      "text/plain": [
       "[1.26, 3.57, 4.26, 1.69, 5.57]"
      ]
     },
     "execution_count": 105,
     "metadata": {},
     "output_type": "execute_result"
    }
   ],
   "source": [
    "valores = [1.2569, 3.5682, 4.2561, 1.6897, 5.5662]\n",
    "[valor for valor in map(lambda x: round(x,2),valores)]"
   ]
  },
  {
   "cell_type": "markdown",
   "id": "62a041c2-cb81-4d2f-bc49-923766d06c5b",
   "metadata": {},
   "source": [
    "O retorno da função `map` é um objeto do tipo map - um iterador - logo devemos iterar sobre o retorno ou converter em outro objeto - uma lista por exemplo."
   ]
  },
  {
   "cell_type": "code",
   "execution_count": 120,
   "id": "820f35b5-428b-4991-a336-8272846841d1",
   "metadata": {},
   "outputs": [
    {
     "name": "stdout",
     "output_type": "stream",
     "text": [
      "<map object at 0x7fa14a473a90>\n",
      "<class 'map'>\n"
     ]
    }
   ],
   "source": [
    "valores_inteiros_truncados = map(int,valores)\n",
    "print(valores_inteiros_truncados)\n",
    "print(type(valores_inteiros_truncados))"
   ]
  },
  {
   "cell_type": "code",
   "execution_count": 121,
   "id": "ae1e63d1-55e6-442f-943d-4ed917a8a432",
   "metadata": {},
   "outputs": [
    {
     "data": {
      "text/plain": [
       "[1, 3, 4, 1, 5]"
      ]
     },
     "execution_count": 121,
     "metadata": {},
     "output_type": "execute_result"
    }
   ],
   "source": [
    "list(valores_inteiros_truncados)"
   ]
  },
  {
   "cell_type": "markdown",
   "id": "1a756d9c-2039-4e42-8bc9-c15c66fbc8ad",
   "metadata": {},
   "source": [
    "**Exemplo com classificação de notas de alunos**"
   ]
  },
  {
   "cell_type": "code",
   "execution_count": 190,
   "id": "1a021c96-960e-43fe-b2e6-140c82c51966",
   "metadata": {},
   "outputs": [],
   "source": [
    "alunos = [['João',6.5], ['Carlos',4.6], ['Alberto',8.6],\n",
    "          ['Teresa',1.2], ['José',9.8], ['Alfredo',10], \n",
    "          ['Robin',6.9], ['Will',7.5], ['Fred',8.2], \n",
    "          ['Paulo',7.1]]"
   ]
  },
  {
   "cell_type": "code",
   "execution_count": 191,
   "id": "30797253-7949-4b26-a2be-2ac8f8228798",
   "metadata": {},
   "outputs": [],
   "source": [
    "def aprovacao(aluno):\n",
    "    if aluno < 4:\n",
    "        return 'Reprovado'\n",
    "    elif aluno < 7:\n",
    "        return 'Recuperação'\n",
    "    else:\n",
    "        return 'Aprovado'    "
   ]
  },
  {
   "cell_type": "code",
   "execution_count": 195,
   "id": "29b70df8-e123-4a5b-9b2e-11b4ceb22f12",
   "metadata": {},
   "outputs": [
    {
     "name": "stdout",
     "output_type": "stream",
     "text": [
      "['João', 6.5, 'Recuperação']\n",
      "['Carlos', 4.6, 'Recuperação']\n",
      "['Alberto', 8.6, 'Aprovado']\n",
      "['Teresa', 1.2, 'Reprovado']\n",
      "['José', 9.8, 'Aprovado']\n",
      "['Alfredo', 10, 'Aprovado']\n",
      "['Robin', 6.9, 'Recuperação']\n",
      "['Will', 7.5, 'Aprovado']\n",
      "['Fred', 8.2, 'Aprovado']\n",
      "['Paulo', 7.1, 'Aprovado']\n"
     ]
    }
   ],
   "source": [
    "situacao_alunos = list(map(lambda x: x+[aprovacao(x[1])], alunos))\n",
    "for aluno in situacao_alunos:\n",
    "    print(aluno)"
   ]
  },
  {
   "cell_type": "markdown",
   "id": "c8406c7a-9719-471e-aa8a-2ff3245b0003",
   "metadata": {},
   "source": [
    "  \n",
    "**Função `filter`**\n"
   ]
  },
  {
   "cell_type": "markdown",
   "id": "8de4686c-0c48-4dd9-956b-8db71e776ad2",
   "metadata": {},
   "source": [
    "Podemos realizar uma filtragem no resultado anterior da lista de situação dos alunos para dividir o grupo em 3 grupos - Aprovados, Recuperação e Reprovados"
   ]
  },
  {
   "cell_type": "code",
   "execution_count": 200,
   "id": "1c0813f8-86d8-4d61-a906-9a281e8819d2",
   "metadata": {},
   "outputs": [
    {
     "name": "stdout",
     "output_type": "stream",
     "text": [
      "['Alberto', 8.6, 'Aprovado']\n",
      "['José', 9.8, 'Aprovado']\n",
      "['Alfredo', 10, 'Aprovado']\n",
      "['Will', 7.5, 'Aprovado']\n",
      "['Fred', 8.2, 'Aprovado']\n",
      "['Paulo', 7.1, 'Aprovado']\n"
     ]
    }
   ],
   "source": [
    "aprovados = list(filter(lambda x: x[2]=='Aprovado',situacao_alunos))\n",
    "for aluno in aprovados:\n",
    "    print(aluno)"
   ]
  },
  {
   "cell_type": "code",
   "execution_count": 201,
   "id": "973cc36c-3a3e-48ef-aace-41c5156d7b44",
   "metadata": {},
   "outputs": [
    {
     "name": "stdout",
     "output_type": "stream",
     "text": [
      "['João', 6.5, 'Recuperação']\n",
      "['Carlos', 4.6, 'Recuperação']\n",
      "['Robin', 6.9, 'Recuperação']\n"
     ]
    }
   ],
   "source": [
    "recuperacao = list(filter(lambda x: x[2]=='Recuperação',situacao_alunos))\n",
    "for aluno in recuperacao:\n",
    "    print(aluno)"
   ]
  },
  {
   "cell_type": "code",
   "execution_count": 202,
   "id": "b853eee9-e396-4644-b26e-0a8b2c105f15",
   "metadata": {},
   "outputs": [
    {
     "name": "stdout",
     "output_type": "stream",
     "text": [
      "['Teresa', 1.2, 'Reprovado']\n"
     ]
    }
   ],
   "source": [
    "reprovados = list(filter(lambda x: x[2]=='Reprovado',situacao_alunos))\n",
    "for aluno in reprovados:\n",
    "    print(aluno)"
   ]
  },
  {
   "cell_type": "markdown",
   "id": "dc8df5b2-74e5-4b12-94c8-64210777bef9",
   "metadata": {},
   "source": [
    "**Funções `any` e `all`**"
   ]
  },
  {
   "cell_type": "code",
   "execution_count": 205,
   "id": "e28996f6-5b12-48e8-9014-15c0b8e786f1",
   "metadata": {},
   "outputs": [
    {
     "data": {
      "text/plain": [
       "True"
      ]
     },
     "execution_count": 205,
     "metadata": {},
     "output_type": "execute_result"
    }
   ],
   "source": [
    "all(situacao_alunos)"
   ]
  },
  {
   "cell_type": "code",
   "execution_count": null,
   "id": "ff950945-adb0-4009-9f23-290c2810ea1d",
   "metadata": {},
   "outputs": [],
   "source": []
  }
 ],
 "metadata": {
  "kernelspec": {
   "display_name": "Python 3",
   "language": "python",
   "name": "python3"
  },
  "language_info": {
   "codemirror_mode": {
    "name": "ipython",
    "version": 3
   },
   "file_extension": ".py",
   "mimetype": "text/x-python",
   "name": "python",
   "nbconvert_exporter": "python",
   "pygments_lexer": "ipython3",
   "version": "3.8.10"
  }
 },
 "nbformat": 4,
 "nbformat_minor": 5
}
