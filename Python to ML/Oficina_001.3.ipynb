{
 "cells": [
  {
   "cell_type": "markdown",
   "metadata": {},
   "source": [
    "# Oficina Aula 1.3"
   ]
  },
  {
   "cell_type": "markdown",
   "metadata": {},
   "source": [
    "Seus amigos sabem que você está trabalhando com Python e estão entusiasmados com as possibilidades de aplicações. Um deles é muito esquecido e sugeriu que você fizesse um programa que o alerte quando for o aniversário de alguém do seu grupo de amigos.\n",
    "\n",
    "Você pediu aos seus amigos que anotassem as datas de seus aniversários em uma lista, conforme está descrito a seguir, mas cada pessoa escreveu de uma forma diferente, então, cabe a você interpretá-la adequadamente:"
   ]
  },
  {
   "cell_type": "code",
   "execution_count": 52,
   "metadata": {},
   "outputs": [],
   "source": [
    "aniversarios = [\n",
    "    '01/02/1990', '22 de Maio de 1991',\n",
    "    '04/Abr/1995', '1995-Outubro-10',\n",
    "    '12 Julho 1989', '16 de Junho de 1987',\n",
    "    '04/07/1990']"
   ]
  },
  {
   "cell_type": "markdown",
   "metadata": {},
   "source": [
    "Para isso, o recomendado é criar uma lista de formatos correspondentes e aplicá-la à lista de datas de aniversários. O seu objetivo é criar um programa que converta a lista de datas de tipo string em uma lista de objetos do tipo data e organizá-los por ordem de aniversário no ano. Isso significa que primeiro vem o mês e, em seguida, o dia como critério de ordenação.\n",
    "\n",
    "Depois, você deve verificar se o dia de hoje é aniversário de alguém. Caso seja, você deve escrever a string “Hoje, (DIA DA SEMANA) (DIA) de (MÊS) de (ANO ATUAL), tem aniversário!”, em que as palavras DIA DA SEMANA, DIA, MÊS e ANO ATUAL devem ser substituídas pelos seus respectivos valores. As informações devem estar escritas em português."
   ]
  },
  {
   "cell_type": "markdown",
   "metadata": {},
   "source": [
    "---\n",
    "**Resolução**"
   ]
  },
  {
   "cell_type": "code",
   "execution_count": 53,
   "metadata": {},
   "outputs": [],
   "source": [
    "from datetime import datetime\n",
    "try:\n",
    "    import locale\n",
    "    locale.setlocale(locale.LC_ALL, 'pt_BR.utf-8')\n",
    "except Exception as erro:\n",
    "    print(f\"Erro: {erro}\")"
   ]
  },
  {
   "cell_type": "code",
   "execution_count": 54,
   "metadata": {},
   "outputs": [],
   "source": [
    "pattern_niver = [\n",
    "    \"%d/%m/%Y\", \"%d de %B de %Y\",\n",
    "    \"%d/%b/%Y\", \"%Y-%B-%d\",\n",
    "    \"%d %B %Y\", \"%d de %B de %Y\",\n",
    "    \"%d/%m/%Y\"\n",
    "]"
   ]
  },
  {
   "cell_type": "code",
   "execution_count": 55,
   "metadata": {},
   "outputs": [],
   "source": [
    "niver_datetime = []\n",
    "for data,padrao in zip(aniversarios,pattern_niver):\n",
    "    niver_datetime.append(datetime.strptime(data.lower(),padrao).replace(year=datetime.today().year))"
   ]
  },
  {
   "cell_type": "code",
   "execution_count": 56,
   "metadata": {},
   "outputs": [
    {
     "data": {
      "text/plain": [
       "[datetime.datetime(2021, 2, 1, 0, 0),\n",
       " datetime.datetime(2021, 4, 4, 0, 0),\n",
       " datetime.datetime(2021, 5, 22, 0, 0),\n",
       " datetime.datetime(2021, 6, 16, 0, 0),\n",
       " datetime.datetime(2021, 7, 4, 0, 0),\n",
       " datetime.datetime(2021, 7, 12, 0, 0),\n",
       " datetime.datetime(2021, 10, 10, 0, 0)]"
      ]
     },
     "execution_count": 56,
     "metadata": {},
     "output_type": "execute_result"
    }
   ],
   "source": [
    "niver_sorted = sorted(niver_datetime, key= lambda data: [data.month, data.day])\n",
    "niver_sorted"
   ]
  },
  {
   "cell_type": "code",
   "execution_count": 57,
   "metadata": {},
   "outputs": [
    {
     "name": "stdout",
     "output_type": "stream",
     "text": [
      "Nenhum Aniversário hoje!\n"
     ]
    }
   ],
   "source": [
    "hoje = datetime(datetime.today().year,datetime.today().month,datetime.today().day)\n",
    "print(f'Hoje,{hoje: %A - %d de %B de %Y}, é seu aniversário' if hoje in niver_sorted else 'Nenhum Aniversário hoje!')"
   ]
  },
  {
   "cell_type": "markdown",
   "metadata": {},
   "source": [
    "### OBS.:\n",
    "O código resolvido na aula síncrona não funciona pois `datetime.today()` retorna a data com horas, minutos e segundos e microsegundos, dessa forma nunca é encontrado esse valor dentro da lista de aniversários, pois a conversão com `strptime`, deixou a hors, minuto, segundo e microsegundo com valor Zero"
   ]
  },
  {
   "cell_type": "markdown",
   "metadata": {},
   "source": []
  }
 ],
 "metadata": {
  "interpreter": {
   "hash": "31f2aee4e71d21fbe5cf8b01ff0e069b9275f58929596ceb00d14d90e3e16cd6"
  },
  "kernelspec": {
   "display_name": "Python 3.8.10 64-bit",
   "language": "python",
   "name": "python3"
  },
  "language_info": {
   "codemirror_mode": {
    "name": "ipython",
    "version": 3
   },
   "file_extension": ".py",
   "mimetype": "text/x-python",
   "name": "python",
   "nbconvert_exporter": "python",
   "pygments_lexer": "ipython3",
   "version": "3.8.10"
  },
  "orig_nbformat": 4
 },
 "nbformat": 4,
 "nbformat_minor": 2
}
