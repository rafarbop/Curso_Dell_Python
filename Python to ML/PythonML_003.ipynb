{
 "cells": [
  {
   "cell_type": "markdown",
   "metadata": {},
   "source": [
    "# Curso de Python para Machine Learning"
   ]
  },
  {
   "cell_type": "markdown",
   "metadata": {},
   "source": [
    "---\n",
    "## Aula 3 - Introdução a Numpy"
   ]
  },
  {
   "cell_type": "markdown",
   "metadata": {},
   "source": [
    "### Numpy Arrays\n",
    "\n",
    "Arrays em python da biblioteca numpy é uma forma de se trabalhar com matrizes matemáticas e conseguir manipular os dados, fazendo varias das operações matemáticas envolvendo matrizes de forma mais simples e fácil.\n",
    "\n",
    "Para declarar um Array, basta usar o método `array`"
   ]
  },
  {
   "cell_type": "code",
   "execution_count": 31,
   "metadata": {},
   "outputs": [],
   "source": [
    "try:\n",
    "    import numpy as np\n",
    "except Exception as erro:\n",
    "    print(f\"Não foi possível importar o módulo Numpy\\nErro: {erro}\")"
   ]
  },
  {
   "cell_type": "code",
   "execution_count": 32,
   "metadata": {},
   "outputs": [],
   "source": [
    "matriz3x3 = np.array(\n",
    "    [[1,2,3],\n",
    "     [3,2,1],\n",
    "     [1,1,1]]\n",
    ")"
   ]
  },
  {
   "cell_type": "code",
   "execution_count": 33,
   "metadata": {},
   "outputs": [
    {
     "name": "stdout",
     "output_type": "stream",
     "text": [
      "[[1 2 3]\n",
      " [3 2 1]\n",
      " [1 1 1]]\n"
     ]
    }
   ],
   "source": [
    "print(matriz3x3)"
   ]
  },
  {
   "cell_type": "markdown",
   "metadata": {},
   "source": [
    "Podemos realizar operações de soma e multiplicação de arrays por um número de forma direta  \n",
    "O resultado é o mesmo esperado da operação matemática de matrizes"
   ]
  },
  {
   "cell_type": "code",
   "execution_count": 34,
   "metadata": {},
   "outputs": [
    {
     "name": "stdout",
     "output_type": "stream",
     "text": [
      "[[3 4 5]\n",
      " [5 4 3]\n",
      " [3 3 3]]\n",
      "[[3 6 9]\n",
      " [9 6 3]\n",
      " [3 3 3]]\n",
      "[[-4 -3 -2]\n",
      " [-2 -3 -4]\n",
      " [-4 -4 -4]]\n"
     ]
    }
   ],
   "source": [
    "print(matriz3x3+2)\n",
    "print(matriz3x3*3)\n",
    "print(matriz3x3-5)"
   ]
  },
  {
   "cell_type": "markdown",
   "metadata": {},
   "source": [
    "Para comparar com `list` em python, o resutlado é diferente, não representa a operação matemática esperada:"
   ]
  },
  {
   "cell_type": "code",
   "execution_count": 35,
   "metadata": {},
   "outputs": [
    {
     "name": "stdout",
     "output_type": "stream",
     "text": [
      "[[1, 2, 3], [2, 2, 2], [1, 1, 1], [1, 2, 3], [2, 2, 2], [1, 1, 1]]\n",
      "Erro: can only concatenate list (not \"int\") to list\n"
     ]
    }
   ],
   "source": [
    "lista3x3 = [\n",
    "    [1,2,3],\n",
    "    [2,2,2],\n",
    "    [1,1,1]\n",
    "]\n",
    "try:\n",
    "    print(lista3x3*2)\n",
    "    print(lista3x3+2)\n",
    "except Exception as erro:\n",
    "    print(f'Erro: {erro}')"
   ]
  },
  {
   "cell_type": "markdown",
   "metadata": {},
   "source": [
    "Outras operações também podem ser realizadas de forma simples com arrays - Soma e Diferença entre matrizes"
   ]
  },
  {
   "cell_type": "code",
   "execution_count": 36,
   "metadata": {},
   "outputs": [
    {
     "name": "stdout",
     "output_type": "stream",
     "text": [
      "A soma da matriz A com a matriz B é: \n",
      "[[4 4]\n",
      " [2 3]]\n",
      "A diferença entre a matriz A e B é: \n",
      "[[-2 -2]\n",
      " [ 2  1]]\n"
     ]
    }
   ],
   "source": [
    "matriz_A = np.array([\n",
    "    [1,1],\n",
    "    [2,2]\n",
    "])\n",
    "matriz_B = np.array([\n",
    "    [3,3],\n",
    "    [0,1]\n",
    "])\n",
    "print(f\"A soma da matriz A com a matriz B é: \\n{matriz_A + matriz_B}\")\n",
    "print(f\"A diferença entre a matriz A e B é: \\n{matriz_A - matriz_B}\")"
   ]
  },
  {
   "cell_type": "markdown",
   "metadata": {},
   "source": [
    "*Dimensão de um Array*\n",
    "\n",
    "Para verificar o tamanho de um array, usamos a atributo `shape`  \n",
    "A dimensão é verifica pelo atributo `ndim`"
   ]
  },
  {
   "cell_type": "code",
   "execution_count": 77,
   "metadata": {},
   "outputs": [
    {
     "name": "stdout",
     "output_type": "stream",
     "text": [
      "A matriz \n",
      "[[1 2 3]\n",
      " [3 2 1]\n",
      " [1 1 1]], tem tamanho: (3, 3) e dimensão: 2\n",
      "\n",
      "A matriz \n",
      "[1 2 3], tem tamanho: (3,) e dimensão: 1\n",
      "\n",
      "A matriz \n",
      "[[1]\n",
      " [2]\n",
      " [3]], tem tamanho: (3, 1) e dimensão: 2\n",
      "\n",
      "A matriz \n",
      "[[1 1]\n",
      " [2 3]\n",
      " [3 3]], tem tamanho: (3, 2) e dimensão: 2\n",
      "\n",
      "A matriz \n",
      "[[[1 5 1]\n",
      "  [1 0 1]]\n",
      "\n",
      " [[6 6 6]\n",
      "  [3 1 3]]\n",
      "\n",
      " [[8 0 0]\n",
      "  [3 0 0]]], tem tamanho: (3, 2, 3) e dimensão: 3\n",
      "\n"
     ]
    }
   ],
   "source": [
    "print(f\"A matriz \\n{matriz3x3}, tem tamanho: {matriz3x3.shape} e dimensão: {matriz3x3.ndim}\\n\")\n",
    "\n",
    "linha = np.array([1,2,3])\n",
    "print(f\"A matriz \\n{linha}, tem tamanho: {linha.shape} e dimensão: {linha.ndim}\\n\")\n",
    "\n",
    "linha2 = np.array([[1],[2],[3]])\n",
    "print(f\"A matriz \\n{linha2}, tem tamanho: {linha2.shape} e dimensão: {linha2.ndim}\\n\")\n",
    "\n",
    "matriz_C = np.array([\n",
    "    [1,1],\n",
    "    [2,3],\n",
    "    [3,3]])\n",
    "print(f\"A matriz \\n{matriz_C}, tem tamanho: {matriz_C.shape} e dimensão: {matriz_C.ndim}\\n\")\n",
    "\n",
    "matriz_D = np.array([\n",
    "    [[1,5,1],[1,0,1]],\n",
    "    [[6,6,6,],[3,1,3]],\n",
    "    [[8,0,0],[3,0,0]]])\n",
    "print(f\"A matriz \\n{matriz_D}, tem tamanho: {matriz_D.shape} e dimensão: {matriz_D.ndim}\\n\")"
   ]
  },
  {
   "cell_type": "markdown",
   "metadata": {},
   "source": [
    "**Multiplicação entre Matrizes - Arrays**\n",
    "\n",
    "Para uma *Matriz A* ser multiplicada por uma *Matriz B*, é necessário que as matrizes sejam compatíveis  \n",
    "\n",
    "Essa compatibilidade é verificada pelo tamanho - shape -  das duas matrizes.\n",
    " \n",
    "A *Matriz A* de shape *m x n*, a _Matriz B_ deverá ter um shape de *n x p*, ou seja, o número de **Colunas** de **A** deve ser igual ao número de **Linhas** de **B**\n",
    "\n",
    "O resultado será uma matriz de tamanho *m x p*"
   ]
  },
  {
   "cell_type": "code",
   "execution_count": 78,
   "metadata": {},
   "outputs": [],
   "source": [
    "A = np.array([\n",
    "    [1,1],\n",
    "    [2,2],\n",
    "    [3,3]\n",
    "])\n",
    "B = np.array([\n",
    "    [1,1,0],\n",
    "    [0,2,2]\n",
    "])"
   ]
  },
  {
   "cell_type": "code",
   "execution_count": 80,
   "metadata": {},
   "outputs": [
    {
     "name": "stdout",
     "output_type": "stream",
     "text": [
      "[[1 3 2]\n",
      " [2 6 4]\n",
      " [3 9 6]]\n"
     ]
    }
   ],
   "source": [
    "print(np.dot(A,B))"
   ]
  },
  {
   "cell_type": "markdown",
   "metadata": {},
   "source": [
    "Importante frisar que, geralmente, **A dot B** ≠ **B dot A**\n",
    "\n",
    "OBS.: O operador <span style=\"font-size: 18pt; vertical-align: -8px;\">*</span> realiza uma operação entre arrays específica do numpy - `broadcasting` -  \n",
    "Não confudir com a multiplicação de matrizes do método `numpy.dot`"
   ]
  },
  {
   "cell_type": "code",
   "execution_count": 82,
   "metadata": {},
   "outputs": [
    {
     "name": "stdout",
     "output_type": "stream",
     "text": [
      "[[ 3  3]\n",
      " [10 10]]\n"
     ]
    }
   ],
   "source": [
    "print(np.dot(B,A))"
   ]
  },
  {
   "cell_type": "markdown",
   "metadata": {},
   "source": [
    "Existem métodos no numpy para criamos um array com condições específicas, como um array somente com elementos de valor 0 ou de valor 1 ou com um valor específico informado:"
   ]
  },
  {
   "cell_type": "code",
   "execution_count": 91,
   "metadata": {},
   "outputs": [
    {
     "name": "stdout",
     "output_type": "stream",
     "text": [
      "[[0. 0. 0. 0. 0.]\n",
      " [0. 0. 0. 0. 0.]\n",
      " [0. 0. 0. 0. 0.]\n",
      " [0. 0. 0. 0. 0.]]\n",
      "[[1. 1.]\n",
      " [1. 1.]\n",
      " [1. 1.]]\n",
      "[[-15 -15 -15 -15 -15 -15]\n",
      " [-15 -15 -15 -15 -15 -15]\n",
      " [-15 -15 -15 -15 -15 -15]\n",
      " [-15 -15 -15 -15 -15 -15]\n",
      " [-15 -15 -15 -15 -15 -15]\n",
      " [-15 -15 -15 -15 -15 -15]]\n"
     ]
    }
   ],
   "source": [
    "print(np.zeros((4,5)))\n",
    "print(np.ones([3,2]))\n",
    "print(np.full([6,6],-15))\n"
   ]
  },
  {
   "cell_type": "markdown",
   "metadata": {},
   "source": [
    "**Arrays de Sequência de Números**\n",
    "\n",
    "Array com uma sequência de números inteiros:"
   ]
  },
  {
   "cell_type": "code",
   "execution_count": 94,
   "metadata": {},
   "outputs": [
    {
     "name": "stdout",
     "output_type": "stream",
     "text": [
      "[0 1 2 3 4 5 6 7]\n"
     ]
    }
   ],
   "source": [
    "print(np.arange(8))"
   ]
  },
  {
   "cell_type": "markdown",
   "metadata": {},
   "source": [
    "Array com uma sequência de números, com a definição de intervalo entre os números:"
   ]
  },
  {
   "cell_type": "code",
   "execution_count": 98,
   "metadata": {},
   "outputs": [
    {
     "name": "stdout",
     "output_type": "stream",
     "text": [
      "[0.  0.4 0.8 1.2 1.6]\n"
     ]
    }
   ],
   "source": [
    "print(np.arange(0,2,0.4))"
   ]
  },
  {
   "cell_type": "markdown",
   "metadata": {},
   "source": [
    "Array com uma sequência de números, com a definição do valor inicial, valor final e na quantidade de números contidos na matriz:\n"
   ]
  },
  {
   "cell_type": "code",
   "execution_count": 113,
   "metadata": {},
   "outputs": [
    {
     "name": "stdout",
     "output_type": "stream",
     "text": [
      "[0.  0.4 0.8 1.2 1.6 2. ]\n"
     ]
    }
   ],
   "source": [
    "print(np.linspace(0,2,6))"
   ]
  },
  {
   "cell_type": "markdown",
   "metadata": {},
   "source": [
    "**Acessar elementos ou partes de um Array**\n",
    "\n",
    "O uso de índices para acessar elementos acontece de forma semelhante a indexação de listas, porém pode ser usado um índice para cada dimensão, depende de qual valor ou valore se quer como retorno"
   ]
  },
  {
   "cell_type": "code",
   "execution_count": 123,
   "metadata": {},
   "outputs": [
    {
     "name": "stdout",
     "output_type": "stream",
     "text": [
      "[0 1 2]\n",
      "11\n",
      "[10 11]\n",
      "[[ 1  2]\n",
      " [11 12]]\n"
     ]
    }
   ],
   "source": [
    "matriz_E = np.array([\n",
    "    [0,1,2],\n",
    "    [10,11,12],\n",
    "    [20,21,22],\n",
    "])\n",
    "print(matriz_E[0])\n",
    "print(matriz_E[1,1])\n",
    "print(matriz_E[1,:2])\n",
    "print(matriz_E[:2,1:])"
   ]
  },
  {
   "cell_type": "markdown",
   "metadata": {},
   "source": [
    "### Funções do Numpy\n"
   ]
  },
  {
   "cell_type": "markdown",
   "metadata": {},
   "source": [
    "A partir de uma matriz de shape (2,12), que representa as venda de um produto no nao de 2020 na primeira linha e no ano de 2021 na segunda linha, podemos calcular a média de vendas por ano e também por mês:"
   ]
  },
  {
   "cell_type": "code",
   "execution_count": 131,
   "metadata": {},
   "outputs": [
    {
     "name": "stdout",
     "output_type": "stream",
     "text": [
      "[20. 50.]\n",
      "[25. 35. 45. 25. 35. 45. 25. 35. 45. 35. 35. 35.]\n"
     ]
    }
   ],
   "source": [
    "vendas2020_2021 = np.array([\n",
    "    [10,20,30,10,20,30,10,20,30,20,20,20],\n",
    "    [40,50,60,40,50,60,40,50,60,50,50,50],\n",
    "])\n",
    "media2020_2021 = vendas2020_2021.mean(axis=1)\n",
    "print(media2020_2021)\n",
    "\n",
    "media_por_mes = vendas2020_2021.mean(axis=0)\n",
    "print(media_por_mes)"
   ]
  },
  {
   "cell_type": "markdown",
   "metadata": {},
   "source": [
    "Podemos também usar o método `sum` para obter a soma dos valores de linha ou colunas, usando também o parametro `axis`"
   ]
  },
  {
   "cell_type": "code",
   "execution_count": 140,
   "metadata": {},
   "outputs": [
    {
     "name": "stdout",
     "output_type": "stream",
     "text": [
      "[240 600]\n",
      "600\n",
      "[30 60]\n",
      "[2 2]\n"
     ]
    }
   ],
   "source": [
    "somar_vendas = vendas2020_2021.sum(1)\n",
    "print(somar_vendas)\n",
    "print(somar_vendas.max())\n",
    "\n",
    "# Valor máximo de venda por mês em 2020 e 2021\n",
    "print(vendas2020_2021.max(axis=1))\n",
    "# Posição do maior valor de vendas\n",
    "print(vendas2020_2021.argmax(axis=1))"
   ]
  },
  {
   "cell_type": "code",
   "execution_count": null,
   "metadata": {},
   "outputs": [],
   "source": []
  }
 ],
 "metadata": {
  "interpreter": {
   "hash": "ac59ebe37160ed0dfa835113d9b8498d9f09ceb179beaac4002f036b9467c963"
  },
  "kernelspec": {
   "display_name": "Python 3.9.1 64-bit",
   "language": "python",
   "name": "python3"
  },
  "language_info": {
   "codemirror_mode": {
    "name": "ipython",
    "version": 3
   },
   "file_extension": ".py",
   "mimetype": "text/x-python",
   "name": "python",
   "nbconvert_exporter": "python",
   "pygments_lexer": "ipython3",
   "version": "3.9.1"
  },
  "orig_nbformat": 2
 },
 "nbformat": 4,
 "nbformat_minor": 2
}
