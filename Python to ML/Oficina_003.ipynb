{
 "cells": [
  {
   "cell_type": "code",
   "execution_count": 1,
   "metadata": {},
   "outputs": [],
   "source": [
    "import numpy as np"
   ]
  },
  {
   "cell_type": "code",
   "execution_count": 2,
   "metadata": {},
   "outputs": [],
   "source": [
    "visualizacao_stories = [\n",
    "    [187, 120, 88, 70, 130, 168, 213],\n",
    "    [0, 0, 42, 0, 0, 55, 77],\n",
    "    [91, 0, 61, 0, 71, 121, 271],\n",
    "    [0, 0, 0, 0, 187, 0, 0],\n",
    "    [42, 23, 34, 0, 39, 29, 36]\n",
    "]\n",
    "pessoas = ['Raquel', 'Lucas', 'Daniel', 'Natalia', 'Anderson']\n",
    "dias_semana = ['Domingo', 'Segunda', 'Terça', 'Quarta', 'Quinta', 'Sexta', 'Sábado']\n",
    "\n",
    "visualizacao_stories = np.array(visualizacao_stories)"
   ]
  },
  {
   "cell_type": "code",
   "execution_count": 6,
   "metadata": {},
   "outputs": [
    {
     "name": "stdout",
     "output_type": "stream",
     "text": [
      "A média de visualizações de Domingo é: 64.0\n",
      "A média de visualizações de Segunda é: 28.6\n",
      "A média de visualizações de Terça é: 45.0\n",
      "A média de visualizações de Quarta é: 14.0\n",
      "A média de visualizações de Quinta é: 85.4\n",
      "A média de visualizações de Sexta é: 74.6\n",
      "A média de visualizações de Sábado é: 119.4\n"
     ]
    }
   ],
   "source": [
    "media_por_dia = visualizacao_stories.mean(axis=0)\n",
    "for index in range(7):\n",
    "    print(f\"A média de visualizações de {dias_semana[index]} é: {media_por_dia[index]}\")"
   ]
  },
  {
   "cell_type": "code",
   "execution_count": 8,
   "metadata": {},
   "outputs": [
    {
     "name": "stdout",
     "output_type": "stream",
     "text": [
      "O dia que teve mais visulizações foi Sábado\n"
     ]
    }
   ],
   "source": [
    "somar_views = visualizacao_stories.sum(axis=0)\n",
    "print(f\"O dia que teve mais visulizações foi {dias_semana[somar_views.argmax()]}\")"
   ]
  },
  {
   "cell_type": "code",
   "execution_count": 28,
   "metadata": {},
   "outputs": [
    {
     "name": "stdout",
     "output_type": "stream",
     "text": [
      "Quem teve o maior número de visualizações na última semana foi: Raquel\n"
     ]
    }
   ],
   "source": [
    "view_semana = visualizacao_stories.sum(axis=1)\n",
    "print(f\"Quem teve o maior número de visualizações na última semana foi: {pessoas[view_semana.argmax()]}\")"
   ]
  },
  {
   "cell_type": "markdown",
   "metadata": {},
   "source": [
    "## Parte 2"
   ]
  },
  {
   "cell_type": "code",
   "execution_count": 29,
   "metadata": {},
   "outputs": [],
   "source": [
    "visualizacao_stories_invalidos = np.array([\n",
    "    [52, 68, 97, 55, -1, 98, -1],\n",
    "    [53, -1, 38, -1, -1, 72, 49],\n",
    "    [88, -1, 64, -1, 77, 130, 43],\n",
    "    [-1, 30, -1, -1, -1, 182, -1],\n",
    "    [41, 20, 33, -1, 37, 23, 7]\n",
    "])"
   ]
  },
  {
   "cell_type": "code",
   "execution_count": 36,
   "metadata": {},
   "outputs": [],
   "source": [
    "views_masked = np.ma.masked_where(visualizacao_stories_invalidos == -1, visualizacao_stories_invalidos)\n",
    "views_week_2 = views_masked.filled(0)\n",
    "views_total = views_week_2 + visualizacao_stories"
   ]
  },
  {
   "cell_type": "code",
   "execution_count": 37,
   "metadata": {},
   "outputs": [
    {
     "name": "stdout",
     "output_type": "stream",
     "text": [
      "A média de visualizações de Domingo é: 110.8\n",
      "A média de visualizações de Segunda é: 52.2\n",
      "A média de visualizações de Terça é: 91.4\n",
      "A média de visualizações de Quarta é: 25.0\n",
      "A média de visualizações de Quinta é: 108.2\n",
      "A média de visualizações de Sexta é: 175.6\n",
      "A média de visualizações de Sábado é: 139.2\n"
     ]
    }
   ],
   "source": [
    "media_por_dia = views_total.mean(axis=0)\n",
    "for index in range(7):\n",
    "    print(f\"A média de visualizações de {dias_semana[index]} é: {media_por_dia[index]}\")"
   ]
  },
  {
   "cell_type": "code",
   "execution_count": 38,
   "metadata": {},
   "outputs": [
    {
     "name": "stdout",
     "output_type": "stream",
     "text": [
      "O dia que teve mais visulizações foi Sexta\n"
     ]
    }
   ],
   "source": [
    "somar_views = views_total.sum(axis=0)\n",
    "print(f\"O dia que teve mais visulizações foi {dias_semana[somar_views.argmax()]}\")"
   ]
  },
  {
   "cell_type": "code",
   "execution_count": 39,
   "metadata": {},
   "outputs": [
    {
     "name": "stdout",
     "output_type": "stream",
     "text": [
      "Quem teve o maior número de visualizações na última semana foi: Raquel\n"
     ]
    }
   ],
   "source": [
    "view_semana = views_total.sum(axis=1)\n",
    "print(f\"Quem teve o maior número de visualizações na última semana foi: {pessoas[view_semana.argmax()]}\")"
   ]
  },
  {
   "cell_type": "code",
   "execution_count": null,
   "metadata": {},
   "outputs": [],
   "source": []
  }
 ],
 "metadata": {
  "interpreter": {
   "hash": "916dbcbb3f70747c44a77c7bcd40155683ae19c65e1c03b4aa3499c5328201f1"
  },
  "kernelspec": {
   "display_name": "Python 3.8.10 64-bit",
   "language": "python",
   "name": "python3"
  },
  "language_info": {
   "codemirror_mode": {
    "name": "ipython",
    "version": 3
   },
   "file_extension": ".py",
   "mimetype": "text/x-python",
   "name": "python",
   "nbconvert_exporter": "python",
   "pygments_lexer": "ipython3",
   "version": "3.9.1"
  },
  "orig_nbformat": 4
 },
 "nbformat": 4,
 "nbformat_minor": 2
}
