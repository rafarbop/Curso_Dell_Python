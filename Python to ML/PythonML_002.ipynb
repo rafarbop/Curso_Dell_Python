{
 "cells": [
  {
   "cell_type": "markdown",
   "metadata": {},
   "source": [
    "# Curso de Python para Machine Learning"
   ]
  },
  {
   "cell_type": "markdown",
   "metadata": {},
   "source": [
    "---\n",
    "## Aula 2 - Introdução a Bibliotecas Matemáticas"
   ]
  },
  {
   "cell_type": "markdown",
   "metadata": {},
   "source": [
    "### Módulo Random"
   ]
  },
  {
   "cell_type": "code",
   "execution_count": 12,
   "metadata": {},
   "outputs": [],
   "source": [
    "import random"
   ]
  },
  {
   "cell_type": "markdown",
   "metadata": {},
   "source": [
    "O método `random` da biblioteca `Random` gera um número aleátorio maior ou igua 0 e menor que 1  \n",
    "0 <= x < 1"
   ]
  },
  {
   "cell_type": "code",
   "execution_count": 13,
   "metadata": {},
   "outputs": [
    {
     "data": {
      "text/plain": [
       "0.905945131483747"
      ]
     },
     "execution_count": 13,
     "metadata": {},
     "output_type": "execute_result"
    }
   ],
   "source": [
    "random.random()"
   ]
  },
  {
   "cell_type": "markdown",
   "metadata": {},
   "source": [
    "A geração de números aleatório - pseudoaleátorios, na verdade - em python acontece através de um gerador.\n",
    "\n",
    "Esse gerador pode receber um fonte, ou semente (seed in english), que será utilizado na geração dos números.  \n",
    "Esse semente - seed - pode ser um número inteiro ou não, uma string, bytes ou bytearray.\n",
    "\n",
    "Quando não é repassado essa fonte - seed - é utilizado o tempo atual ou uma fonte de geração aleatória do sistema operacional se disponível"
   ]
  },
  {
   "cell_type": "code",
   "execution_count": 37,
   "metadata": {},
   "outputs": [
    {
     "name": "stdout",
     "output_type": "stream",
     "text": [
      "0.6229016948897019\n",
      "0.6229016948897019\n",
      "0.8188224060793097\n",
      "0.8188224060793097\n",
      "0.9445184518434114\n",
      "0.9445184518434114\n"
     ]
    }
   ],
   "source": [
    "# Seed Inteiro\n",
    "random.seed(5)\n",
    "print(random.random())\n",
    "random.seed(5)\n",
    "print(random.random())\n",
    "\n",
    "# Seed string\n",
    "random.seed('rafael')\n",
    "print(random.random())\n",
    "random.seed('rafael')\n",
    "print(random.random())\n",
    "\n",
    "# Seed Float\n",
    "random.seed(5.0000000001)\n",
    "print(random.random())\n",
    "random.seed(5.0000000001)\n",
    "print(random.random())"
   ]
  },
  {
   "cell_type": "markdown",
   "metadata": {},
   "source": [
    "Utilizando o tempo atual como seed"
   ]
  },
  {
   "cell_type": "code",
   "execution_count": 53,
   "metadata": {},
   "outputs": [
    {
     "name": "stdout",
     "output_type": "stream",
     "text": [
      "0.9283310860665747\n",
      "0.37252792315727523\n"
     ]
    }
   ],
   "source": [
    "# Time now\n",
    "from datetime import datetime\n",
    "random.seed(datetime.today())\n",
    "print(random.random())\n",
    "random.seed(datetime.today())\n",
    "print(random.random())"
   ]
  },
  {
   "cell_type": "markdown",
   "metadata": {},
   "source": [
    "O método `randint` gera um número aleátorio inteiro entre dois números fornecidos.  \n",
    "Nesse caso os dois números estão inclusos no intervalo utilizado como base"
   ]
  },
  {
   "cell_type": "code",
   "execution_count": 10,
   "metadata": {},
   "outputs": [
    {
     "data": {
      "text/plain": [
       "[0, 2, 6, 3, 2, 9, 7, 3, 3]"
      ]
     },
     "execution_count": 10,
     "metadata": {},
     "output_type": "execute_result"
    }
   ],
   "source": [
    "a = [random.randint(0,9) for _ in range(9)]\n",
    "a"
   ]
  },
  {
   "cell_type": "markdown",
   "metadata": {},
   "source": [
    "É possível realizar uma escolha aleátoria entre algumas opções utilizando o método `choice`\n",
    "\n",
    "O método `choices` é semelhante e retorna um tamanho informando de opções, por exemplo, retorna 2 números da lista a cada chamada - jogada."
   ]
  },
  {
   "cell_type": "code",
   "execution_count": 61,
   "metadata": {},
   "outputs": [
    {
     "data": {
      "text/plain": [
       "[3, 4, 2]"
      ]
     },
     "execution_count": 61,
     "metadata": {},
     "output_type": "execute_result"
    }
   ],
   "source": [
    "dado = [1,2,3,4,5,6]\n",
    "tres_rodadas = [random.choice(dado) for _ in range(3)]\n",
    "tres_rodadas"
   ]
  },
  {
   "cell_type": "code",
   "execution_count": 62,
   "metadata": {},
   "outputs": [
    {
     "data": {
      "text/plain": [
       "[[1, 4], [4, 1], [5, 3]]"
      ]
     },
     "execution_count": 62,
     "metadata": {},
     "output_type": "execute_result"
    }
   ],
   "source": [
    "tres_rodadas_dois_dados = [random.choices(dado,k=2) for _ in range(3)]\n",
    "tres_rodadas_dois_dados"
   ]
  },
  {
   "cell_type": "markdown",
   "metadata": {},
   "source": [
    "Os métodos `choice` e `choices`, podem receber uma lista de valores não numericos também\n",
    "\n",
    "Além disso, é possível atribuir pesos para as informações, de forma a a escolha leve em consideração esses pesos"
   ]
  },
  {
   "cell_type": "code",
   "execution_count": 119,
   "metadata": {},
   "outputs": [
    {
     "data": {
      "text/plain": [
       "['rafa', 'rafa']"
      ]
     },
     "execution_count": 119,
     "metadata": {},
     "output_type": "execute_result"
    }
   ],
   "source": [
    "lista_nomes = ['rafa','joão','alberto','bruna','mateus','felipe','fabio']\n",
    "pesos = [5,1,1,3,1,2,1]\n",
    "dois_nomes = random.choices(lista_nomes,k=2,weights=pesos)\n",
    "dois_nomes"
   ]
  },
  {
   "cell_type": "markdown",
   "metadata": {},
   "source": [
    "O método `choices` funciona considerando a reposição do valor na primeira vez quando k > 1\n",
    "\n",
    "No caso de ser necessário, por exemplo, dois nomes distintos do exemplo acima, podemos utilizar o método se escolha sem reposíção `sample`.  \n",
    "OBS.: O método `sample` não aceita um parametro de pesos"
   ]
  },
  {
   "cell_type": "code",
   "execution_count": 120,
   "metadata": {},
   "outputs": [
    {
     "data": {
      "text/plain": [
       "['bruna', 'alberto']"
      ]
     },
     "execution_count": 120,
     "metadata": {},
     "output_type": "execute_result"
    }
   ],
   "source": [
    "dois_nomes_distintos = random.sample(lista_nomes,k=2)\n",
    "dois_nomes_distintos"
   ]
  },
  {
   "cell_type": "markdown",
   "metadata": {},
   "source": [
    "O método `shuffle` *embaralha* as entradas fornecidas"
   ]
  },
  {
   "cell_type": "code",
   "execution_count": 121,
   "metadata": {},
   "outputs": [
    {
     "data": {
      "text/plain": [
       "['3Ouros',\n",
       " '2Espadas',\n",
       " '1Paus',\n",
       " '1Espadas',\n",
       " '1Ouros',\n",
       " '2Paus',\n",
       " '3Paus',\n",
       " '1Copas',\n",
       " '3Espadas',\n",
       " '2Copas',\n",
       " '2Ouros',\n",
       " '3Copas']"
      ]
     },
     "execution_count": 121,
     "metadata": {},
     "output_type": "execute_result"
    }
   ],
   "source": [
    "cartas = [\n",
    "    '1Copas','2Copas','3Copas',\n",
    "    '1Ouros','2Ouros','3Ouros',\n",
    "    '1Espadas','2Espadas','3Espadas',\n",
    "    '1Paus','2Paus','3Paus'\n",
    "    ]\n",
    "random.shuffle(cartas)\n",
    "cartas"
   ]
  },
  {
   "cell_type": "markdown",
   "metadata": {},
   "source": [
    "**Exemplo Prático**\n",
    "\n",
    "Calculando a probabilidade de ao sejogar dois dados, os dois cairem com o mesmo lado para cima"
   ]
  },
  {
   "cell_type": "code",
   "execution_count": 158,
   "metadata": {},
   "outputs": [
    {
     "name": "stdout",
     "output_type": "stream",
     "text": [
      "Foram jogadas 20000000 rodadas!\n",
      "3332246 vezes os dois dados cairam com o mesmo lado para cima, logo 16.66% foi a estatistica verificada!\n"
     ]
    }
   ],
   "source": [
    "dado = list(range(1,7))\n",
    "lista_resultados_iguais = []\n",
    "n = int(input(\"Número de Jogadas: \"))\n",
    "for _ in range(n):\n",
    "    resultado = random.choices(dado,k=2)\n",
    "    if resultado[0]==resultado[1]:\n",
    "        lista_resultados_iguais.append(resultado)\n",
    "print(f\"Foram jogadas {n} rodadas!\")\n",
    "print(f\"{len(lista_resultados_iguais)} vezes os dois dados cairam com o mesmo lado para cima, logo {len(lista_resultados_iguais)*100/n:.2f}% foi a estatistica verificada!\")"
   ]
  },
  {
   "cell_type": "markdown",
   "metadata": {},
   "source": [
    "### Módulo Math"
   ]
  },
  {
   "cell_type": "code",
   "execution_count": 159,
   "metadata": {},
   "outputs": [],
   "source": [
    "import math"
   ]
  },
  {
   "cell_type": "markdown",
   "metadata": {},
   "source": [
    "**Contantes Matemáticas**"
   ]
  },
  {
   "cell_type": "code",
   "execution_count": 162,
   "metadata": {},
   "outputs": [
    {
     "name": "stdout",
     "output_type": "stream",
     "text": [
      "3.141592653589793\n",
      "6.283185307179586\n",
      "2.718281828459045\n",
      "inf\n",
      "True\n",
      "nan\n",
      "False\n"
     ]
    }
   ],
   "source": [
    "print(math.pi)\n",
    "print(math.tau)\n",
    "print(math.e)\n",
    "print(math.inf) # infinito\n",
    "print(math.inf > 100000000000)\n",
    "print(math.nan) # nan\n",
    "print(math.isnan(1001))"
   ]
  },
  {
   "cell_type": "markdown",
   "metadata": {},
   "source": [
    "Alguns métodos matemáticos são utilizados para realizar aproximações ou arredodamentos"
   ]
  },
  {
   "cell_type": "code",
   "execution_count": 167,
   "metadata": {},
   "outputs": [
    {
     "name": "stdout",
     "output_type": "stream",
     "text": [
      "4\n",
      "3\n",
      "3\n"
     ]
    }
   ],
   "source": [
    "print(math.ceil(3.1415))\n",
    "print(math.floor(3.1415))\n",
    "print(math.trunc(3.1415))"
   ]
  },
  {
   "cell_type": "markdown",
   "metadata": {},
   "source": [
    "Cálculos de potência, logaritmos, fatorial e diversos outros podem ser feitos com o módulo `math`\n",
    "\n",
    "Existem também alguns métodos que ajudam com alguns problemas de geometria, como a hipotenusa de um triângulo retângulo ou a distância entre dois pontos, além de varias funções trigonométricas como seno, cosseno e demais funções"
   ]
  },
  {
   "cell_type": "code",
   "execution_count": 182,
   "metadata": {},
   "outputs": [
    {
     "name": "stdout",
     "output_type": "stream",
     "text": [
      "5.0\n",
      "1.4142135623730951\n",
      "0.5\n"
     ]
    }
   ],
   "source": [
    "print(math.hypot(3.0,4.0))\n",
    "print(math.dist((1,5),(2,6)))\n",
    "print(round(math.sin(math.radians(30)),2)) # Os resultados tem valores com nível de precisão na casa de alguns decimais"
   ]
  },
  {
   "cell_type": "code",
   "execution_count": null,
   "metadata": {},
   "outputs": [],
   "source": []
  }
 ],
 "metadata": {
  "interpreter": {
   "hash": "31f2aee4e71d21fbe5cf8b01ff0e069b9275f58929596ceb00d14d90e3e16cd6"
  },
  "kernelspec": {
   "display_name": "Python 3.8.10 64-bit",
   "language": "python",
   "name": "python3"
  },
  "language_info": {
   "codemirror_mode": {
    "name": "ipython",
    "version": 3
   },
   "file_extension": ".py",
   "mimetype": "text/x-python",
   "name": "python",
   "nbconvert_exporter": "python",
   "pygments_lexer": "ipython3",
   "version": "3.8.10"
  },
  "orig_nbformat": 4
 },
 "nbformat": 4,
 "nbformat_minor": 2
}
