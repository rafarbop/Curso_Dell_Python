{
  "nbformat": 4,
  "nbformat_minor": 5,
  "metadata": {
    "kernelspec": {
      "display_name": "Python 3",
      "language": "python",
      "name": "python3"
    },
    "language_info": {
      "codemirror_mode": {
        "name": "ipython",
        "version": 3
      },
      "file_extension": ".py",
      "mimetype": "text/x-python",
      "name": "python",
      "nbconvert_exporter": "python",
      "pygments_lexer": "ipython3",
      "version": "3.8.10"
    },
    "colab": {
      "name": "PythonML_001.2.ipynb",
      "provenance": []
    }
  },
  "cells": [
    {
      "cell_type": "markdown",
      "metadata": {
        "id": "07ee7807-3c1b-4562-8c25-ac31530b1ff8"
      },
      "source": [
        "## Curso de Python para Machine Learning"
      ],
      "id": "07ee7807-3c1b-4562-8c25-ac31530b1ff8"
    },
    {
      "cell_type": "markdown",
      "metadata": {
        "id": "fa713ce4-fa48-4f14-98ee-f9fb8e7e8936"
      },
      "source": [
        "---\n",
        "### Aula 1.2 - Funções da biblioteca padrão\n"
      ],
      "id": "fa713ce4-fa48-4f14-98ee-f9fb8e7e8936"
    },
    {
      "cell_type": "markdown",
      "metadata": {
        "id": "9b9e069a-884f-4b9e-b1d5-d5850e39bf62"
      },
      "source": [
        "> ### Itertools"
      ],
      "id": "9b9e069a-884f-4b9e-b1d5-d5850e39bf62"
    },
    {
      "cell_type": "code",
      "metadata": {
        "id": "3f5EzzDRTppO"
      },
      "source": [
        "import itertools\n",
        "contador = itertools.count()"
      ],
      "id": "3f5EzzDRTppO",
      "execution_count": 2,
      "outputs": []
    },
    {
      "cell_type": "code",
      "metadata": {
        "colab": {
          "base_uri": "https://localhost:8080/"
        },
        "id": "a7khdFCcTrtV",
        "outputId": "5c1a6dfe-37d1-47b6-9fff-de0772e587fd"
      },
      "source": [
        "print(type(contador))\n",
        "print(contador)\n",
        "next(contador)\n",
        "print(contador)"
      ],
      "id": "a7khdFCcTrtV",
      "execution_count": 3,
      "outputs": [
        {
          "output_type": "stream",
          "name": "stdout",
          "text": [
            "<class 'itertools.count'>\n",
            "count(0)\n",
            "count(1)\n"
          ]
        }
      ]
    },
    {
      "cell_type": "markdown",
      "metadata": {
        "id": "cjNLUV6_Vd6Z"
      },
      "source": [
        "**Combinações**\n",
        "\n",
        "A biblioteca itertools tem um método que retorna as combinações possíveis de um objeto python  \n",
        "O retorno é um objeto iterável  \n",
        "A ordem não importa nesse caso"
      ],
      "id": "cjNLUV6_Vd6Z"
    },
    {
      "cell_type": "code",
      "metadata": {
        "id": "yQYd6u8AVVpn",
        "outputId": "87945c27-e790-4ed4-e99e-abb0a97b5e09",
        "colab": {
          "base_uri": "https://localhost:8080/"
        }
      },
      "source": [
        "itertools.combinations('ABC',2) # retorna um objeto iterável"
      ],
      "id": "yQYd6u8AVVpn",
      "execution_count": 20,
      "outputs": [
        {
          "output_type": "execute_result",
          "data": {
            "text/plain": [
              "<itertools.combinations at 0x7fe1c4b48170>"
            ]
          },
          "metadata": {},
          "execution_count": 20
        }
      ]
    },
    {
      "cell_type": "code",
      "metadata": {
        "id": "LDs35GGrWEGh",
        "outputId": "a7e09447-0b34-4c90-cbe0-a15cc1e32e92",
        "colab": {
          "base_uri": "https://localhost:8080/"
        }
      },
      "source": [
        "list(itertools.combinations('ABC',2)) # convertendo o retorno em uma lista"
      ],
      "id": "LDs35GGrWEGh",
      "execution_count": 21,
      "outputs": [
        {
          "output_type": "execute_result",
          "data": {
            "text/plain": [
              "[('A', 'B'), ('A', 'C'), ('B', 'C')]"
            ]
          },
          "metadata": {},
          "execution_count": 21
        }
      ]
    },
    {
      "cell_type": "markdown",
      "metadata": {
        "id": "tYg6aA9bWmLW"
      },
      "source": [
        "**Permutações**\n",
        "\n",
        "Outro método da biblioteca itertools é o *permutations*, que retorna as permutações possíveis em um conjunto  \n",
        "Nesse caso a ordem importa, dessa forma cada elemento é tratado como único de acordo com sua posição  \n",
        "OBS.: Caso o parametro `r` não seja informado, será considerado o comprimento total da lista informada"
      ],
      "id": "tYg6aA9bWmLW"
    },
    {
      "cell_type": "code",
      "metadata": {
        "id": "Cvp1WjnrWQwS",
        "outputId": "23d82dd7-6993-4794-b91d-4f4f3ec81c02",
        "colab": {
          "base_uri": "https://localhost:8080/"
        }
      },
      "source": [
        "list(itertools.permutations([1,2,3]))"
      ],
      "id": "Cvp1WjnrWQwS",
      "execution_count": 17,
      "outputs": [
        {
          "output_type": "execute_result",
          "data": {
            "text/plain": [
              "[(1, 2, 3), (1, 3, 2), (2, 1, 3), (2, 3, 1), (3, 1, 2), (3, 2, 1)]"
            ]
          },
          "metadata": {},
          "execution_count": 17
        }
      ]
    },
    {
      "cell_type": "code",
      "metadata": {
        "id": "Pye1NooVX14k",
        "outputId": "ba55f488-95ac-47ef-9809-0861d2ae7d17",
        "colab": {
          "base_uri": "https://localhost:8080/"
        }
      },
      "source": [
        "list(itertools.permutations([1,2]))"
      ],
      "id": "Pye1NooVX14k",
      "execution_count": 18,
      "outputs": [
        {
          "output_type": "execute_result",
          "data": {
            "text/plain": [
              "[(1, 2), (2, 1)]"
            ]
          },
          "metadata": {},
          "execution_count": 18
        }
      ]
    },
    {
      "cell_type": "code",
      "metadata": {
        "id": "xYx9tPVMX6-7",
        "outputId": "c6e49047-4644-4022-e413-0aea323d2684",
        "colab": {
          "base_uri": "https://localhost:8080/"
        }
      },
      "source": [
        "list(itertools.permutations([1,2,3,4], r = 2))"
      ],
      "id": "xYx9tPVMX6-7",
      "execution_count": 19,
      "outputs": [
        {
          "output_type": "execute_result",
          "data": {
            "text/plain": [
              "[(1, 2),\n",
              " (1, 3),\n",
              " (1, 4),\n",
              " (2, 1),\n",
              " (2, 3),\n",
              " (2, 4),\n",
              " (3, 1),\n",
              " (3, 2),\n",
              " (3, 4),\n",
              " (4, 1),\n",
              " (4, 2),\n",
              " (4, 3)]"
            ]
          },
          "metadata": {},
          "execution_count": 19
        }
      ]
    },
    {
      "cell_type": "markdown",
      "metadata": {
        "id": "kdNYTXCCZrez"
      },
      "source": [
        "**Produto Cartesiano**\n",
        "\n",
        "Na matemática, produto cartesiano é o resultado dos pares ordenados entre dois conjuntos - A e B - de forma que um elemento perterce a *A* e o outro elemento pertence a *B*"
      ],
      "id": "kdNYTXCCZrez"
    },
    {
      "cell_type": "code",
      "metadata": {
        "id": "SOz2_0gwaR0N",
        "outputId": "9e6f5996-c3d8-4895-a61c-e7a645b1fbe3",
        "colab": {
          "base_uri": "https://localhost:8080/"
        }
      },
      "source": [
        "A = (1,2)\n",
        "B = (3,4)\n",
        "list(itertools.product(A,B))"
      ],
      "id": "SOz2_0gwaR0N",
      "execution_count": 16,
      "outputs": [
        {
          "output_type": "execute_result",
          "data": {
            "text/plain": [
              "[(1, 3), (1, 4), (2, 3), (2, 4)]"
            ]
          },
          "metadata": {},
          "execution_count": 16
        }
      ]
    },
    {
      "cell_type": "code",
      "metadata": {
        "id": "WG8UANhpaXez",
        "outputId": "62074c94-df6a-4e17-ba50-beb89535793a",
        "colab": {
          "base_uri": "https://localhost:8080/"
        }
      },
      "source": [
        "# Produto Cartesiano de um conjunto sobre ele mesmo\n",
        "list(itertools.product(A,repeat=2))"
      ],
      "id": "WG8UANhpaXez",
      "execution_count": 15,
      "outputs": [
        {
          "output_type": "execute_result",
          "data": {
            "text/plain": [
              "[(1, 1), (1, 2), (2, 1), (2, 2)]"
            ]
          },
          "metadata": {},
          "execution_count": 15
        }
      ]
    },
    {
      "cell_type": "code",
      "metadata": {
        "id": "42VbYLBvatN8",
        "outputId": "8d717072-ab82-4cb8-d890-27bb7263aca9",
        "colab": {
          "base_uri": "https://localhost:8080/"
        }
      },
      "source": [
        "# Produto cartesiano entre 3 conjunto\n",
        "list(itertools.product(['Carlos','Pedro'],['Mara','Karla'],['João','Andrea']))"
      ],
      "id": "42VbYLBvatN8",
      "execution_count": 24,
      "outputs": [
        {
          "output_type": "execute_result",
          "data": {
            "text/plain": [
              "[('Carlos', 'Mara', 'João'),\n",
              " ('Carlos', 'Mara', 'Andrea'),\n",
              " ('Carlos', 'Karla', 'João'),\n",
              " ('Carlos', 'Karla', 'Andrea'),\n",
              " ('Pedro', 'Mara', 'João'),\n",
              " ('Pedro', 'Mara', 'Andrea'),\n",
              " ('Pedro', 'Karla', 'João'),\n",
              " ('Pedro', 'Karla', 'Andrea')]"
            ]
          },
          "metadata": {},
          "execution_count": 24
        }
      ]
    },
    {
      "cell_type": "markdown",
      "metadata": {
        "id": "akuV9bUmdJTd"
      },
      "source": [
        "> ### Expressões Regulares - REGEX"
      ],
      "id": "akuV9bUmdJTd"
    },
    {
      "cell_type": "code",
      "metadata": {
        "id": "KuK2JHnCdHHo"
      },
      "source": [
        ""
      ],
      "id": "KuK2JHnCdHHo",
      "execution_count": null,
      "outputs": []
    }
  ]
}