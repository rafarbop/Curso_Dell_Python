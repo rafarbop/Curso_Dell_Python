{
  "nbformat": 4,
  "nbformat_minor": 5,
  "metadata": {
    "kernelspec": {
      "display_name": "Python 3",
      "language": "python",
      "name": "python3"
    },
    "language_info": {
      "codemirror_mode": {
        "name": "ipython",
        "version": 3
      },
      "file_extension": ".py",
      "mimetype": "text/x-python",
      "name": "python",
      "nbconvert_exporter": "python",
      "pygments_lexer": "ipython3",
      "version": "3.8.10"
    },
    "colab": {
      "name": "PythonML_001.2.ipynb",
      "provenance": []
    }
  },
  "cells": [
    {
      "cell_type": "markdown",
      "metadata": {
        "id": "07ee7807-3c1b-4562-8c25-ac31530b1ff8"
      },
      "source": [
        "## Curso de Python para Machine Learning"
      ],
      "id": "07ee7807-3c1b-4562-8c25-ac31530b1ff8"
    },
    {
      "cell_type": "markdown",
      "metadata": {
        "id": "fa713ce4-fa48-4f14-98ee-f9fb8e7e8936"
      },
      "source": [
        "---\n",
        "### Aula 1.2 - Funções da biblioteca padrão\n"
      ],
      "id": "fa713ce4-fa48-4f14-98ee-f9fb8e7e8936"
    },
    {
      "cell_type": "markdown",
      "metadata": {
        "id": "9b9e069a-884f-4b9e-b1d5-d5850e39bf62"
      },
      "source": [
        "> ### Itertools"
      ],
      "id": "9b9e069a-884f-4b9e-b1d5-d5850e39bf62"
    },
    {
      "cell_type": "code",
      "metadata": {
        "id": "3f5EzzDRTppO"
      },
      "source": [
        "import itertools\n",
        "contador = itertools.count()"
      ],
      "id": "3f5EzzDRTppO",
      "execution_count": 9,
      "outputs": []
    },
    {
      "cell_type": "code",
      "metadata": {
        "id": "a7khdFCcTrtV",
        "outputId": "036e7b5a-9810-4b97-a2a8-39c2f5ad0184",
        "colab": {
          "base_uri": "https://localhost:8080/"
        }
      },
      "source": [
        "print(type(contador))\n",
        "print(contador)\n",
        "next(contador)\n",
        "print(contador)"
      ],
      "id": "a7khdFCcTrtV",
      "execution_count": 12,
      "outputs": [
        {
          "output_type": "stream",
          "name": "stdout",
          "text": [
            "<class 'itertools.count'>\n",
            "count(2)\n",
            "count(3)\n"
          ]
        }
      ]
    }
  ]
}