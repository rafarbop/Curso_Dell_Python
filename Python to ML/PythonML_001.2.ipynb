{
 "cells": [
  {
   "cell_type": "markdown",
   "id": "07ee7807-3c1b-4562-8c25-ac31530b1ff8",
   "metadata": {},
   "source": [
    "## Curso de Python para Machine Learning"
   ]
  },
  {
   "cell_type": "markdown",
   "id": "fa713ce4-fa48-4f14-98ee-f9fb8e7e8936",
   "metadata": {},
   "source": [
    "---\n",
    "### Aula 1.2 - Funções da biblioteca padrão\n"
   ]
  },
  {
   "cell_type": "markdown",
   "id": "9b9e069a-884f-4b9e-b1d5-d5850e39bf62",
   "metadata": {},
   "source": [
    "> ### Itertools"
   ]
  }
 ],
 "metadata": {
  "kernelspec": {
   "display_name": "Python 3",
   "language": "python",
   "name": "python3"
  },
  "language_info": {
   "codemirror_mode": {
    "name": "ipython",
    "version": 3
   },
   "file_extension": ".py",
   "mimetype": "text/x-python",
   "name": "python",
   "nbconvert_exporter": "python",
   "pygments_lexer": "ipython3",
   "version": "3.8.10"
  }
 },
 "nbformat": 4,
 "nbformat_minor": 5
}
