{
 "cells": [
  {
   "cell_type": "markdown",
   "id": "6af904e5-3b27-40e9-a53b-21eace79bf9d",
   "metadata": {
    "tags": []
   },
   "source": [
    "## Exercícios de Expressões Regulares em Python"
   ]
  },
  {
   "cell_type": "markdown",
   "id": "9b3e95cb-13f0-4a4d-bd00-1bd047ddac64",
   "metadata": {},
   "source": [
    "Créditos:\n",
    "- https://medium.com/data-hackers/6-dicas-sobre-express%C3%B5es-regulares-em-python-238bed9ccdad\n",
    "- https://realpython.com/python-web-scraping-practical-introduction/"
   ]
  },
  {
   "cell_type": "markdown",
   "id": "ad3fce4b-0a74-4f75-a883-915d88550728",
   "metadata": {
    "tags": []
   },
   "source": [
    "### Exercício 01\n",
    "\n",
    "Acessar o site https://www.gutenberg.org/browse/scores/top e salvar os dados dos 10 primeiros livros mais baixados nos últimos 30 dias.\n",
    "\n",
    "No site os dados se encontram com a seguinte estrutura:\n",
    "1. Pride and Prejudice by Jane Austen (55154)\n",
    "2. Nome do Livro by Nome do Autor (Número de Downloads)\n",
    "\n",
    "Extrair apenas o número de downloads e depois os nomes dos livros e os nomes dos autores, colocando tudo isso em um DataFrame do Pandas."
   ]
  },
  {
   "cell_type": "code",
   "execution_count": 4,
   "id": "2221de70-f2b8-4e6e-9ef5-42f685527d69",
   "metadata": {},
   "outputs": [],
   "source": [
    "url = 'https://www.gutenberg.org/browse/scores/top'"
   ]
  },
  {
   "cell_type": "code",
   "execution_count": 5,
   "id": "23b7f340-6e3c-4d7d-a6ff-46365b373a71",
   "metadata": {},
   "outputs": [],
   "source": [
    "from urllib.request import urlopen"
   ]
  },
  {
   "cell_type": "code",
   "execution_count": 28,
   "id": "0b994e23-f4fd-464f-bebe-257be6f452a2",
   "metadata": {},
   "outputs": [],
   "source": [
    "page = urlopen(url)\n",
    "html_bytes = page.read()\n",
    "a = html_bytes\n",
    "html = html_bytes.decode(\"utf-8\")"
   ]
  },
  {
   "cell_type": "code",
   "execution_count": 148,
   "id": "b8933630-3daa-4502-ae3c-d73958989669",
   "metadata": {},
   "outputs": [],
   "source": [
    "# Dividindo o texto do html a partir do id 'books-last30'\n",
    "top_100ebooks_last30days = html[html.find('id=\"books-last30\"'):]\n",
    "# Pesquisando o início e fim da lista ordenada que contém os dados\n",
    "ol_tag_open_index = top_100ebooks_last30days.find(\"<ol>\")\n",
    "ol_tag_close_index = top_100ebooks_last30days.find(\"</ol>\")\n",
    "top_100ebooks_last30days_li_tags = top_100ebooks_last30days[ol_tag_open_index+4:ol_tag_close_index]"
   ]
  },
  {
   "cell_type": "code",
   "execution_count": 149,
   "id": "dad23b18-f00c-40a1-825b-1627ce094fbc",
   "metadata": {},
   "outputs": [
    {
     "name": "stdout",
     "output_type": "stream",
     "text": [
      "Frankenstein; Or, The Modern Prometheus by Mary Wollstonecraft Shelley (82946)\n",
      "Pride and Prejudice by Jane Austen (55154)\n",
      "The Scarlet Letter by Nathaniel Hawthorne (36913)\n",
      "Alice's Adventures in Wonderland by Lewis Carroll (28075)\n",
      "Dracula by Bram Stoker (26084)\n",
      "Moby Dick; Or, The Whale by Herman Melville (23754)\n",
      "A Christmas Carol in Prose; Being a Ghost Story of Christmas by Charles Dickens (22068)\n",
      "A Doll's House : a play by Henrik Ibsen (21301)\n",
      "The Picture of Dorian Gray by Oscar Wilde (20960)\n",
      "The Adventures of Sherlock Holmes by Arthur Conan Doyle (20400)\n"
     ]
    }
   ],
   "source": [
    "# Texto dos 10 primeiros livros mais baixados nos últimos 30 dias\n",
    "top_10 = '\\n'.join(re.findall(r'>([^<>/=\\n]+)<',top_100ebooks_last30days_li_tags)[:10])\n",
    "print(top_10)"
   ]
  },
  {
   "cell_type": "code",
   "execution_count": 152,
   "id": "ea721edd-0967-481c-b9b5-d1d14a7e85d6",
   "metadata": {},
   "outputs": [
    {
     "data": {
      "text/plain": [
       "['(82946)',\n",
       " '(55154)',\n",
       " '(36913)',\n",
       " '(28075)',\n",
       " '(26084)',\n",
       " '(23754)',\n",
       " '(22068)',\n",
       " '(21301)',\n",
       " '(20960)',\n",
       " '(20400)']"
      ]
     },
     "execution_count": 152,
     "metadata": {},
     "output_type": "execute_result"
    }
   ],
   "source": [
    "# Salvando os dados downloads\n",
    "downloads = re.findall(r'\\(\\d+\\)',top_10)\n",
    "downloads"
   ]
  },
  {
   "cell_type": "code",
   "execution_count": 184,
   "id": "20150c35-66e2-41c8-bba2-5e1b45a4e42b",
   "metadata": {},
   "outputs": [
    {
     "data": {
      "text/plain": [
       "['Frankenstein; Or, The Modern Prometheus by',\n",
       " 'Pride and Prejudice by',\n",
       " 'The Scarlet Letter by',\n",
       " \"Alice's Adventures in Wonderland by\",\n",
       " 'Dracula by',\n",
       " 'Moby Dick; Or, The Whale by',\n",
       " 'A Christmas Carol in Prose; Being a Ghost Story of Christmas by',\n",
       " \"A Doll's House : a play by\",\n",
       " 'The Picture of Dorian Gray by',\n",
       " 'The Adventures of Sherlock Holmes by']"
      ]
     },
     "execution_count": 184,
     "metadata": {},
     "output_type": "execute_result"
    }
   ],
   "source": [
    "books_names_with_by = re.findall(r'.+\\sby',top_10) \n",
    "books_names_with_by"
   ]
  },
  {
   "cell_type": "code",
   "execution_count": 194,
   "id": "8b39e017-d17c-4952-9033-990012f69098",
   "metadata": {},
   "outputs": [
    {
     "data": {
      "text/plain": [
       "[' by Mary Wollstonecraft Shelley ',\n",
       " ' by Jane Austen ',\n",
       " ' by Nathaniel Hawthorne ',\n",
       " ' by Lewis Carroll ',\n",
       " ' by Bram Stoker ',\n",
       " ' by Herman Melville ',\n",
       " ' by Charles Dickens ',\n",
       " ' by Henrik Ibsen ',\n",
       " ' by Oscar Wilde ',\n",
       " ' by Arthur Conan Doyle ']"
      ]
     },
     "execution_count": 194,
     "metadata": {},
     "output_type": "execute_result"
    }
   ],
   "source": [
    "books_author_with_by = re.findall(r'\\sby\\s[\\w\\s.,]+',top_10)\n",
    "books_author_with_by"
   ]
  },
  {
   "cell_type": "code",
   "execution_count": 208,
   "id": "3b7d1265-33b2-46a4-836f-6e3fcb98b888",
   "metadata": {},
   "outputs": [],
   "source": [
    "top_10_2 = re.sub(r'\\s\\(\\d+\\)\\s', '\\n', top_10).splitlines()"
   ]
  },
  {
   "cell_type": "code",
   "execution_count": 209,
   "id": "49f22d7a-8fb2-43d5-a4c1-9309046e9b73",
   "metadata": {},
   "outputs": [
    {
     "data": {
      "text/plain": [
       "['Frankenstein; Or, The Modern Prometheus by Mary Wollstonecraft Shelley',\n",
       " 'Pride and Prejudice by Jane Austen',\n",
       " 'The Scarlet Letter by Nathaniel Hawthorne',\n",
       " \"Alice's Adventures in Wonderland by Lewis Carroll\",\n",
       " 'Dracula by Bram Stoker',\n",
       " 'Moby Dick; Or, The Whale by Herman Melville',\n",
       " 'A Christmas Carol in Prose; Being a Ghost Story of Christmas by Charles Dickens',\n",
       " \"A Doll's House : a play by Henrik Ibsen\",\n",
       " 'The Picture of Dorian Gray by Oscar Wilde',\n",
       " 'The Adventures of Sherlock Holmes by Arthur Conan Doyle (20400)']"
      ]
     },
     "execution_count": 209,
     "metadata": {},
     "output_type": "execute_result"
    }
   ],
   "source": [
    "top_10_2"
   ]
  },
  {
   "cell_type": "code",
   "execution_count": 210,
   "id": "7889569f-1f98-491a-a114-2e39fa935724",
   "metadata": {},
   "outputs": [
    {
     "data": {
      "text/plain": [
       "[['Frankenstein; Or, The Modern Prometheus', 'Mary Wollstonecraft Shelley'],\n",
       " ['Pride and Prejudice', 'Jane Austen'],\n",
       " ['The Scarlet Letter', 'Nathaniel Hawthorne'],\n",
       " [\"Alice's Adventures in Wonderland\", 'Lewis Carroll'],\n",
       " ['Dracula', 'Bram Stoker'],\n",
       " ['Moby Dick; Or, The Whale', 'Herman Melville'],\n",
       " ['A Christmas Carol in Prose; Being a Ghost Story of Christmas',\n",
       "  'Charles Dickens'],\n",
       " [\"A Doll's House : a play\", 'Henrik Ibsen'],\n",
       " ['The Picture of Dorian Gray', 'Oscar Wilde'],\n",
       " ['The Adventures of Sherlock Holmes', 'Arthur Conan Doyle (20400)']]"
      ]
     },
     "execution_count": 210,
     "metadata": {},
     "output_type": "execute_result"
    }
   ],
   "source": [
    "[re.split(r'\\sby\\s',item) for item in top_10_2 ]"
   ]
  },
  {
   "cell_type": "code",
   "execution_count": null,
   "id": "6c4aed6a-2db8-4ac5-9563-c422c7641cf2",
   "metadata": {},
   "outputs": [],
   "source": []
  }
 ],
 "metadata": {
  "kernelspec": {
   "display_name": "Python 3",
   "language": "python",
   "name": "python3"
  },
  "language_info": {
   "codemirror_mode": {
    "name": "ipython",
    "version": 3
   },
   "file_extension": ".py",
   "mimetype": "text/x-python",
   "name": "python",
   "nbconvert_exporter": "python",
   "pygments_lexer": "ipython3",
   "version": "3.8.10"
  }
 },
 "nbformat": 4,
 "nbformat_minor": 5
}
