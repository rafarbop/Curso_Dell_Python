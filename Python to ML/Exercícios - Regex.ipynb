{
 "cells": [
  {
   "cell_type": "markdown",
   "id": "6af904e5-3b27-40e9-a53b-21eace79bf9d",
   "metadata": {
    "tags": []
   },
   "source": [
    "## Exercícios de Expressões Regulares em Python"
   ]
  },
  {
   "cell_type": "markdown",
   "id": "9b3e95cb-13f0-4a4d-bd00-1bd047ddac64",
   "metadata": {},
   "source": [
    "Créditos:\n",
    "- https://medium.com/data-hackers/6-dicas-sobre-express%C3%B5es-regulares-em-python-238bed9ccdad\n",
    "- https://realpython.com/python-web-scraping-practical-introduction/"
   ]
  },
  {
   "cell_type": "markdown",
   "id": "ad3fce4b-0a74-4f75-a883-915d88550728",
   "metadata": {
    "tags": []
   },
   "source": [
    "### Exercício 01\n",
    "\n",
    "Acessar o site https://www.gutenberg.org/browse/scores/top e salvar os dados dos 10 primeiros livros mais baixados nos últimos 30 dias.\n",
    "\n",
    "No site os dados se encontram com a seguinte estrutura:\n",
    "1. Pride and Prejudice by Jane Austen (55154)\n",
    "2. Nome do Livro by Nome do Autor (Número de Downloads)\n",
    "\n",
    "Extrair apenas o número de downloads e depois os nomes dos livros e os nomes dos autores, colocando tudo isso em um DataFrame do Pandas."
   ]
  },
  {
   "cell_type": "code",
   "execution_count": 2,
   "id": "2221de70-f2b8-4e6e-9ef5-42f685527d69",
   "metadata": {},
   "outputs": [],
   "source": [
    "url = 'https://www.gutenberg.org/browse/scores/top'"
   ]
  },
  {
   "cell_type": "code",
   "execution_count": 3,
   "id": "23b7f340-6e3c-4d7d-a6ff-46365b373a71",
   "metadata": {},
   "outputs": [],
   "source": [
    "from urllib.request import urlopen\n",
    "import re"
   ]
  },
  {
   "cell_type": "code",
   "execution_count": 4,
   "id": "0b994e23-f4fd-464f-bebe-257be6f452a2",
   "metadata": {},
   "outputs": [],
   "source": [
    "page = urlopen(url)\n",
    "html_bytes = page.read()\n",
    "a = html_bytes\n",
    "html = html_bytes.decode(\"utf-8\")"
   ]
  },
  {
   "cell_type": "code",
   "execution_count": 5,
   "id": "b8933630-3daa-4502-ae3c-d73958989669",
   "metadata": {},
   "outputs": [],
   "source": [
    "# Dividindo o texto do html a partir do id 'books-last30'\n",
    "top_100ebooks_last30days = html[html.find('id=\"books-last30\"'):]\n",
    "# Pesquisando o início e fim da lista ordenada que contém os dados\n",
    "ol_tag_open_index = top_100ebooks_last30days.find(\"<ol>\")\n",
    "ol_tag_close_index = top_100ebooks_last30days.find(\"</ol>\")\n",
    "top_100ebooks_last30days_li_tags = top_100ebooks_last30days[ol_tag_open_index+4:ol_tag_close_index]"
   ]
  },
  {
   "cell_type": "code",
   "execution_count": 99,
   "id": "dad23b18-f00c-40a1-825b-1627ce094fbc",
   "metadata": {},
   "outputs": [
    {
     "name": "stdout",
     "output_type": "stream",
     "text": [
      "Frankenstein; Or, The Modern Prometheus by Mary Wollstonecraft Shelley (90498)\n",
      "Pride and Prejudice by Jane Austen (57630)\n",
      "The Scarlet Letter by Nathaniel Hawthorne (39513)\n",
      "Alice's Adventures in Wonderland by Lewis Carroll (28206)\n",
      "Dracula by Bram Stoker (27095)\n",
      "A Christmas Carol in Prose; Being a Ghost Story of Christmas by Charles Dickens (24647)\n",
      "Moby Dick; Or, The Whale by Herman Melville (24262)\n",
      "A Doll's House : a play by Henrik Ibsen (22744)\n",
      "The Picture of Dorian Gray by Oscar Wilde (21970)\n",
      "A Modest Proposal by Jonathan Swift (20993)\n"
     ]
    }
   ],
   "source": [
    "# Texto dos 10 primeiros livros mais baixados nos últimos 30 dias\n",
    "top_10 = '\\n'.join(re.findall(r'>([^<>/=\\n]+)<',top_100ebooks_last30days_li_tags)[:10])\n",
    "print(top_10)"
   ]
  },
  {
   "cell_type": "code",
   "execution_count": 20,
   "id": "ea721edd-0967-481c-b9b5-d1d14a7e85d6",
   "metadata": {},
   "outputs": [
    {
     "data": {
      "text/plain": [
       "['90498',\n",
       " '57630',\n",
       " '39513',\n",
       " '28206',\n",
       " '27095',\n",
       " '24647',\n",
       " '24262',\n",
       " '22744',\n",
       " '21970',\n",
       " '20993']"
      ]
     },
     "execution_count": 20,
     "metadata": {},
     "output_type": "execute_result"
    }
   ],
   "source": [
    "# Salvando os dados downloads\n",
    "downloads = re.findall(r'(\\d+)',top_10)\n",
    "downloads"
   ]
  },
  {
   "cell_type": "code",
   "execution_count": 57,
   "id": "20150c35-66e2-41c8-bba2-5e1b45a4e42b",
   "metadata": {},
   "outputs": [
    {
     "data": {
      "text/plain": [
       "['Frankenstein; Or, The Modern Prometheus',\n",
       " 'Pride and Prejudice',\n",
       " 'The Scarlet Letter',\n",
       " \"Alice's Adventures in Wonderland\",\n",
       " 'Dracula',\n",
       " 'A Christmas Carol in Prose; Being a Ghost Story of Christmas',\n",
       " 'Moby Dick; Or, The Whale',\n",
       " \"A Doll's House : a play\",\n",
       " 'The Picture of Dorian Gray',\n",
       " 'A Modest Proposal']"
      ]
     },
     "execution_count": 57,
     "metadata": {},
     "output_type": "execute_result"
    }
   ],
   "source": [
    "books_names = re.findall(r'.+(?=\\sby)',top_10) \n",
    "books_names"
   ]
  },
  {
   "cell_type": "code",
   "execution_count": 60,
   "id": "8b39e017-d17c-4952-9033-990012f69098",
   "metadata": {},
   "outputs": [
    {
     "data": {
      "text/plain": [
       "['Mary Wollstonecraft Shelley ',\n",
       " 'Jane Austen ',\n",
       " 'Nathaniel Hawthorne ',\n",
       " 'Lewis Carroll ',\n",
       " 'Bram Stoker ',\n",
       " 'Charles Dickens ',\n",
       " 'Herman Melville ',\n",
       " 'Henrik Ibsen ',\n",
       " 'Oscar Wilde ',\n",
       " 'Jonathan Swift ']"
      ]
     },
     "execution_count": 60,
     "metadata": {},
     "output_type": "execute_result"
    }
   ],
   "source": [
    "books_author = re.findall(r'(?<=\\sby\\s)[\\w\\s.,]+',top_10)\n",
    "books_author"
   ]
  },
  {
   "cell_type": "code",
   "execution_count": 67,
   "id": "6c4aed6a-2db8-4ac5-9563-c422c7641cf2",
   "metadata": {},
   "outputs": [],
   "source": [
    "import pandas\n",
    "from IPython.display import HTML"
   ]
  },
  {
   "cell_type": "code",
   "execution_count": 96,
   "id": "14c09c53-e229-4354-b469-b6643e5ee560",
   "metadata": {},
   "outputs": [],
   "source": [
    "df = pandas.DataFrame({\n",
    "    'Books Title':books_names,\n",
    "    'Author': books_author,\n",
    "    'Downloads': downloads\n",
    "})\n",
    "df.index = range(1,len(df)+1)"
   ]
  },
  {
   "cell_type": "code",
   "execution_count": 97,
   "id": "2a12f5b5-6099-4d82-b309-6bf7f3cfe0b2",
   "metadata": {},
   "outputs": [
    {
     "data": {
      "text/html": [
       "<div>\n",
       "<style scoped>\n",
       "    .dataframe tbody tr th:only-of-type {\n",
       "        vertical-align: middle;\n",
       "    }\n",
       "\n",
       "    .dataframe tbody tr th {\n",
       "        vertical-align: top;\n",
       "    }\n",
       "\n",
       "    .dataframe thead th {\n",
       "        text-align: right;\n",
       "    }\n",
       "</style>\n",
       "<table border=\"1\" class=\"dataframe\">\n",
       "  <thead>\n",
       "    <tr style=\"text-align: right;\">\n",
       "      <th></th>\n",
       "      <th>Books Title</th>\n",
       "      <th>Author</th>\n",
       "      <th>Downloads</th>\n",
       "    </tr>\n",
       "  </thead>\n",
       "  <tbody>\n",
       "    <tr>\n",
       "      <th>1</th>\n",
       "      <td>Frankenstein; Or, The Modern Prometheus</td>\n",
       "      <td>Mary Wollstonecraft Shelley</td>\n",
       "      <td>90498</td>\n",
       "    </tr>\n",
       "    <tr>\n",
       "      <th>2</th>\n",
       "      <td>Pride and Prejudice</td>\n",
       "      <td>Jane Austen</td>\n",
       "      <td>57630</td>\n",
       "    </tr>\n",
       "    <tr>\n",
       "      <th>3</th>\n",
       "      <td>The Scarlet Letter</td>\n",
       "      <td>Nathaniel Hawthorne</td>\n",
       "      <td>39513</td>\n",
       "    </tr>\n",
       "    <tr>\n",
       "      <th>4</th>\n",
       "      <td>Alice's Adventures in Wonderland</td>\n",
       "      <td>Lewis Carroll</td>\n",
       "      <td>28206</td>\n",
       "    </tr>\n",
       "    <tr>\n",
       "      <th>5</th>\n",
       "      <td>Dracula</td>\n",
       "      <td>Bram Stoker</td>\n",
       "      <td>27095</td>\n",
       "    </tr>\n",
       "    <tr>\n",
       "      <th>6</th>\n",
       "      <td>A Christmas Carol in Prose; Being a Ghost Stor...</td>\n",
       "      <td>Charles Dickens</td>\n",
       "      <td>24647</td>\n",
       "    </tr>\n",
       "    <tr>\n",
       "      <th>7</th>\n",
       "      <td>Moby Dick; Or, The Whale</td>\n",
       "      <td>Herman Melville</td>\n",
       "      <td>24262</td>\n",
       "    </tr>\n",
       "    <tr>\n",
       "      <th>8</th>\n",
       "      <td>A Doll's House : a play</td>\n",
       "      <td>Henrik Ibsen</td>\n",
       "      <td>22744</td>\n",
       "    </tr>\n",
       "    <tr>\n",
       "      <th>9</th>\n",
       "      <td>The Picture of Dorian Gray</td>\n",
       "      <td>Oscar Wilde</td>\n",
       "      <td>21970</td>\n",
       "    </tr>\n",
       "    <tr>\n",
       "      <th>10</th>\n",
       "      <td>A Modest Proposal</td>\n",
       "      <td>Jonathan Swift</td>\n",
       "      <td>20993</td>\n",
       "    </tr>\n",
       "  </tbody>\n",
       "</table>\n",
       "</div>"
      ],
      "text/plain": [
       "                                          Books Title  \\\n",
       "1             Frankenstein; Or, The Modern Prometheus   \n",
       "2                                 Pride and Prejudice   \n",
       "3                                  The Scarlet Letter   \n",
       "4                    Alice's Adventures in Wonderland   \n",
       "5                                             Dracula   \n",
       "6   A Christmas Carol in Prose; Being a Ghost Stor...   \n",
       "7                            Moby Dick; Or, The Whale   \n",
       "8                             A Doll's House : a play   \n",
       "9                          The Picture of Dorian Gray   \n",
       "10                                  A Modest Proposal   \n",
       "\n",
       "                          Author Downloads  \n",
       "1   Mary Wollstonecraft Shelley      90498  \n",
       "2                   Jane Austen      57630  \n",
       "3           Nathaniel Hawthorne      39513  \n",
       "4                 Lewis Carroll      28206  \n",
       "5                   Bram Stoker      27095  \n",
       "6               Charles Dickens      24647  \n",
       "7               Herman Melville      24262  \n",
       "8                  Henrik Ibsen      22744  \n",
       "9                   Oscar Wilde      21970  \n",
       "10               Jonathan Swift      20993  "
      ]
     },
     "execution_count": 97,
     "metadata": {},
     "output_type": "execute_result"
    }
   ],
   "source": [
    "df"
   ]
  }
 ],
 "metadata": {
  "kernelspec": {
   "display_name": "Python 3",
   "language": "python",
   "name": "python3"
  },
  "language_info": {
   "codemirror_mode": {
    "name": "ipython",
    "version": 3
   },
   "file_extension": ".py",
   "mimetype": "text/x-python",
   "name": "python",
   "nbconvert_exporter": "python",
   "pygments_lexer": "ipython3",
   "version": "3.8.10"
  }
 },
 "nbformat": 4,
 "nbformat_minor": 5
}
