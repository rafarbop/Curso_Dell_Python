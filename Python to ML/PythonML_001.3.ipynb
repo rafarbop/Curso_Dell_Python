{
 "cells": [
  {
   "cell_type": "markdown",
   "id": "2ba3d052-3255-4e89-a789-4b88f210f146",
   "metadata": {
    "tags": []
   },
   "source": [
    "# Curso de Python para Machine Learning"
   ]
  },
  {
   "cell_type": "markdown",
   "id": "5274afc2-eab4-49cf-8158-435baa6ae040",
   "metadata": {
    "tags": []
   },
   "source": [
    "---\n",
    "## Aula 1.3 - Trabalhando com Datas"
   ]
  },
  {
   "cell_type": "markdown",
   "id": "92b3eb85-0369-415a-a877-17466f547810",
   "metadata": {
    "jp-MarkdownHeadingCollapsed": true,
    "tags": []
   },
   "source": [
    "### Conhecendo a Biblioteca datetime"
   ]
  },
  {
   "cell_type": "markdown",
   "id": "e45b9ceb-4750-4d18-a721-98a5c8f9d870",
   "metadata": {},
   "source": [
    "Existem muitas formas e bibliotecas em python que podemos usar para trabalhar com datas, horas e tempo\n",
    "\n",
    "Umas das principais e mais utilizadas e a `datetime`\n",
    "\n",
    "Primeiro vamos criar alguns objetos do tipo `date` e ver que dia é hoje"
   ]
  },
  {
   "cell_type": "code",
   "execution_count": 23,
   "id": "a12f18fe-b0e7-4bfa-a8df-609245392b99",
   "metadata": {},
   "outputs": [],
   "source": [
    "from datetime import date,timedelta"
   ]
  },
  {
   "cell_type": "code",
   "execution_count": 24,
   "id": "cd538403-7db6-4700-b2fa-542511366095",
   "metadata": {},
   "outputs": [
    {
     "name": "stdout",
     "output_type": "stream",
     "text": [
      "2021-06-18\n",
      "<class 'datetime.date'>\n"
     ]
    }
   ],
   "source": [
    "rafa_niver = date(2021,6,18)\n",
    "print(rafa_niver)\n",
    "print(type(rafa_niver))"
   ]
  },
  {
   "cell_type": "code",
   "execution_count": 25,
   "id": "47b10afc-6bff-4a4f-b950-7e86aabc0ac1",
   "metadata": {},
   "outputs": [
    {
     "data": {
      "text/plain": [
       "datetime.date(2021, 11, 13)"
      ]
     },
     "execution_count": 25,
     "metadata": {},
     "output_type": "execute_result"
    }
   ],
   "source": [
    "date.today()"
   ]
  },
  {
   "cell_type": "markdown",
   "id": "093a8bf0-50ae-488b-a042-f38bae0926c4",
   "metadata": {},
   "source": [
    "Abaixo algumas informações de data relativas aos dias de atividades suspensas ou remotas no IFCE"
   ]
  },
  {
   "cell_type": "code",
   "execution_count": 26,
   "id": "e2460c4a-f279-4e3a-b679-900d1df07f4a",
   "metadata": {},
   "outputs": [],
   "source": [
    "pandemia_ifce_inicio = date(2020,3,17)"
   ]
  },
  {
   "cell_type": "code",
   "execution_count": 27,
   "id": "fb888820-c862-4702-9ea7-5bd32feff619",
   "metadata": {},
   "outputs": [
    {
     "name": "stdout",
     "output_type": "stream",
     "text": [
      "A suspensão de atividades presenciais no IFCE começou há: 606 dias\n",
      "\n",
      "Já faz mais de 1 ano que o IFCE parou devido a pandemia!\n",
      "\n",
      "O ifce suspendeu as atividades presenciais devido a pandemia em :2020-03-17\n",
      "O ifce voltou, parcialmente, as atividades presenciais em       :2021-09-25\n",
      "O ifce permaneceu com as atividades suspensas ou remotas por    :558\n"
     ]
    }
   ],
   "source": [
    "qtd_dias_remoto_ifce = (date.today() - pandemia_ifce_inicio).days\n",
    "print(f\"A suspensão de atividades presenciais no IFCE começou há: {qtd_dias_remoto_ifce} dias\\n\")\n",
    "\n",
    "if (qtd_dias_remoto_ifce > 365*2):\n",
    "    print(\"Já fazem mais de 2 anos que o IFCE parou devido a pandemia!\\n\")\n",
    "elif (qtd_dias_remoto_ifce > 365*1):\n",
    "    print(\"Já faz mais de 1 ano que o IFCE parou devido a pandemia!\\n\")\n",
    "    \n",
    "volta_ifce_fase_1 = date(2021,9,25)\n",
    "dias_atividades_remotas = (volta_ifce_fase_1-pandemia_ifce_inicio).days+1\n",
    "print(f\"O ifce suspendeu as atividades presenciais devido a pandemia em :{pandemia_ifce_inicio}\")\n",
    "print(f\"O ifce voltou, parcialmente, as atividades presenciais em       :{volta_ifce_fase_1}\")\n",
    "print(f\"O ifce permaneceu com as atividades suspensas ou remotas por    :{dias_atividades_remotas}\")"
   ]
  },
  {
   "cell_type": "markdown",
   "id": "566ed819-d10b-428f-8622-c14ba7c6e434",
   "metadata": {},
   "source": [
    "Ao realizar diferença entre datas ou para somar dias a uma data, utilizamos um tipo auxiliar do módulo datetime `timedelta`.  Ele armazena uma certa quantidade de dias, segundos, minutos."
   ]
  },
  {
   "cell_type": "code",
   "execution_count": 28,
   "id": "1ddc8a9a-caf1-4e59-8976-c839c544b2b0",
   "metadata": {},
   "outputs": [
    {
     "name": "stdout",
     "output_type": "stream",
     "text": [
      "12201 days, 0:00:00\n",
      "<class 'datetime.timedelta'>\n"
     ]
    }
   ],
   "source": [
    "dias_nascimento = date.today()-date(1988,6,18)\n",
    "print(dias_nascimento)\n",
    "print(type(dias_nascimento))"
   ]
  },
  {
   "cell_type": "markdown",
   "id": "2d1666ca-41c8-40c6-ba65-b1ab4938d949",
   "metadata": {},
   "source": [
    "Podemos somar uma certa quantidade de dias a uma certa data utilizando `timedelta`  \n",
    "Por exemplo para somar 100 dias a dara de hoje:"
   ]
  },
  {
   "cell_type": "code",
   "execution_count": 29,
   "id": "e67c6e46-7519-44e3-a389-f057d667df28",
   "metadata": {},
   "outputs": [
    {
     "data": {
      "text/plain": [
       "datetime.date(2022, 2, 21)"
      ]
     },
     "execution_count": 29,
     "metadata": {},
     "output_type": "execute_result"
    }
   ],
   "source": [
    "date.today()+timedelta(100)"
   ]
  },
  {
   "cell_type": "markdown",
   "id": "9ae65849-270a-4e3b-926f-50982114bdd7",
   "metadata": {},
   "source": [
    "Somando 15 semanas a data de hoje"
   ]
  },
  {
   "cell_type": "code",
   "execution_count": 30,
   "id": "1f988d2f-08fd-48da-8e9a-01bfe4445bd9",
   "metadata": {},
   "outputs": [
    {
     "data": {
      "text/plain": [
       "datetime.date(2022, 2, 26)"
      ]
     },
     "execution_count": 30,
     "metadata": {},
     "output_type": "execute_result"
    }
   ],
   "source": [
    "date.today()+timedelta(weeks=15)"
   ]
  },
  {
   "cell_type": "markdown",
   "id": "f4126d34-b46e-47a5-81d7-eb869041878d",
   "metadata": {},
   "source": [
    "**Ordenando data por mês**\n",
    "\n",
    "Para ordenar datas com `sorted` da forma padrão - sem nenhum parametro adicional - a ordenação ocorrerá primeiro por ano, depois por mês e depois por dia.\n",
    "\n",
    "No caso de querermos organizar por mês as datas de nascimento de um grupo de pessoas para ver quem faz aniversário no mesmo mês, podemos fazer da seguinte forma:"
   ]
  },
  {
   "cell_type": "code",
   "execution_count": 31,
   "id": "9c488869-92e5-492f-b8ce-465f00198e42",
   "metadata": {},
   "outputs": [],
   "source": [
    "datas = [date(2016, 7, 6), date(2012, 10, 24), date(2020, 3, 19),\n",
    "        date(2021, 8, 24), date(2021, 8, 12), date(2013, 5, 29),\n",
    "        date(2018, 9, 2), date(2019, 1, 19), date(2012, 7, 2),\n",
    "        date(2018, 9, 5)]"
   ]
  },
  {
   "cell_type": "code",
   "execution_count": 32,
   "id": "4be6aaed-d557-44ab-ab04-2dd6e20f2db6",
   "metadata": {},
   "outputs": [
    {
     "data": {
      "text/plain": [
       "[datetime.date(2012, 7, 2),\n",
       " datetime.date(2012, 10, 24),\n",
       " datetime.date(2013, 5, 29),\n",
       " datetime.date(2016, 7, 6),\n",
       " datetime.date(2018, 9, 2),\n",
       " datetime.date(2018, 9, 5),\n",
       " datetime.date(2019, 1, 19),\n",
       " datetime.date(2020, 3, 19),\n",
       " datetime.date(2021, 8, 12),\n",
       " datetime.date(2021, 8, 24)]"
      ]
     },
     "execution_count": 32,
     "metadata": {},
     "output_type": "execute_result"
    }
   ],
   "source": [
    "sorted(datas)"
   ]
  },
  {
   "cell_type": "code",
   "execution_count": 33,
   "id": "3109a9aa-1967-40e2-9627-bb2a1e5c7f3a",
   "metadata": {},
   "outputs": [
    {
     "data": {
      "text/plain": [
       "[datetime.date(2019, 1, 19),\n",
       " datetime.date(2020, 3, 19),\n",
       " datetime.date(2013, 5, 29),\n",
       " datetime.date(2016, 7, 6),\n",
       " datetime.date(2012, 7, 2),\n",
       " datetime.date(2021, 8, 24),\n",
       " datetime.date(2021, 8, 12),\n",
       " datetime.date(2018, 9, 2),\n",
       " datetime.date(2018, 9, 5),\n",
       " datetime.date(2012, 10, 24)]"
      ]
     },
     "execution_count": 33,
     "metadata": {},
     "output_type": "execute_result"
    }
   ],
   "source": [
    "sorted(datas, key=lambda x: x.month)"
   ]
  },
  {
   "cell_type": "markdown",
   "id": "13b177eb-09c8-4e9b-bb4b-30a7eab2d293",
   "metadata": {},
   "source": [
    "Da forma como foi feito acima temos as datas ordenadas por mês, porém os dias e anos estão de acordo com a ordem no objeto de origem.  \n",
    "Para ordenar por mês e depois por ano e por fim por dia:"
   ]
  },
  {
   "cell_type": "code",
   "execution_count": 34,
   "id": "9cb45378-cb54-4645-80d1-25bc39981118",
   "metadata": {},
   "outputs": [
    {
     "data": {
      "text/plain": [
       "[datetime.date(2019, 1, 19),\n",
       " datetime.date(2020, 3, 19),\n",
       " datetime.date(2013, 5, 29),\n",
       " datetime.date(2012, 7, 2),\n",
       " datetime.date(2016, 7, 6),\n",
       " datetime.date(2021, 8, 12),\n",
       " datetime.date(2021, 8, 24),\n",
       " datetime.date(2018, 9, 2),\n",
       " datetime.date(2018, 9, 5),\n",
       " datetime.date(2012, 10, 24)]"
      ]
     },
     "execution_count": 34,
     "metadata": {},
     "output_type": "execute_result"
    }
   ],
   "source": [
    "sorted(datas, key=lambda x: [x.month,x.year,x.day])"
   ]
  },
  {
   "cell_type": "markdown",
   "id": "a88b2fc8-f1be-4084-94ea-64e56289d0bc",
   "metadata": {},
   "source": [
    "**Trabalhando com datas e horas**\n",
    "O método `datetime`, da biblioteca de mesmo nome `datetime`, pode ser usado para trabalharmos com datas e adicionalmente com horas, minutos, segundos e microsegundos.\n"
   ]
  },
  {
   "cell_type": "code",
   "execution_count": 35,
   "id": "332a30d0-cf78-401d-b807-1d41a4f8d333",
   "metadata": {},
   "outputs": [],
   "source": [
    "from datetime import datetime, timedelta"
   ]
  },
  {
   "cell_type": "code",
   "execution_count": 36,
   "id": "d50d6ebc-4f3f-4f09-89bf-9d1c2d376594",
   "metadata": {},
   "outputs": [
    {
     "name": "stdout",
     "output_type": "stream",
     "text": [
      "A Data e Hora atual é 2021-11-13 22:22:10.416525\n"
     ]
    }
   ],
   "source": [
    "hora_atual = datetime.now()\n",
    "print(f\"A Data e Hora atual é {hora_atual}\")"
   ]
  },
  {
   "cell_type": "markdown",
   "id": "a799f57f-b730-4854-9e82-68de9ced7787",
   "metadata": {},
   "source": [
    "Podemos criar objetos `datetime` passando somente as informações de data"
   ]
  },
  {
   "cell_type": "code",
   "execution_count": 37,
   "id": "9ace312b-b372-4a75-bbe9-17d2cd84846e",
   "metadata": {},
   "outputs": [
    {
     "name": "stdout",
     "output_type": "stream",
     "text": [
      "2021-12-07 00:00:00\n"
     ]
    }
   ],
   "source": [
    "print(datetime(2021,12,7))"
   ]
  },
  {
   "cell_type": "markdown",
   "id": "5f3d1ad7-2a32-43cb-9f3e-b6bf4511bc13",
   "metadata": {},
   "source": [
    "**Exemplo Prático 1**\n",
    "\n",
    "Criando alarmes e verificando se uma certa data e terça ou quinta\n",
    "\n",
    "Casdastrar uma lista com alarmes de uma semana às 20:30, porém dia de terça e quinta o alarme deverá ser 21:30"
   ]
  },
  {
   "cell_type": "code",
   "execution_count": 38,
   "id": "27537336-cad6-4637-abb7-643d1ec6f8c1",
   "metadata": {},
   "outputs": [
    {
     "name": "stdout",
     "output_type": "stream",
     "text": [
      "2021-11-01 20:30:00\n"
     ]
    }
   ],
   "source": [
    "# Data do primeiro alarme escolhido para 1 de novembro de 2021\n",
    "inicio = datetime(2021,11,1,20,30)\n",
    "print(inicio)"
   ]
  },
  {
   "cell_type": "code",
   "execution_count": 39,
   "id": "3636aff9-eb57-4f3a-b74c-d0eef6e1367f",
   "metadata": {},
   "outputs": [
    {
     "data": {
      "text/plain": [
       "[datetime.datetime(2021, 11, 1, 20, 30),\n",
       " datetime.datetime(2021, 11, 2, 20, 30),\n",
       " datetime.datetime(2021, 11, 3, 20, 30),\n",
       " datetime.datetime(2021, 11, 4, 20, 30),\n",
       " datetime.datetime(2021, 11, 5, 20, 30),\n",
       " datetime.datetime(2021, 11, 6, 20, 30),\n",
       " datetime.datetime(2021, 11, 7, 20, 30)]"
      ]
     },
     "execution_count": 39,
     "metadata": {},
     "output_type": "execute_result"
    }
   ],
   "source": [
    "semana = [ inicio + timedelta(day) for day in range(0,7)]\n",
    "semana"
   ]
  },
  {
   "cell_type": "code",
   "execution_count": 40,
   "id": "1e9d9ff2-9d99-4931-a77c-4cddb0d1bdf4",
   "metadata": {},
   "outputs": [],
   "source": [
    "semana_corrigido = []\n",
    "for alarm in semana:\n",
    "    if alarm.isoweekday() == 2 or alarm.isoweekday() == 4:\n",
    "        semana_corrigido.append(alarm + timedelta(hours=1))\n",
    "    else:\n",
    "        semana_corrigido.append(alarm)"
   ]
  },
  {
   "cell_type": "code",
   "execution_count": 41,
   "id": "9212c3c5-e0f9-4adc-b781-f8d000f5b339",
   "metadata": {},
   "outputs": [
    {
     "data": {
      "text/plain": [
       "[datetime.datetime(2021, 11, 1, 20, 30),\n",
       " datetime.datetime(2021, 11, 2, 21, 30),\n",
       " datetime.datetime(2021, 11, 3, 20, 30),\n",
       " datetime.datetime(2021, 11, 4, 21, 30),\n",
       " datetime.datetime(2021, 11, 5, 20, 30),\n",
       " datetime.datetime(2021, 11, 6, 20, 30),\n",
       " datetime.datetime(2021, 11, 7, 20, 30)]"
      ]
     },
     "execution_count": 41,
     "metadata": {},
     "output_type": "execute_result"
    }
   ],
   "source": [
    "semana_corrigido"
   ]
  },
  {
   "cell_type": "markdown",
   "id": "603f4c1e-da57-4330-aad2-092d6bce53f8",
   "metadata": {
    "tags": []
   },
   "source": [
    "### Datas e String"
   ]
  },
  {
   "cell_type": "code",
   "execution_count": null,
   "id": "2b820d08-d3dd-48b4-8130-f5dd6408efee",
   "metadata": {},
   "outputs": [],
   "source": []
  }
 ],
 "metadata": {
  "kernelspec": {
   "display_name": "Python 3",
   "language": "python",
   "name": "python3"
  },
  "language_info": {
   "codemirror_mode": {
    "name": "ipython",
    "version": 3
   },
   "file_extension": ".py",
   "mimetype": "text/x-python",
   "name": "python",
   "nbconvert_exporter": "python",
   "pygments_lexer": "ipython3",
   "version": "3.8.10"
  }
 },
 "nbformat": 4,
 "nbformat_minor": 5
}
